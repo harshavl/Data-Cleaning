{
 "cells": [
  {
   "cell_type": "markdown",
   "metadata": {},
   "source": [
    "## Anticipating Data Cleaning Issues when Importing Tabular Data into pandas"
   ]
  },
  {
   "cell_type": "markdown",
   "metadata": {},
   "source": [
    "Importing CSV files<br>\n",
    "Importing Excel files<br>\n",
    "Importing data from SQL databases<br>\n",
    "Importing SPSS, Stata, and SAS data<br>\n",
    "Importing R data<br>\n",
    "Persisting tabular data<br>"
   ]
  },
  {
   "cell_type": "code",
   "execution_count": 1,
   "metadata": {},
   "outputs": [],
   "source": [
    "import pandas as pd"
   ]
  },
  {
   "cell_type": "code",
   "execution_count": 2,
   "metadata": {},
   "outputs": [],
   "source": [
    "pd.options.display.float_format = '{:,.2f}'.format\n",
    "pd.set_option('display.width', 85)\n",
    "pd.set_option('display.max_columns', 8)"
   ]
  },
  {
   "cell_type": "code",
   "execution_count": 4,
   "metadata": {},
   "outputs": [],
   "source": [
    "landtemps = pd.read_csv('data/landtempssample.csv', names=['stationid','year','month','avgtemp','latitude','longitude','elevation','station','countryid','country'],\\\n",
    "                        skiprows=1,parse_dates=[['month','year']],low_memory=False)"
   ]
  },
  {
   "cell_type": "code",
   "execution_count": 5,
   "metadata": {},
   "outputs": [
    {
     "data": {
      "text/html": [
       "<div>\n",
       "<style scoped>\n",
       "    .dataframe tbody tr th:only-of-type {\n",
       "        vertical-align: middle;\n",
       "    }\n",
       "\n",
       "    .dataframe tbody tr th {\n",
       "        vertical-align: top;\n",
       "    }\n",
       "\n",
       "    .dataframe thead th {\n",
       "        text-align: right;\n",
       "    }\n",
       "</style>\n",
       "<table border=\"1\" class=\"dataframe\">\n",
       "  <thead>\n",
       "    <tr style=\"text-align: right;\">\n",
       "      <th></th>\n",
       "      <th>month_year</th>\n",
       "      <th>stationid</th>\n",
       "      <th>avgtemp</th>\n",
       "      <th>latitude</th>\n",
       "      <th>...</th>\n",
       "      <th>elevation</th>\n",
       "      <th>station</th>\n",
       "      <th>countryid</th>\n",
       "      <th>country</th>\n",
       "    </tr>\n",
       "  </thead>\n",
       "  <tbody>\n",
       "    <tr>\n",
       "      <th>0</th>\n",
       "      <td>2000-04-01</td>\n",
       "      <td>USS0010K01S</td>\n",
       "      <td>5.27</td>\n",
       "      <td>39.90</td>\n",
       "      <td>...</td>\n",
       "      <td>2,773.70</td>\n",
       "      <td>INDIAN_CANYON</td>\n",
       "      <td>US</td>\n",
       "      <td>United States</td>\n",
       "    </tr>\n",
       "    <tr>\n",
       "      <th>1</th>\n",
       "      <td>1940-05-01</td>\n",
       "      <td>CI000085406</td>\n",
       "      <td>18.04</td>\n",
       "      <td>-18.35</td>\n",
       "      <td>...</td>\n",
       "      <td>58.00</td>\n",
       "      <td>ARICA</td>\n",
       "      <td>CI</td>\n",
       "      <td>Chile</td>\n",
       "    </tr>\n",
       "    <tr>\n",
       "      <th>2</th>\n",
       "      <td>2013-12-01</td>\n",
       "      <td>USC00036376</td>\n",
       "      <td>6.22</td>\n",
       "      <td>34.37</td>\n",
       "      <td>...</td>\n",
       "      <td>61.00</td>\n",
       "      <td>SAINT_CHARLES</td>\n",
       "      <td>US</td>\n",
       "      <td>United States</td>\n",
       "    </tr>\n",
       "    <tr>\n",
       "      <th>3</th>\n",
       "      <td>1963-02-01</td>\n",
       "      <td>ASN00024002</td>\n",
       "      <td>22.93</td>\n",
       "      <td>-34.28</td>\n",
       "      <td>...</td>\n",
       "      <td>65.50</td>\n",
       "      <td>BERRI_IRRIGATION</td>\n",
       "      <td>AS</td>\n",
       "      <td>Australia</td>\n",
       "    </tr>\n",
       "    <tr>\n",
       "      <th>4</th>\n",
       "      <td>2001-11-01</td>\n",
       "      <td>ASN00028007</td>\n",
       "      <td>nan</td>\n",
       "      <td>-14.78</td>\n",
       "      <td>...</td>\n",
       "      <td>79.40</td>\n",
       "      <td>MUSGRAVE</td>\n",
       "      <td>AS</td>\n",
       "      <td>Australia</td>\n",
       "    </tr>\n",
       "  </tbody>\n",
       "</table>\n",
       "<p>5 rows × 9 columns</p>\n",
       "</div>"
      ],
      "text/plain": [
       "  month_year    stationid  avgtemp  latitude  ...  elevation           station  \\\n",
       "0 2000-04-01  USS0010K01S     5.27     39.90  ...   2,773.70     INDIAN_CANYON   \n",
       "1 1940-05-01  CI000085406    18.04    -18.35  ...      58.00             ARICA   \n",
       "2 2013-12-01  USC00036376     6.22     34.37  ...      61.00     SAINT_CHARLES   \n",
       "3 1963-02-01  ASN00024002    22.93    -34.28  ...      65.50  BERRI_IRRIGATION   \n",
       "4 2001-11-01  ASN00028007      nan    -14.78  ...      79.40          MUSGRAVE   \n",
       "\n",
       "  countryid        country  \n",
       "0        US  United States  \n",
       "1        CI          Chile  \n",
       "2        US  United States  \n",
       "3        AS      Australia  \n",
       "4        AS      Australia  \n",
       "\n",
       "[5 rows x 9 columns]"
      ]
     },
     "execution_count": 5,
     "metadata": {},
     "output_type": "execute_result"
    }
   ],
   "source": [
    "landtemps.head()"
   ]
  },
  {
   "cell_type": "code",
   "execution_count": 6,
   "metadata": {},
   "outputs": [
    {
     "data": {
      "text/plain": [
       "pandas.core.frame.DataFrame"
      ]
     },
     "execution_count": 6,
     "metadata": {},
     "output_type": "execute_result"
    }
   ],
   "source": [
    "type( landtemps)"
   ]
  },
  {
   "cell_type": "code",
   "execution_count": 7,
   "metadata": {},
   "outputs": [
    {
     "data": {
      "text/plain": [
       "month_year    datetime64[ns]\n",
       "stationid             object\n",
       "avgtemp              float64\n",
       "latitude             float64\n",
       "longitude            float64\n",
       "elevation            float64\n",
       "station               object\n",
       "countryid             object\n",
       "country               object\n",
       "dtype: object"
      ]
     },
     "execution_count": 7,
     "metadata": {},
     "output_type": "execute_result"
    }
   ],
   "source": [
    "landtemps.dtypes"
   ]
  },
  {
   "cell_type": "code",
   "execution_count": 8,
   "metadata": {},
   "outputs": [
    {
     "data": {
      "text/plain": [
       "(100000, 9)"
      ]
     },
     "execution_count": 8,
     "metadata": {},
     "output_type": "execute_result"
    }
   ],
   "source": [
    "landtemps.shape"
   ]
  },
  {
   "cell_type": "code",
   "execution_count": 9,
   "metadata": {},
   "outputs": [],
   "source": [
    "# Give the date column a better name and view the summary statistics for average monthly temperature:\n",
    "landtemps.rename(columns={'month_year':'measuredate'}, inplace=True)"
   ]
  },
  {
   "cell_type": "code",
   "execution_count": 10,
   "metadata": {},
   "outputs": [
    {
     "data": {
      "text/plain": [
       "measuredate    datetime64[ns]\n",
       "stationid              object\n",
       "avgtemp               float64\n",
       "latitude              float64\n",
       "longitude             float64\n",
       "elevation             float64\n",
       "station                object\n",
       "countryid              object\n",
       "country                object\n",
       "dtype: object"
      ]
     },
     "execution_count": 10,
     "metadata": {},
     "output_type": "execute_result"
    }
   ],
   "source": [
    "landtemps.dtypes"
   ]
  },
  {
   "cell_type": "code",
   "execution_count": 11,
   "metadata": {},
   "outputs": [
    {
     "data": {
      "text/plain": [
       "count   85,554.00\n",
       "mean        10.92\n",
       "std         11.52\n",
       "min        -70.70\n",
       "25%          3.46\n",
       "50%         12.22\n",
       "75%         19.57\n",
       "max         39.95\n",
       "Name: avgtemp, dtype: float64"
      ]
     },
     "execution_count": 11,
     "metadata": {},
     "output_type": "execute_result"
    }
   ],
   "source": [
    "landtemps.avgtemp.describe()"
   ]
  },
  {
   "cell_type": "code",
   "execution_count": 12,
   "metadata": {},
   "outputs": [
    {
     "data": {
      "text/plain": [
       "measuredate        0\n",
       "stationid          0\n",
       "avgtemp        14446\n",
       "latitude           0\n",
       "longitude          0\n",
       "elevation          0\n",
       "station            0\n",
       "countryid          0\n",
       "country            5\n",
       "dtype: int64"
      ]
     },
     "execution_count": 12,
     "metadata": {},
     "output_type": "execute_result"
    }
   ],
   "source": [
    "landtemps.isnull().sum()"
   ]
  },
  {
   "cell_type": "code",
   "execution_count": 13,
   "metadata": {},
   "outputs": [],
   "source": [
    "# Remove rows with missing data for avgtemp\n",
    "landtemps.dropna(subset=['avgtemp'], inplace=True)"
   ]
  },
  {
   "cell_type": "code",
   "execution_count": 14,
   "metadata": {},
   "outputs": [
    {
     "data": {
      "text/plain": [
       "(85554, 9)"
      ]
     },
     "execution_count": 14,
     "metadata": {},
     "output_type": "execute_result"
    }
   ],
   "source": [
    "landtemps.shape"
   ]
  },
  {
   "cell_type": "code",
   "execution_count": 15,
   "metadata": {},
   "outputs": [
    {
     "data": {
      "text/plain": [
       "measuredate    0\n",
       "stationid      0\n",
       "avgtemp        0\n",
       "latitude       0\n",
       "longitude      0\n",
       "elevation      0\n",
       "station        0\n",
       "countryid      0\n",
       "country        2\n",
       "dtype: int64"
      ]
     },
     "execution_count": 15,
     "metadata": {},
     "output_type": "execute_result"
    }
   ],
   "source": [
    "checknull = landtemps.isnull()\n",
    "checknull.sum()"
   ]
  },
  {
   "cell_type": "code",
   "execution_count": null,
   "metadata": {},
   "outputs": [],
   "source": [
    "\n"
   ]
  },
  {
   "cell_type": "code",
   "execution_count": 18,
   "metadata": {},
   "outputs": [],
   "source": [
    "#landtemps = pd.read_csv('data/landtemps.zip', compression='zip',names=['stationid','year','month','avgtemp','latitude','longitude','elevation','station','countryid','country'],skiprows=1,parse_dates=[['month','year']], low_memory=False)"
   ]
  },
  {
   "cell_type": "code",
   "execution_count": null,
   "metadata": {},
   "outputs": [],
   "source": [
    "\n"
   ]
  },
  {
   "cell_type": "code",
   "execution_count": 3,
   "metadata": {},
   "outputs": [],
   "source": [
    "percapitaGDP = pd.read_excel(\"data/GDPpercapita.xlsx\",sheet_name=\"OECD.Stat export\",skiprows=4,skipfooter=1,usecols=\"A,C:T\")"
   ]
  },
  {
   "cell_type": "code",
   "execution_count": 20,
   "metadata": {},
   "outputs": [
    {
     "data": {
      "text/html": [
       "<div>\n",
       "<style scoped>\n",
       "    .dataframe tbody tr th:only-of-type {\n",
       "        vertical-align: middle;\n",
       "    }\n",
       "\n",
       "    .dataframe tbody tr th {\n",
       "        vertical-align: top;\n",
       "    }\n",
       "\n",
       "    .dataframe thead th {\n",
       "        text-align: right;\n",
       "    }\n",
       "</style>\n",
       "<table border=\"1\" class=\"dataframe\">\n",
       "  <thead>\n",
       "    <tr style=\"text-align: right;\">\n",
       "      <th></th>\n",
       "      <th>Year</th>\n",
       "      <th>2001</th>\n",
       "      <th>2002</th>\n",
       "      <th>2003</th>\n",
       "      <th>...</th>\n",
       "      <th>2015</th>\n",
       "      <th>2016</th>\n",
       "      <th>2017</th>\n",
       "      <th>2018</th>\n",
       "    </tr>\n",
       "  </thead>\n",
       "  <tbody>\n",
       "    <tr>\n",
       "      <th>0</th>\n",
       "      <td>Metropolitan areas</td>\n",
       "      <td>NaN</td>\n",
       "      <td>NaN</td>\n",
       "      <td>NaN</td>\n",
       "      <td>...</td>\n",
       "      <td>NaN</td>\n",
       "      <td>NaN</td>\n",
       "      <td>NaN</td>\n",
       "      <td>NaN</td>\n",
       "    </tr>\n",
       "    <tr>\n",
       "      <th>1</th>\n",
       "      <td>AUS: Australia</td>\n",
       "      <td>..</td>\n",
       "      <td>..</td>\n",
       "      <td>..</td>\n",
       "      <td>...</td>\n",
       "      <td>..</td>\n",
       "      <td>..</td>\n",
       "      <td>..</td>\n",
       "      <td>..</td>\n",
       "    </tr>\n",
       "    <tr>\n",
       "      <th>2</th>\n",
       "      <td>AUS01: Greater Sydney</td>\n",
       "      <td>43313</td>\n",
       "      <td>44008</td>\n",
       "      <td>45424</td>\n",
       "      <td>...</td>\n",
       "      <td>50075</td>\n",
       "      <td>50519</td>\n",
       "      <td>50578</td>\n",
       "      <td>49860</td>\n",
       "    </tr>\n",
       "    <tr>\n",
       "      <th>3</th>\n",
       "      <td>AUS02: Greater Melbourne</td>\n",
       "      <td>40125</td>\n",
       "      <td>40894</td>\n",
       "      <td>41602</td>\n",
       "      <td>...</td>\n",
       "      <td>42928</td>\n",
       "      <td>42671</td>\n",
       "      <td>43025</td>\n",
       "      <td>42674</td>\n",
       "    </tr>\n",
       "    <tr>\n",
       "      <th>4</th>\n",
       "      <td>AUS03: Greater Brisbane</td>\n",
       "      <td>37580</td>\n",
       "      <td>37564</td>\n",
       "      <td>39080</td>\n",
       "      <td>...</td>\n",
       "      <td>44388</td>\n",
       "      <td>45723</td>\n",
       "      <td>46876</td>\n",
       "      <td>46640</td>\n",
       "    </tr>\n",
       "  </tbody>\n",
       "</table>\n",
       "<p>5 rows × 19 columns</p>\n",
       "</div>"
      ],
      "text/plain": [
       "                         Year   2001   2002   2003  ...   2015   2016   2017   2018\n",
       "0          Metropolitan areas    NaN    NaN    NaN  ...    NaN    NaN    NaN    NaN\n",
       "1              AUS: Australia     ..     ..     ..  ...     ..     ..     ..     ..\n",
       "2       AUS01: Greater Sydney  43313  44008  45424  ...  50075  50519  50578  49860\n",
       "3    AUS02: Greater Melbourne  40125  40894  41602  ...  42928  42671  43025  42674\n",
       "4     AUS03: Greater Brisbane  37580  37564  39080  ...  44388  45723  46876  46640\n",
       "\n",
       "[5 rows x 19 columns]"
      ]
     },
     "execution_count": 20,
     "metadata": {},
     "output_type": "execute_result"
    }
   ],
   "source": [
    "percapitaGDP.head()"
   ]
  },
  {
   "cell_type": "code",
   "execution_count": 21,
   "metadata": {},
   "outputs": [
    {
     "name": "stdout",
     "output_type": "stream",
     "text": [
      "<class 'pandas.core.frame.DataFrame'>\n",
      "RangeIndex: 702 entries, 0 to 701\n",
      "Data columns (total 19 columns):\n",
      " #   Column  Non-Null Count  Dtype \n",
      "---  ------  --------------  ----- \n",
      " 0   Year    702 non-null    object\n",
      " 1   2001    701 non-null    object\n",
      " 2   2002    701 non-null    object\n",
      " 3   2003    701 non-null    object\n",
      " 4   2004    701 non-null    object\n",
      " 5   2005    701 non-null    object\n",
      " 6   2006    701 non-null    object\n",
      " 7   2007    701 non-null    object\n",
      " 8   2008    701 non-null    object\n",
      " 9   2009    701 non-null    object\n",
      " 10  2010    701 non-null    object\n",
      " 11  2011    701 non-null    object\n",
      " 12  2012    701 non-null    object\n",
      " 13  2013    701 non-null    object\n",
      " 14  2014    701 non-null    object\n",
      " 15  2015    701 non-null    object\n",
      " 16  2016    701 non-null    object\n",
      " 17  2017    701 non-null    object\n",
      " 18  2018    701 non-null    object\n",
      "dtypes: object(19)\n",
      "memory usage: 104.3+ KB\n"
     ]
    }
   ],
   "source": [
    "percapitaGDP.info()"
   ]
  },
  {
   "cell_type": "code",
   "execution_count": 22,
   "metadata": {},
   "outputs": [],
   "source": [
    "#Rename the Year column to metro and remove the leading spaces\n",
    "percapitaGDP.rename(columns={'Year':'metro'}, inplace=True)"
   ]
  },
  {
   "cell_type": "code",
   "execution_count": 24,
   "metadata": {},
   "outputs": [
    {
     "data": {
      "text/plain": [
       "True"
      ]
     },
     "execution_count": 24,
     "metadata": {},
     "output_type": "execute_result"
    }
   ],
   "source": [
    "# We use strip to remove both leading and trailing spaces\n",
    "\n",
    "percapitaGDP.metro.str.startswith(' ').any()"
   ]
  },
  {
   "cell_type": "code",
   "execution_count": 25,
   "metadata": {},
   "outputs": [
    {
     "data": {
      "text/plain": [
       "True"
      ]
     },
     "execution_count": 25,
     "metadata": {},
     "output_type": "execute_result"
    }
   ],
   "source": [
    "percapitaGDP.metro.str.endswith(' ').any()"
   ]
  },
  {
   "cell_type": "code",
   "execution_count": 26,
   "metadata": {},
   "outputs": [],
   "source": [
    "percapitaGDP.metro = percapitaGDP.metro.str.strip()"
   ]
  },
  {
   "cell_type": "code",
   "execution_count": 27,
   "metadata": {},
   "outputs": [],
   "source": [
    "# Convert the data columns to numeric\n",
    "for col in percapitaGDP.columns[1:]:\n",
    "    percapitaGDP[col] = pd.to_numeric(percapitaGDP[col], errors='coerce')\n",
    "    percapitaGDP.rename(columns={col:'pcGDP'+col},inplace=True)\n",
    "    "
   ]
  },
  {
   "cell_type": "code",
   "execution_count": 29,
   "metadata": {},
   "outputs": [
    {
     "data": {
      "text/html": [
       "<div>\n",
       "<style scoped>\n",
       "    .dataframe tbody tr th:only-of-type {\n",
       "        vertical-align: middle;\n",
       "    }\n",
       "\n",
       "    .dataframe tbody tr th {\n",
       "        vertical-align: top;\n",
       "    }\n",
       "\n",
       "    .dataframe thead th {\n",
       "        text-align: right;\n",
       "    }\n",
       "</style>\n",
       "<table border=\"1\" class=\"dataframe\">\n",
       "  <thead>\n",
       "    <tr style=\"text-align: right;\">\n",
       "      <th></th>\n",
       "      <th>metro</th>\n",
       "      <th>pcGDP2001</th>\n",
       "      <th>pcGDP2002</th>\n",
       "      <th>pcGDP2003</th>\n",
       "      <th>...</th>\n",
       "      <th>pcGDP2015</th>\n",
       "      <th>pcGDP2016</th>\n",
       "      <th>pcGDP2017</th>\n",
       "      <th>pcGDP2018</th>\n",
       "    </tr>\n",
       "  </thead>\n",
       "  <tbody>\n",
       "    <tr>\n",
       "      <th>0</th>\n",
       "      <td>Metropolitan areas</td>\n",
       "      <td>nan</td>\n",
       "      <td>nan</td>\n",
       "      <td>nan</td>\n",
       "      <td>...</td>\n",
       "      <td>nan</td>\n",
       "      <td>nan</td>\n",
       "      <td>nan</td>\n",
       "      <td>nan</td>\n",
       "    </tr>\n",
       "    <tr>\n",
       "      <th>1</th>\n",
       "      <td>AUS: Australia</td>\n",
       "      <td>nan</td>\n",
       "      <td>nan</td>\n",
       "      <td>nan</td>\n",
       "      <td>...</td>\n",
       "      <td>nan</td>\n",
       "      <td>nan</td>\n",
       "      <td>nan</td>\n",
       "      <td>nan</td>\n",
       "    </tr>\n",
       "    <tr>\n",
       "      <th>2</th>\n",
       "      <td>AUS01: Greater Sydney</td>\n",
       "      <td>43,313.00</td>\n",
       "      <td>44,008.00</td>\n",
       "      <td>45,424.00</td>\n",
       "      <td>...</td>\n",
       "      <td>50,075.00</td>\n",
       "      <td>50,519.00</td>\n",
       "      <td>50,578.00</td>\n",
       "      <td>49,860.00</td>\n",
       "    </tr>\n",
       "  </tbody>\n",
       "</table>\n",
       "<p>3 rows × 19 columns</p>\n",
       "</div>"
      ],
      "text/plain": [
       "                   metro  pcGDP2001  pcGDP2002  pcGDP2003  ...  pcGDP2015  \\\n",
       "0     Metropolitan areas        nan        nan        nan  ...        nan   \n",
       "1         AUS: Australia        nan        nan        nan  ...        nan   \n",
       "2  AUS01: Greater Sydney  43,313.00  44,008.00  45,424.00  ...  50,075.00   \n",
       "\n",
       "   pcGDP2016  pcGDP2017  pcGDP2018  \n",
       "0        nan        nan        nan  \n",
       "1        nan        nan        nan  \n",
       "2  50,519.00  50,578.00  49,860.00  \n",
       "\n",
       "[3 rows x 19 columns]"
      ]
     },
     "execution_count": 29,
     "metadata": {},
     "output_type": "execute_result"
    }
   ],
   "source": [
    "percapitaGDP.head(3)"
   ]
  },
  {
   "cell_type": "code",
   "execution_count": 30,
   "metadata": {},
   "outputs": [
    {
     "data": {
      "text/plain": [
       "metro         object\n",
       "pcGDP2001    float64\n",
       "pcGDP2002    float64\n",
       "pcGDP2003    float64\n",
       "pcGDP2004    float64\n",
       "pcGDP2005    float64\n",
       "pcGDP2006    float64\n",
       "pcGDP2007    float64\n",
       "pcGDP2008    float64\n",
       "pcGDP2009    float64\n",
       "pcGDP2010    float64\n",
       "pcGDP2011    float64\n",
       "pcGDP2012    float64\n",
       "pcGDP2013    float64\n",
       "pcGDP2014    float64\n",
       "pcGDP2015    float64\n",
       "pcGDP2016    float64\n",
       "pcGDP2017    float64\n",
       "pcGDP2018    float64\n",
       "dtype: object"
      ]
     },
     "execution_count": 30,
     "metadata": {},
     "output_type": "execute_result"
    }
   ],
   "source": [
    "percapitaGDP.dtypes"
   ]
  },
  {
   "cell_type": "code",
   "execution_count": 4,
   "metadata": {},
   "outputs": [
    {
     "data": {
      "text/html": [
       "<div>\n",
       "<style scoped>\n",
       "    .dataframe tbody tr th:only-of-type {\n",
       "        vertical-align: middle;\n",
       "    }\n",
       "\n",
       "    .dataframe tbody tr th {\n",
       "        vertical-align: top;\n",
       "    }\n",
       "\n",
       "    .dataframe thead th {\n",
       "        text-align: right;\n",
       "    }\n",
       "</style>\n",
       "<table border=\"1\" class=\"dataframe\">\n",
       "  <thead>\n",
       "    <tr style=\"text-align: right;\">\n",
       "      <th></th>\n",
       "      <th>Year</th>\n",
       "      <th>2001</th>\n",
       "      <th>2002</th>\n",
       "      <th>2003</th>\n",
       "      <th>...</th>\n",
       "      <th>2015</th>\n",
       "      <th>2016</th>\n",
       "      <th>2017</th>\n",
       "      <th>2018</th>\n",
       "    </tr>\n",
       "  </thead>\n",
       "  <tbody>\n",
       "    <tr>\n",
       "      <th>count</th>\n",
       "      <td>702</td>\n",
       "      <td>701</td>\n",
       "      <td>701</td>\n",
       "      <td>701</td>\n",
       "      <td>...</td>\n",
       "      <td>701</td>\n",
       "      <td>701</td>\n",
       "      <td>701</td>\n",
       "      <td>701</td>\n",
       "    </tr>\n",
       "    <tr>\n",
       "      <th>unique</th>\n",
       "      <td>702</td>\n",
       "      <td>422</td>\n",
       "      <td>438</td>\n",
       "      <td>439</td>\n",
       "      <td>...</td>\n",
       "      <td>479</td>\n",
       "      <td>480</td>\n",
       "      <td>445</td>\n",
       "      <td>440</td>\n",
       "    </tr>\n",
       "    <tr>\n",
       "      <th>top</th>\n",
       "      <td>CL004: Antofagasta</td>\n",
       "      <td>..</td>\n",
       "      <td>..</td>\n",
       "      <td>..</td>\n",
       "      <td>...</td>\n",
       "      <td>..</td>\n",
       "      <td>..</td>\n",
       "      <td>..</td>\n",
       "      <td>..</td>\n",
       "    </tr>\n",
       "    <tr>\n",
       "      <th>freq</th>\n",
       "      <td>1</td>\n",
       "      <td>277</td>\n",
       "      <td>261</td>\n",
       "      <td>261</td>\n",
       "      <td>...</td>\n",
       "      <td>221</td>\n",
       "      <td>221</td>\n",
       "      <td>256</td>\n",
       "      <td>260</td>\n",
       "    </tr>\n",
       "  </tbody>\n",
       "</table>\n",
       "<p>4 rows × 19 columns</p>\n",
       "</div>"
      ],
      "text/plain": [
       "                        Year 2001 2002 2003  ... 2015 2016 2017 2018\n",
       "count                    702  701  701  701  ...  701  701  701  701\n",
       "unique                   702  422  438  439  ...  479  480  445  440\n",
       "top       CL004: Antofagasta   ..   ..   ..  ...   ..   ..   ..   ..\n",
       "freq                       1  277  261  261  ...  221  221  256  260\n",
       "\n",
       "[4 rows x 19 columns]"
      ]
     },
     "execution_count": 4,
     "metadata": {},
     "output_type": "execute_result"
    }
   ],
   "source": [
    "percapitaGDP.describe()"
   ]
  },
  {
   "cell_type": "code",
   "execution_count": 5,
   "metadata": {},
   "outputs": [
    {
     "data": {
      "text/plain": [
       "Index(['2001', '2002', '2003', '2004', '2005', '2006', '2007', '2008', '2009',\n",
       "       '2010', '2011', '2012', '2013', '2014', '2015', '2016', '2017', '2018'],\n",
       "      dtype='object')"
      ]
     },
     "execution_count": 5,
     "metadata": {},
     "output_type": "execute_result"
    }
   ],
   "source": [
    "percapitaGDP.columns[1:]"
   ]
  },
  {
   "cell_type": "code",
   "execution_count": 6,
   "metadata": {},
   "outputs": [],
   "source": [
    "# Remove rows where all of the per capita GDP values are missing\n",
    "percapitaGDP.dropna(subset=percapitaGDP.columns[1:], how=\"all\", inplace=True)"
   ]
  },
  {
   "cell_type": "code",
   "execution_count": 7,
   "metadata": {},
   "outputs": [
    {
     "data": {
      "text/html": [
       "<div>\n",
       "<style scoped>\n",
       "    .dataframe tbody tr th:only-of-type {\n",
       "        vertical-align: middle;\n",
       "    }\n",
       "\n",
       "    .dataframe tbody tr th {\n",
       "        vertical-align: top;\n",
       "    }\n",
       "\n",
       "    .dataframe thead th {\n",
       "        text-align: right;\n",
       "    }\n",
       "</style>\n",
       "<table border=\"1\" class=\"dataframe\">\n",
       "  <thead>\n",
       "    <tr style=\"text-align: right;\">\n",
       "      <th></th>\n",
       "      <th>Year</th>\n",
       "      <th>2001</th>\n",
       "      <th>2002</th>\n",
       "      <th>2003</th>\n",
       "      <th>...</th>\n",
       "      <th>2015</th>\n",
       "      <th>2016</th>\n",
       "      <th>2017</th>\n",
       "      <th>2018</th>\n",
       "    </tr>\n",
       "  </thead>\n",
       "  <tbody>\n",
       "    <tr>\n",
       "      <th>count</th>\n",
       "      <td>701</td>\n",
       "      <td>701</td>\n",
       "      <td>701</td>\n",
       "      <td>701</td>\n",
       "      <td>...</td>\n",
       "      <td>701</td>\n",
       "      <td>701</td>\n",
       "      <td>701</td>\n",
       "      <td>701</td>\n",
       "    </tr>\n",
       "    <tr>\n",
       "      <th>unique</th>\n",
       "      <td>701</td>\n",
       "      <td>422</td>\n",
       "      <td>438</td>\n",
       "      <td>439</td>\n",
       "      <td>...</td>\n",
       "      <td>479</td>\n",
       "      <td>480</td>\n",
       "      <td>445</td>\n",
       "      <td>440</td>\n",
       "    </tr>\n",
       "    <tr>\n",
       "      <th>top</th>\n",
       "      <td>CL004: Antofagasta</td>\n",
       "      <td>..</td>\n",
       "      <td>..</td>\n",
       "      <td>..</td>\n",
       "      <td>...</td>\n",
       "      <td>..</td>\n",
       "      <td>..</td>\n",
       "      <td>..</td>\n",
       "      <td>..</td>\n",
       "    </tr>\n",
       "    <tr>\n",
       "      <th>freq</th>\n",
       "      <td>1</td>\n",
       "      <td>277</td>\n",
       "      <td>261</td>\n",
       "      <td>261</td>\n",
       "      <td>...</td>\n",
       "      <td>221</td>\n",
       "      <td>221</td>\n",
       "      <td>256</td>\n",
       "      <td>260</td>\n",
       "    </tr>\n",
       "  </tbody>\n",
       "</table>\n",
       "<p>4 rows × 19 columns</p>\n",
       "</div>"
      ],
      "text/plain": [
       "                        Year 2001 2002 2003  ... 2015 2016 2017 2018\n",
       "count                    701  701  701  701  ...  701  701  701  701\n",
       "unique                   701  422  438  439  ...  479  480  445  440\n",
       "top       CL004: Antofagasta   ..   ..   ..  ...   ..   ..   ..   ..\n",
       "freq                       1  277  261  261  ...  221  221  256  260\n",
       "\n",
       "[4 rows x 19 columns]"
      ]
     },
     "execution_count": 7,
     "metadata": {},
     "output_type": "execute_result"
    }
   ],
   "source": [
    "percapitaGDP.describe()"
   ]
  },
  {
   "cell_type": "code",
   "execution_count": 8,
   "metadata": {},
   "outputs": [
    {
     "data": {
      "text/html": [
       "<div>\n",
       "<style scoped>\n",
       "    .dataframe tbody tr th:only-of-type {\n",
       "        vertical-align: middle;\n",
       "    }\n",
       "\n",
       "    .dataframe tbody tr th {\n",
       "        vertical-align: top;\n",
       "    }\n",
       "\n",
       "    .dataframe thead th {\n",
       "        text-align: right;\n",
       "    }\n",
       "</style>\n",
       "<table border=\"1\" class=\"dataframe\">\n",
       "  <thead>\n",
       "    <tr style=\"text-align: right;\">\n",
       "      <th></th>\n",
       "      <th>Year</th>\n",
       "      <th>2001</th>\n",
       "      <th>2002</th>\n",
       "      <th>2003</th>\n",
       "      <th>...</th>\n",
       "      <th>2015</th>\n",
       "      <th>2016</th>\n",
       "      <th>2017</th>\n",
       "      <th>2018</th>\n",
       "    </tr>\n",
       "  </thead>\n",
       "  <tbody>\n",
       "    <tr>\n",
       "      <th>1</th>\n",
       "      <td>AUS: Australia</td>\n",
       "      <td>..</td>\n",
       "      <td>..</td>\n",
       "      <td>..</td>\n",
       "      <td>...</td>\n",
       "      <td>..</td>\n",
       "      <td>..</td>\n",
       "      <td>..</td>\n",
       "      <td>..</td>\n",
       "    </tr>\n",
       "    <tr>\n",
       "      <th>2</th>\n",
       "      <td>AUS01: Greater Sydney</td>\n",
       "      <td>43313</td>\n",
       "      <td>44008</td>\n",
       "      <td>45424</td>\n",
       "      <td>...</td>\n",
       "      <td>50075</td>\n",
       "      <td>50519</td>\n",
       "      <td>50578</td>\n",
       "      <td>49860</td>\n",
       "    </tr>\n",
       "    <tr>\n",
       "      <th>3</th>\n",
       "      <td>AUS02: Greater Melbourne</td>\n",
       "      <td>40125</td>\n",
       "      <td>40894</td>\n",
       "      <td>41602</td>\n",
       "      <td>...</td>\n",
       "      <td>42928</td>\n",
       "      <td>42671</td>\n",
       "      <td>43025</td>\n",
       "      <td>42674</td>\n",
       "    </tr>\n",
       "    <tr>\n",
       "      <th>4</th>\n",
       "      <td>AUS03: Greater Brisbane</td>\n",
       "      <td>37580</td>\n",
       "      <td>37564</td>\n",
       "      <td>39080</td>\n",
       "      <td>...</td>\n",
       "      <td>44388</td>\n",
       "      <td>45723</td>\n",
       "      <td>46876</td>\n",
       "      <td>46640</td>\n",
       "    </tr>\n",
       "    <tr>\n",
       "      <th>5</th>\n",
       "      <td>AUS04: Greater Perth</td>\n",
       "      <td>45713</td>\n",
       "      <td>47371</td>\n",
       "      <td>48719</td>\n",
       "      <td>...</td>\n",
       "      <td>66544</td>\n",
       "      <td>66032</td>\n",
       "      <td>66424</td>\n",
       "      <td>70390</td>\n",
       "    </tr>\n",
       "  </tbody>\n",
       "</table>\n",
       "<p>5 rows × 19 columns</p>\n",
       "</div>"
      ],
      "text/plain": [
       "                         Year   2001   2002   2003  ...   2015   2016   2017   2018\n",
       "1              AUS: Australia     ..     ..     ..  ...     ..     ..     ..     ..\n",
       "2       AUS01: Greater Sydney  43313  44008  45424  ...  50075  50519  50578  49860\n",
       "3    AUS02: Greater Melbourne  40125  40894  41602  ...  42928  42671  43025  42674\n",
       "4     AUS03: Greater Brisbane  37580  37564  39080  ...  44388  45723  46876  46640\n",
       "5        AUS04: Greater Perth  45713  47371  48719  ...  66544  66032  66424  70390\n",
       "\n",
       "[5 rows x 19 columns]"
      ]
     },
     "execution_count": 8,
     "metadata": {},
     "output_type": "execute_result"
    }
   ],
   "source": [
    "percapitaGDP.head()"
   ]
  },
  {
   "cell_type": "markdown",
   "metadata": {},
   "source": [
    "## Importing data from SQL databases"
   ]
  },
  {
   "cell_type": "markdown",
   "metadata": {},
   "source": [
    "import numpy as np<br>\n",
    "import pymssql<br>\n",
    "import mysql.connector<br>"
   ]
  },
  {
   "cell_type": "markdown",
   "metadata": {},
   "source": [
    "query = \"SELECT studentid, school, sex, age, famsize,medu AS mothereducation, fedu AS fathereducation,traveltime, studytime, failures, famrel, freetime,\n",
    "goout, g1 AS gradeperiod1, g2 AS gradeperiod2,g3 AS gradeperiod3 From studentmath\""
   ]
  },
  {
   "cell_type": "markdown",
   "metadata": {},
   "source": [
    "server = \"pdcc.c9sqqzd5fulv.us-west-2.rds.amazonaws.com\"<br>\n",
    "\n",
    "user = \"pdccuser\"<br>\n",
    "password = \"pdccpass\"<br>\n",
    "database = \"pdcctest\"<br>\n",
    "\n",
    "conn = pymssql.connect(server=server,user=user, password=password, database=database)<br>\n",
    "studentmath = pd.read_sql(query,conn)<br>\n",
    "conn.close()<br>"
   ]
  },
  {
   "cell_type": "markdown",
   "metadata": {},
   "source": [
    "### one more example"
   ]
  },
  {
   "cell_type": "markdown",
   "metadata": {},
   "source": [
    "connmysql = mysql.connector.connect(host=host,database=database,user=user,password=password)<br>\n",
    "studentmath = pd.read_sql(sqlselect,connmysql)<br>\n",
    "connmysql.close()<br>"
   ]
  },
  {
   "cell_type": "markdown",
   "metadata": {},
   "source": [
    "## Importing SPSS, Stata, and SAS data"
   ]
  },
  {
   "cell_type": "code",
   "execution_count": 14,
   "metadata": {},
   "outputs": [],
   "source": [
    "import pyreadstat"
   ]
  },
  {
   "cell_type": "code",
   "execution_count": 15,
   "metadata": {},
   "outputs": [],
   "source": [
    "nls97spss, metaspss = pyreadstat.read_sav('data/nls97.sav')"
   ]
  },
  {
   "cell_type": "code",
   "execution_count": 16,
   "metadata": {},
   "outputs": [
    {
     "data": {
      "text/plain": [
       "R0000100    float64\n",
       "R0536300    float64\n",
       "R0536401    float64\n",
       "R0536402    float64\n",
       "R1235800    float64\n",
       "R1482600    float64\n",
       "R9793800    float64\n",
       "R9793900    float64\n",
       "R9871900    float64\n",
       "R9872000    float64\n",
       "R9872200    float64\n",
       "R9872400    float64\n",
       "S8646900    float64\n",
       "S8647000    float64\n",
       "S8647100    float64\n",
       "S8647200    float64\n",
       "S8647300    float64\n",
       "S8647400    float64\n",
       "S8647500    float64\n",
       "S8647600    float64\n",
       "S8647700    float64\n",
       "S8647800    float64\n",
       "T6651700    float64\n",
       "U1836800    float64\n",
       "U1836900    float64\n",
       "U1837000    float64\n",
       "U1837100    float64\n",
       "U1837200    float64\n",
       "U1837300    float64\n",
       "U1845400    float64\n",
       "U1852400    float64\n",
       "U1852600    float64\n",
       "U1852700    float64\n",
       "U2166200    float64\n",
       "U2166300    float64\n",
       "U2166400    float64\n",
       "U2166500    float64\n",
       "U2857300    float64\n",
       "U2962800    float64\n",
       "U2962900    float64\n",
       "U2963000    float64\n",
       "Z9063900    float64\n",
       "dtype: object"
      ]
     },
     "execution_count": 16,
     "metadata": {},
     "output_type": "execute_result"
    }
   ],
   "source": [
    "nls97spss.dtypes"
   ]
  },
  {
   "cell_type": "code",
   "execution_count": 19,
   "metadata": {},
   "outputs": [
    {
     "data": {
      "text/html": [
       "<div>\n",
       "<style scoped>\n",
       "    .dataframe tbody tr th:only-of-type {\n",
       "        vertical-align: middle;\n",
       "    }\n",
       "\n",
       "    .dataframe tbody tr th {\n",
       "        vertical-align: top;\n",
       "    }\n",
       "\n",
       "    .dataframe thead th {\n",
       "        text-align: right;\n",
       "    }\n",
       "</style>\n",
       "<table border=\"1\" class=\"dataframe\">\n",
       "  <thead>\n",
       "    <tr style=\"text-align: right;\">\n",
       "      <th></th>\n",
       "      <th>R0000100</th>\n",
       "      <th>R0536300</th>\n",
       "      <th>R0536401</th>\n",
       "      <th>R0536402</th>\n",
       "      <th>...</th>\n",
       "      <th>U2962800</th>\n",
       "      <th>U2962900</th>\n",
       "      <th>U2963000</th>\n",
       "      <th>Z9063900</th>\n",
       "    </tr>\n",
       "  </thead>\n",
       "  <tbody>\n",
       "    <tr>\n",
       "      <th>0</th>\n",
       "      <td>1.00</td>\n",
       "      <td>2.00</td>\n",
       "      <td>9.00</td>\n",
       "      <td>1,981.00</td>\n",
       "      <td>...</td>\n",
       "      <td>nan</td>\n",
       "      <td>nan</td>\n",
       "      <td>nan</td>\n",
       "      <td>52.00</td>\n",
       "    </tr>\n",
       "    <tr>\n",
       "      <th>1</th>\n",
       "      <td>2.00</td>\n",
       "      <td>1.00</td>\n",
       "      <td>7.00</td>\n",
       "      <td>1,982.00</td>\n",
       "      <td>...</td>\n",
       "      <td>4.00</td>\n",
       "      <td>2.00</td>\n",
       "      <td>6.00</td>\n",
       "      <td>0.00</td>\n",
       "    </tr>\n",
       "    <tr>\n",
       "      <th>2</th>\n",
       "      <td>3.00</td>\n",
       "      <td>2.00</td>\n",
       "      <td>9.00</td>\n",
       "      <td>1,983.00</td>\n",
       "      <td>...</td>\n",
       "      <td>6.00</td>\n",
       "      <td>2.00</td>\n",
       "      <td>6.00</td>\n",
       "      <td>0.00</td>\n",
       "    </tr>\n",
       "    <tr>\n",
       "      <th>3</th>\n",
       "      <td>4.00</td>\n",
       "      <td>2.00</td>\n",
       "      <td>2.00</td>\n",
       "      <td>1,981.00</td>\n",
       "      <td>...</td>\n",
       "      <td>3.00</td>\n",
       "      <td>2.00</td>\n",
       "      <td>6.00</td>\n",
       "      <td>4.00</td>\n",
       "    </tr>\n",
       "    <tr>\n",
       "      <th>4</th>\n",
       "      <td>5.00</td>\n",
       "      <td>1.00</td>\n",
       "      <td>10.00</td>\n",
       "      <td>1,982.00</td>\n",
       "      <td>...</td>\n",
       "      <td>2.00</td>\n",
       "      <td>2.00</td>\n",
       "      <td>5.00</td>\n",
       "      <td>12.00</td>\n",
       "    </tr>\n",
       "  </tbody>\n",
       "</table>\n",
       "<p>5 rows × 42 columns</p>\n",
       "</div>"
      ],
      "text/plain": [
       "   R0000100  R0536300  R0536401  R0536402  ...  U2962800  U2962900  U2963000  \\\n",
       "0      1.00      2.00      9.00  1,981.00  ...       nan       nan       nan   \n",
       "1      2.00      1.00      7.00  1,982.00  ...      4.00      2.00      6.00   \n",
       "2      3.00      2.00      9.00  1,983.00  ...      6.00      2.00      6.00   \n",
       "3      4.00      2.00      2.00  1,981.00  ...      3.00      2.00      6.00   \n",
       "4      5.00      1.00     10.00  1,982.00  ...      2.00      2.00      5.00   \n",
       "\n",
       "   Z9063900  \n",
       "0     52.00  \n",
       "1      0.00  \n",
       "2      0.00  \n",
       "3      4.00  \n",
       "4     12.00  \n",
       "\n",
       "[5 rows x 42 columns]"
      ]
     },
     "execution_count": 19,
     "metadata": {},
     "output_type": "execute_result"
    }
   ],
   "source": [
    "nls97spss.head()"
   ]
  },
  {
   "cell_type": "code",
   "execution_count": 20,
   "metadata": {},
   "outputs": [
    {
     "data": {
      "text/plain": [
       "1.00   0.51\n",
       "2.00   0.49\n",
       "Name: R0536300, dtype: float64"
      ]
     },
     "execution_count": 20,
     "metadata": {},
     "output_type": "execute_result"
    }
   ],
   "source": [
    "nls97spss['R0536300'].value_counts(normalize=True)"
   ]
  },
  {
   "cell_type": "code",
   "execution_count": 22,
   "metadata": {},
   "outputs": [
    {
     "data": {
      "text/plain": [
       "1.00    4599\n",
       "2.00    4385\n",
       "Name: R0536300, dtype: int64"
      ]
     },
     "execution_count": 22,
     "metadata": {},
     "output_type": "execute_result"
    }
   ],
   "source": [
    "nls97spss['R0536300'].value_counts()"
   ]
  },
  {
   "cell_type": "code",
   "execution_count": 23,
   "metadata": {},
   "outputs": [
    {
     "data": {
      "text/plain": [
       "{0.0: 'No Information', 1.0: 'Male', 2.0: 'Female'}"
      ]
     },
     "execution_count": 23,
     "metadata": {},
     "output_type": "execute_result"
    }
   ],
   "source": [
    "# Grab the metadata to improve column labels and value labels\n",
    "\n",
    "metaspss.variable_value_labels['R0536300']"
   ]
  },
  {
   "cell_type": "code",
   "execution_count": 27,
   "metadata": {},
   "outputs": [
    {
     "data": {
      "text/plain": [
       "0   2.00\n",
       "1   1.00\n",
       "2   2.00\n",
       "3   2.00\n",
       "4   1.00\n",
       "Name: R0536300, dtype: float64"
      ]
     },
     "execution_count": 27,
     "metadata": {},
     "output_type": "execute_result"
    }
   ],
   "source": [
    "nls97spss['R0536300'].head()"
   ]
  },
  {
   "cell_type": "code",
   "execution_count": 24,
   "metadata": {},
   "outputs": [
    {
     "data": {
      "text/plain": [
       "0       Female\n",
       "1         Male\n",
       "2       Female\n",
       "3       Female\n",
       "4         Male\n",
       "         ...  \n",
       "8979    Female\n",
       "8980      Male\n",
       "8981      Male\n",
       "8982      Male\n",
       "8983    Female\n",
       "Name: R0536300, Length: 8984, dtype: object"
      ]
     },
     "execution_count": 24,
     "metadata": {},
     "output_type": "execute_result"
    }
   ],
   "source": [
    "nls97spss['R0536300'].map(metaspss.variable_value_labels['R0536300'])"
   ]
  },
  {
   "cell_type": "code",
   "execution_count": 25,
   "metadata": {},
   "outputs": [
    {
     "data": {
      "text/plain": [
       "Male     0.51\n",
       "Female   0.49\n",
       "Name: R0536300, dtype: float64"
      ]
     },
     "execution_count": 25,
     "metadata": {},
     "output_type": "execute_result"
    }
   ],
   "source": [
    "nls97spss['R0536300'].map(metaspss.variable_value_labels['R0536300']).value_counts(normalize=True)"
   ]
  },
  {
   "cell_type": "code",
   "execution_count": 28,
   "metadata": {},
   "outputs": [],
   "source": [
    "nls97spss = pyreadstat.set_value_labels(nls97spss, metaspss, formats_as_category=True)"
   ]
  },
  {
   "cell_type": "code",
   "execution_count": 29,
   "metadata": {},
   "outputs": [],
   "source": [
    "nls97spss.columns = metaspss.column_labels"
   ]
  },
  {
   "cell_type": "code",
   "execution_count": 30,
   "metadata": {},
   "outputs": [
    {
     "data": {
      "text/plain": [
       "Male     0.51\n",
       "Female   0.49\n",
       "Name: KEY!SEX (SYMBOL) 1997, dtype: float64"
      ]
     },
     "execution_count": 30,
     "metadata": {},
     "output_type": "execute_result"
    }
   ],
   "source": [
    "nls97spss['KEY!SEX (SYMBOL) 1997'].value_counts(normalize=True)"
   ]
  },
  {
   "cell_type": "code",
   "execution_count": 31,
   "metadata": {},
   "outputs": [
    {
     "data": {
      "text/plain": [
       "PUBID - YTH ID CODE 1997                        float64\n",
       "KEY!SEX (SYMBOL) 1997                          category\n",
       "KEY!BDATE M/Y (SYMBOL) 1997                     float64\n",
       "KEY!BDATE M/Y (SYMBOL) 1997                     float64\n",
       "CV_SAMPLE_TYPE 1997                            category\n",
       "KEY!RACE_ETHNICITY (SYMBOL) 1997               category\n",
       "TRANS_SAT_VERBAL HSTR                           float64\n",
       "TRANS_SAT_MATH HSTR                             float64\n",
       "TRANS CRD GPA OVERALL HSTR                      float64\n",
       "TRANS CRD GPA ENG HSTR                          float64\n",
       "TRANS CRD GPA MATH HSTR                         float64\n",
       "TRANS CRD GPA LP SCI HSTR                       float64\n",
       "GOVT RESPONSIBILITY - PROVIDE JOBS 2006        category\n",
       "GOVT RESPNSBLTY - KEEP PRICES UND CTRL 2006    category\n",
       "GOVT RESPNSBLTY - HLTH CARE FOR SICK 2006      category\n",
       "GOVT RESPNSBLTY -PROV ELD LIV STAND 2006       category\n",
       "GOVT RESPNSBLTY -PROV IND HELP 2006            category\n",
       "GOVT RESPNSBLTY -PROV UNEMP LIV STAND 2006     category\n",
       "GOVT RESPNSBLTY -REDUCE INC DIFF 2006          category\n",
       "GOVT RESPNSBLTY -PROV COLL FIN AID 2006        category\n",
       "GOVT RESPNSBLTY -PROV DECENT HOUSING 2006      category\n",
       "GOVT RESPNSBLTY -PROTECT ENVIRONMENT 2006      category\n",
       "CV_BA_CREDITS L1 2011                           float64\n",
       "CV_COLLEGE_TYPE L1 2017                        category\n",
       "CV_COLLEGE_TYPE L2 2017                        category\n",
       "CV_COLLEGE_TYPE L3 2017                        category\n",
       "CV_COLLEGE_TYPE L4 2017                        category\n",
       "CV_COLLEGE_TYPE L5 2017                        category\n",
       "CV_COLLEGE_TYPE L6 2017                        category\n",
       "CV_HGC_EVER 2017                               category\n",
       "CV_MARSTAT_COLLAPSED 2017                      category\n",
       "CV_BIO_CHILD_HH 2017                            float64\n",
       "CV_BIO_CHILD_NR 2017                            float64\n",
       "DIPLOMA/DEGREE RCVD? L1 2017                   category\n",
       "DIPLOMA/DEGREE RCVD? L2 2017                   category\n",
       "DIPLOMA/DEGREE RCVD? L3 2017                   category\n",
       "DIPLOMA/DEGREE RCVD? L4 2017                   category\n",
       "EST INC WAGES, TIPS PAST YR 2017               category\n",
       "HRS/WK R USES A COMPUTER 2017                  category\n",
       "HRS/WK R WATCHES TELEVISION 2017               category\n",
       "HRS/NIGHT R SLEEPS 2017                         float64\n",
       "CVC_WKSWK_YR_ALL L99                            float64\n",
       "dtype: object"
      ]
     },
     "execution_count": 31,
     "metadata": {},
     "output_type": "execute_result"
    }
   ],
   "source": [
    "nls97spss.dtypes"
   ]
  },
  {
   "cell_type": "code",
   "execution_count": 32,
   "metadata": {},
   "outputs": [],
   "source": [
    "nls97spss.columns = nls97spss.columns.str.lower().str.replace(' ','_').str.replace('[^a-z0-9_]', '')"
   ]
  },
  {
   "cell_type": "code",
   "execution_count": 33,
   "metadata": {},
   "outputs": [],
   "source": [
    "nls97spss.set_index('pubid__yth_id_code_1997', inplace=True)"
   ]
  },
  {
   "cell_type": "code",
   "execution_count": 34,
   "metadata": {},
   "outputs": [],
   "source": [
    "# Simplify the process by applying the value labels from the beginning\n",
    "\n",
    "nls97spss, metaspss = pyreadstat.read_sav('data/nls97.sav', apply_value_formats=True, formats_as_category=True)"
   ]
  },
  {
   "cell_type": "code",
   "execution_count": 35,
   "metadata": {},
   "outputs": [],
   "source": [
    "nls97spss.columns = metaspss.column_labels"
   ]
  },
  {
   "cell_type": "code",
   "execution_count": 36,
   "metadata": {},
   "outputs": [],
   "source": [
    "nls97spss.columns = nls97spss.columns.str.lower().str.replace(' ','_').str.replace('[^a-z0-9_]', '')"
   ]
  },
  {
   "cell_type": "code",
   "execution_count": 37,
   "metadata": {},
   "outputs": [
    {
     "data": {
      "text/plain": [
       "pubid__yth_id_code_1997                        float64\n",
       "keysex_symbol_1997                            category\n",
       "keybdate_my_symbol_1997                        float64\n",
       "keybdate_my_symbol_1997                        float64\n",
       "cv_sample_type_1997                           category\n",
       "keyrace_ethnicity_symbol_1997                 category\n",
       "trans_sat_verbal_hstr                          float64\n",
       "trans_sat_math_hstr                            float64\n",
       "trans_crd_gpa_overall_hstr                     float64\n",
       "trans_crd_gpa_eng_hstr                         float64\n",
       "trans_crd_gpa_math_hstr                        float64\n",
       "trans_crd_gpa_lp_sci_hstr                      float64\n",
       "govt_responsibility__provide_jobs_2006        category\n",
       "govt_respnsblty__keep_prices_und_ctrl_2006    category\n",
       "govt_respnsblty__hlth_care_for_sick_2006      category\n",
       "govt_respnsblty_prov_eld_liv_stand_2006       category\n",
       "govt_respnsblty_prov_ind_help_2006            category\n",
       "govt_respnsblty_prov_unemp_liv_stand_2006     category\n",
       "govt_respnsblty_reduce_inc_diff_2006          category\n",
       "govt_respnsblty_prov_coll_fin_aid_2006        category\n",
       "govt_respnsblty_prov_decent_housing_2006      category\n",
       "govt_respnsblty_protect_environment_2006      category\n",
       "cv_ba_credits_l1_2011                          float64\n",
       "cv_college_type_l1_2017                       category\n",
       "cv_college_type_l2_2017                       category\n",
       "cv_college_type_l3_2017                       category\n",
       "cv_college_type_l4_2017                       category\n",
       "cv_college_type_l5_2017                       category\n",
       "cv_college_type_l6_2017                       category\n",
       "cv_hgc_ever_2017                              category\n",
       "cv_marstat_collapsed_2017                     category\n",
       "cv_bio_child_hh_2017                           float64\n",
       "cv_bio_child_nr_2017                           float64\n",
       "diplomadegree_rcvd_l1_2017                    category\n",
       "diplomadegree_rcvd_l2_2017                    category\n",
       "diplomadegree_rcvd_l3_2017                    category\n",
       "diplomadegree_rcvd_l4_2017                    category\n",
       "est_inc_wages_tips_past_yr_2017               category\n",
       "hrswk_r_uses_a_computer_2017                  category\n",
       "hrswk_r_watches_television_2017               category\n",
       "hrsnight_r_sleeps_2017                         float64\n",
       "cvc_wkswk_yr_all_l99                           float64\n",
       "dtype: object"
      ]
     },
     "execution_count": 37,
     "metadata": {},
     "output_type": "execute_result"
    }
   ],
   "source": [
    "nls97spss.dtypes"
   ]
  },
  {
   "cell_type": "code",
   "execution_count": 38,
   "metadata": {},
   "outputs": [
    {
     "data": {
      "text/html": [
       "<div>\n",
       "<style scoped>\n",
       "    .dataframe tbody tr th:only-of-type {\n",
       "        vertical-align: middle;\n",
       "    }\n",
       "\n",
       "    .dataframe tbody tr th {\n",
       "        vertical-align: top;\n",
       "    }\n",
       "\n",
       "    .dataframe thead th {\n",
       "        text-align: right;\n",
       "    }\n",
       "</style>\n",
       "<table border=\"1\" class=\"dataframe\">\n",
       "  <thead>\n",
       "    <tr style=\"text-align: right;\">\n",
       "      <th></th>\n",
       "      <th>pubid__yth_id_code_1997</th>\n",
       "      <th>keysex_symbol_1997</th>\n",
       "      <th>keybdate_my_symbol_1997</th>\n",
       "      <th>keybdate_my_symbol_1997</th>\n",
       "      <th>...</th>\n",
       "      <th>hrswk_r_uses_a_computer_2017</th>\n",
       "      <th>hrswk_r_watches_television_2017</th>\n",
       "      <th>hrsnight_r_sleeps_2017</th>\n",
       "      <th>cvc_wkswk_yr_all_l99</th>\n",
       "    </tr>\n",
       "  </thead>\n",
       "  <tbody>\n",
       "    <tr>\n",
       "      <th>0</th>\n",
       "      <td>1.00</td>\n",
       "      <td>Female</td>\n",
       "      <td>9.00</td>\n",
       "      <td>1,981.00</td>\n",
       "      <td>...</td>\n",
       "      <td>NaN</td>\n",
       "      <td>NaN</td>\n",
       "      <td>nan</td>\n",
       "      <td>52.00</td>\n",
       "    </tr>\n",
       "    <tr>\n",
       "      <th>1</th>\n",
       "      <td>2.00</td>\n",
       "      <td>Male</td>\n",
       "      <td>7.00</td>\n",
       "      <td>1,982.00</td>\n",
       "      <td>...</td>\n",
       "      <td>4 to 6 hours a week</td>\n",
       "      <td>3 to 10 hours a week</td>\n",
       "      <td>6.00</td>\n",
       "      <td>0.00</td>\n",
       "    </tr>\n",
       "    <tr>\n",
       "      <th>2</th>\n",
       "      <td>3.00</td>\n",
       "      <td>Female</td>\n",
       "      <td>9.00</td>\n",
       "      <td>1,983.00</td>\n",
       "      <td>...</td>\n",
       "      <td>10 hours or more a week</td>\n",
       "      <td>3 to 10 hours a week</td>\n",
       "      <td>6.00</td>\n",
       "      <td>0.00</td>\n",
       "    </tr>\n",
       "    <tr>\n",
       "      <th>3</th>\n",
       "      <td>4.00</td>\n",
       "      <td>Female</td>\n",
       "      <td>2.00</td>\n",
       "      <td>1,981.00</td>\n",
       "      <td>...</td>\n",
       "      <td>1 to 3 hours a week</td>\n",
       "      <td>3 to 10 hours a week</td>\n",
       "      <td>6.00</td>\n",
       "      <td>4.00</td>\n",
       "    </tr>\n",
       "    <tr>\n",
       "      <th>4</th>\n",
       "      <td>5.00</td>\n",
       "      <td>Male</td>\n",
       "      <td>10.00</td>\n",
       "      <td>1,982.00</td>\n",
       "      <td>...</td>\n",
       "      <td>Less than 1 hour a week</td>\n",
       "      <td>3 to 10 hours a week</td>\n",
       "      <td>5.00</td>\n",
       "      <td>12.00</td>\n",
       "    </tr>\n",
       "  </tbody>\n",
       "</table>\n",
       "<p>5 rows × 42 columns</p>\n",
       "</div>"
      ],
      "text/plain": [
       "   pubid__yth_id_code_1997 keysex_symbol_1997  keybdate_my_symbol_1997  \\\n",
       "0                     1.00             Female                     9.00   \n",
       "1                     2.00               Male                     7.00   \n",
       "2                     3.00             Female                     9.00   \n",
       "3                     4.00             Female                     2.00   \n",
       "4                     5.00               Male                    10.00   \n",
       "\n",
       "   keybdate_my_symbol_1997  ... hrswk_r_uses_a_computer_2017  \\\n",
       "0                 1,981.00  ...                          NaN   \n",
       "1                 1,982.00  ...          4 to 6 hours a week   \n",
       "2                 1,983.00  ...      10 hours or more a week   \n",
       "3                 1,981.00  ...          1 to 3 hours a week   \n",
       "4                 1,982.00  ...      Less than 1 hour a week   \n",
       "\n",
       "  hrswk_r_watches_television_2017  hrsnight_r_sleeps_2017  cvc_wkswk_yr_all_l99  \n",
       "0                             NaN                     nan                 52.00  \n",
       "1            3 to 10 hours a week                    6.00                  0.00  \n",
       "2            3 to 10 hours a week                    6.00                  0.00  \n",
       "3            3 to 10 hours a week                    6.00                  4.00  \n",
       "4            3 to 10 hours a week                    5.00                 12.00  \n",
       "\n",
       "[5 rows x 42 columns]"
      ]
     },
     "execution_count": 38,
     "metadata": {},
     "output_type": "execute_result"
    }
   ],
   "source": [
    "nls97spss.head()"
   ]
  },
  {
   "cell_type": "code",
   "execution_count": 39,
   "metadata": {},
   "outputs": [
    {
     "data": {
      "text/plain": [
       "Definitely should be        454\n",
       "Definitely should not be    300\n",
       "Probably should be          617\n",
       "Probably should not be      462\n",
       "Name: govt_responsibility__provide_jobs_2006, dtype: int64"
      ]
     },
     "execution_count": 39,
     "metadata": {},
     "output_type": "execute_result"
    }
   ],
   "source": [
    "# Run frequencies on one of the columns and set the index:\n",
    "\n",
    "nls97spss.govt_responsibility__provide_jobs_2006.value_counts(sort=False)"
   ]
  },
  {
   "cell_type": "code",
   "execution_count": 40,
   "metadata": {},
   "outputs": [],
   "source": [
    "nls97spss.set_index('pubid__yth_id_code_1997', inplace=True)"
   ]
  },
  {
   "cell_type": "markdown",
   "metadata": {},
   "source": [
    "## Import the Stata data, apply value labels, and improve the column headings"
   ]
  },
  {
   "cell_type": "code",
   "execution_count": 41,
   "metadata": {},
   "outputs": [],
   "source": [
    "nls97stata, metastata = pyreadstat.read_dta('data/nls97.dta', apply_value_formats=True, formats_as_category=True)"
   ]
  },
  {
   "cell_type": "code",
   "execution_count": 42,
   "metadata": {},
   "outputs": [],
   "source": [
    "nls97stata.columns = metastata.column_labels"
   ]
  },
  {
   "cell_type": "code",
   "execution_count": 43,
   "metadata": {},
   "outputs": [],
   "source": [
    "nls97stata.columns = nls97stata.columns.str.lower().str.replace(' ','_').str.replace('[^a-z0-9_]', '')"
   ]
  },
  {
   "cell_type": "code",
   "execution_count": 44,
   "metadata": {},
   "outputs": [
    {
     "data": {
      "text/plain": [
       "pubid__yth_id_code_1997                        float64\n",
       "keysex_symbol_1997                            category\n",
       "keybdate_my_symbol_1997                        float64\n",
       "keybdate_my_symbol_1997                        float64\n",
       "cv_sample_type_1997                           category\n",
       "keyrace_ethnicity_symbol_1997                 category\n",
       "trans_sat_verbal_hstr                          float64\n",
       "trans_sat_math_hstr                            float64\n",
       "trans_crd_gpa_overall_hstr                     float64\n",
       "trans_crd_gpa_eng_hstr                         float64\n",
       "trans_crd_gpa_math_hstr                        float64\n",
       "trans_crd_gpa_lp_sci_hstr                      float64\n",
       "govt_responsibility__provide_jobs_2006        category\n",
       "govt_respnsblty__keep_prices_und_ctrl_2006    category\n",
       "govt_respnsblty__hlth_care_for_sick_2006      category\n",
       "govt_respnsblty_prov_eld_liv_stand_2006       category\n",
       "govt_respnsblty_prov_ind_help_2006            category\n",
       "govt_respnsblty_prov_unemp_liv_stand_2006     category\n",
       "govt_respnsblty_reduce_inc_diff_2006          category\n",
       "govt_respnsblty_prov_coll_fin_aid_2006        category\n",
       "govt_respnsblty_prov_decent_housing_2006      category\n",
       "govt_respnsblty_protect_environment_2006      category\n",
       "cv_ba_credits_l1_2011                          float64\n",
       "cv_college_type_l1_2017                       category\n",
       "cv_college_type_l2_2017                       category\n",
       "cv_college_type_l3_2017                       category\n",
       "cv_college_type_l4_2017                       category\n",
       "cv_college_type_l5_2017                       category\n",
       "cv_college_type_l6_2017                       category\n",
       "cv_hgc_ever_2017                              category\n",
       "cv_marstat_collapsed_2017                     category\n",
       "cv_bio_child_hh_2017                           float64\n",
       "cv_bio_child_nr_2017                           float64\n",
       "diplomadegree_rcvd_l1_2017                    category\n",
       "diplomadegree_rcvd_l2_2017                    category\n",
       "diplomadegree_rcvd_l3_2017                    category\n",
       "diplomadegree_rcvd_l4_2017                    category\n",
       "est_inc_wages_tips_past_yr_2017               category\n",
       "hrswk_r_uses_a_computer_2017                  category\n",
       "hrswk_r_watches_television_2017               category\n",
       "hrsnight_r_sleeps_2017                         float64\n",
       "cvc_wkswk_yr_all_l99                           float64\n",
       "dtype: object"
      ]
     },
     "execution_count": 44,
     "metadata": {},
     "output_type": "execute_result"
    }
   ],
   "source": [
    "nls97stata.dtypes"
   ]
  },
  {
   "cell_type": "code",
   "execution_count": 45,
   "metadata": {},
   "outputs": [
    {
     "data": {
      "text/html": [
       "<div>\n",
       "<style scoped>\n",
       "    .dataframe tbody tr th:only-of-type {\n",
       "        vertical-align: middle;\n",
       "    }\n",
       "\n",
       "    .dataframe tbody tr th {\n",
       "        vertical-align: top;\n",
       "    }\n",
       "\n",
       "    .dataframe thead th {\n",
       "        text-align: right;\n",
       "    }\n",
       "</style>\n",
       "<table border=\"1\" class=\"dataframe\">\n",
       "  <thead>\n",
       "    <tr style=\"text-align: right;\">\n",
       "      <th></th>\n",
       "      <th>pubid__yth_id_code_1997</th>\n",
       "      <th>keysex_symbol_1997</th>\n",
       "      <th>keybdate_my_symbol_1997</th>\n",
       "      <th>keybdate_my_symbol_1997</th>\n",
       "      <th>...</th>\n",
       "      <th>hrswk_r_uses_a_computer_2017</th>\n",
       "      <th>hrswk_r_watches_television_2017</th>\n",
       "      <th>hrsnight_r_sleeps_2017</th>\n",
       "      <th>cvc_wkswk_yr_all_l99</th>\n",
       "    </tr>\n",
       "  </thead>\n",
       "  <tbody>\n",
       "    <tr>\n",
       "      <th>0</th>\n",
       "      <td>1.00</td>\n",
       "      <td>Female</td>\n",
       "      <td>9.00</td>\n",
       "      <td>1,981.00</td>\n",
       "      <td>...</td>\n",
       "      <td>-5.00</td>\n",
       "      <td>-5.00</td>\n",
       "      <td>-5.00</td>\n",
       "      <td>52.00</td>\n",
       "    </tr>\n",
       "    <tr>\n",
       "      <th>1</th>\n",
       "      <td>2.00</td>\n",
       "      <td>Male</td>\n",
       "      <td>7.00</td>\n",
       "      <td>1,982.00</td>\n",
       "      <td>...</td>\n",
       "      <td>4 to 6 hours a week</td>\n",
       "      <td>3 to 10 hours a week</td>\n",
       "      <td>6.00</td>\n",
       "      <td>0.00</td>\n",
       "    </tr>\n",
       "    <tr>\n",
       "      <th>2</th>\n",
       "      <td>3.00</td>\n",
       "      <td>Female</td>\n",
       "      <td>9.00</td>\n",
       "      <td>1,983.00</td>\n",
       "      <td>...</td>\n",
       "      <td>10 hours or more a week</td>\n",
       "      <td>3 to 10 hours a week</td>\n",
       "      <td>6.00</td>\n",
       "      <td>0.00</td>\n",
       "    </tr>\n",
       "    <tr>\n",
       "      <th>3</th>\n",
       "      <td>4.00</td>\n",
       "      <td>Female</td>\n",
       "      <td>2.00</td>\n",
       "      <td>1,981.00</td>\n",
       "      <td>...</td>\n",
       "      <td>1 to 3 hours a week</td>\n",
       "      <td>3 to 10 hours a week</td>\n",
       "      <td>6.00</td>\n",
       "      <td>4.00</td>\n",
       "    </tr>\n",
       "    <tr>\n",
       "      <th>4</th>\n",
       "      <td>5.00</td>\n",
       "      <td>Male</td>\n",
       "      <td>10.00</td>\n",
       "      <td>1,982.00</td>\n",
       "      <td>...</td>\n",
       "      <td>Less than 1 hour a week</td>\n",
       "      <td>3 to 10 hours a week</td>\n",
       "      <td>5.00</td>\n",
       "      <td>12.00</td>\n",
       "    </tr>\n",
       "  </tbody>\n",
       "</table>\n",
       "<p>5 rows × 42 columns</p>\n",
       "</div>"
      ],
      "text/plain": [
       "   pubid__yth_id_code_1997 keysex_symbol_1997  keybdate_my_symbol_1997  \\\n",
       "0                     1.00             Female                     9.00   \n",
       "1                     2.00               Male                     7.00   \n",
       "2                     3.00             Female                     9.00   \n",
       "3                     4.00             Female                     2.00   \n",
       "4                     5.00               Male                    10.00   \n",
       "\n",
       "   keybdate_my_symbol_1997  ... hrswk_r_uses_a_computer_2017  \\\n",
       "0                 1,981.00  ...                        -5.00   \n",
       "1                 1,982.00  ...          4 to 6 hours a week   \n",
       "2                 1,983.00  ...      10 hours or more a week   \n",
       "3                 1,981.00  ...          1 to 3 hours a week   \n",
       "4                 1,982.00  ...      Less than 1 hour a week   \n",
       "\n",
       "  hrswk_r_watches_television_2017  hrsnight_r_sleeps_2017  cvc_wkswk_yr_all_l99  \n",
       "0                           -5.00                   -5.00                 52.00  \n",
       "1            3 to 10 hours a week                    6.00                  0.00  \n",
       "2            3 to 10 hours a week                    6.00                  0.00  \n",
       "3            3 to 10 hours a week                    6.00                  4.00  \n",
       "4            3 to 10 hours a week                    5.00                 12.00  \n",
       "\n",
       "[5 rows x 42 columns]"
      ]
     },
     "execution_count": 45,
     "metadata": {},
     "output_type": "execute_result"
    }
   ],
   "source": [
    "nls97stata.head()"
   ]
  },
  {
   "cell_type": "code",
   "execution_count": 46,
   "metadata": {},
   "outputs": [
    {
     "data": {
      "text/plain": [
       "-5.0                        1425\n",
       "-4.0                        5665\n",
       "-2.0                          56\n",
       "-1.0                           5\n",
       "Definitely should be         454\n",
       "Definitely should not be     300\n",
       "Probably should be           617\n",
       "Probably should not be       462\n",
       "Name: govt_responsibility__provide_jobs_2006, dtype: int64"
      ]
     },
     "execution_count": 46,
     "metadata": {},
     "output_type": "execute_result"
    }
   ],
   "source": [
    "nls97stata.govt_responsibility__provide_jobs_2006.value_counts(sort=False)"
   ]
  },
  {
   "cell_type": "code",
   "execution_count": 47,
   "metadata": {},
   "outputs": [
    {
     "data": {
      "text/plain": [
       "pubid__yth_id_code_1997                     1.00\n",
       "keysex_symbol_1997                        Female\n",
       "keybdate_my_symbol_1997                     1.00\n",
       "keybdate_my_symbol_1997                 1,980.00\n",
       "cv_sample_type_1997              Cross-sectional\n",
       "keyrace_ethnicity_symbol_1997              Black\n",
       "trans_sat_verbal_hstr                      -4.00\n",
       "trans_sat_math_hstr                        -4.00\n",
       "trans_crd_gpa_overall_hstr                 -9.00\n",
       "trans_crd_gpa_eng_hstr                     -9.00\n",
       "trans_crd_gpa_math_hstr                    -9.00\n",
       "trans_crd_gpa_lp_sci_hstr                  -9.00\n",
       "cv_ba_credits_l1_2011                      -5.00\n",
       "cv_bio_child_hh_2017                       -5.00\n",
       "cv_bio_child_nr_2017                       -5.00\n",
       "hrsnight_r_sleeps_2017                     -5.00\n",
       "cvc_wkswk_yr_all_l99                       -4.00\n",
       "dtype: object"
      ]
     },
     "execution_count": 47,
     "metadata": {},
     "output_type": "execute_result"
    }
   ],
   "source": [
    "nls97stata.min()"
   ]
  },
  {
   "cell_type": "code",
   "execution_count": 48,
   "metadata": {},
   "outputs": [],
   "source": [
    "nls97stata.replace(list(range(-9,0)), np.nan, inplace=True)"
   ]
  },
  {
   "cell_type": "code",
   "execution_count": 49,
   "metadata": {},
   "outputs": [
    {
     "data": {
      "text/plain": [
       "pubid__yth_id_code_1997                     1.00\n",
       "keysex_symbol_1997                        Female\n",
       "keybdate_my_symbol_1997                     1.00\n",
       "keybdate_my_symbol_1997                 1,980.00\n",
       "cv_sample_type_1997              Cross-sectional\n",
       "keyrace_ethnicity_symbol_1997              Black\n",
       "trans_sat_verbal_hstr                      14.00\n",
       "trans_sat_math_hstr                         7.00\n",
       "trans_crd_gpa_overall_hstr                 10.00\n",
       "trans_crd_gpa_eng_hstr                      0.00\n",
       "trans_crd_gpa_math_hstr                     0.00\n",
       "trans_crd_gpa_lp_sci_hstr                   0.00\n",
       "cv_ba_credits_l1_2011                       0.00\n",
       "cv_bio_child_hh_2017                        0.00\n",
       "cv_bio_child_nr_2017                        0.00\n",
       "hrsnight_r_sleeps_2017                      0.00\n",
       "cvc_wkswk_yr_all_l99                        0.00\n",
       "dtype: object"
      ]
     },
     "execution_count": 49,
     "metadata": {},
     "output_type": "execute_result"
    }
   ],
   "source": [
    "nls97stata.min()"
   ]
  },
  {
   "cell_type": "markdown",
   "metadata": {},
   "source": [
    "## Retrieve the SAS data, using the SAS catalog file for value labels"
   ]
  },
  {
   "cell_type": "code",
   "execution_count": 50,
   "metadata": {},
   "outputs": [],
   "source": [
    "# The data values for SAS are stored in a catalog file. Setting the catalog file path and filename retrieves the value labels and applies them:\n",
    "\n",
    "nls97sas, metasas = pyreadstat.read_sas7bdat('data/nls97.sas7bdat', catalog_file='data/nlsformats3.sas7bcat', formats_as_category=True)"
   ]
  },
  {
   "cell_type": "code",
   "execution_count": 51,
   "metadata": {},
   "outputs": [],
   "source": [
    "nls97sas.columns = metasas.column_labels"
   ]
  },
  {
   "cell_type": "code",
   "execution_count": 52,
   "metadata": {},
   "outputs": [],
   "source": [
    "nls97sas.columns = nls97sas.columns.str.lower().str.replace(' ','_').str.replace('[^a-z0-9_]', '')"
   ]
  },
  {
   "cell_type": "code",
   "execution_count": 53,
   "metadata": {},
   "outputs": [
    {
     "data": {
      "text/html": [
       "<div>\n",
       "<style scoped>\n",
       "    .dataframe tbody tr th:only-of-type {\n",
       "        vertical-align: middle;\n",
       "    }\n",
       "\n",
       "    .dataframe tbody tr th {\n",
       "        vertical-align: top;\n",
       "    }\n",
       "\n",
       "    .dataframe thead th {\n",
       "        text-align: right;\n",
       "    }\n",
       "</style>\n",
       "<table border=\"1\" class=\"dataframe\">\n",
       "  <thead>\n",
       "    <tr style=\"text-align: right;\">\n",
       "      <th></th>\n",
       "      <th>pubid__yth_id_code_1997</th>\n",
       "      <th>keysex_symbol_1997</th>\n",
       "      <th>keybdate_my_symbol_1997</th>\n",
       "      <th>keybdate_my_symbol_1997</th>\n",
       "      <th>...</th>\n",
       "      <th>hrswk_r_uses_a_computer_2017</th>\n",
       "      <th>hrswk_r_watches_television_2017</th>\n",
       "      <th>hrsnight_r_sleeps_2017</th>\n",
       "      <th>cvc_wkswk_yr_all_l99</th>\n",
       "    </tr>\n",
       "  </thead>\n",
       "  <tbody>\n",
       "    <tr>\n",
       "      <th>0</th>\n",
       "      <td>1.00</td>\n",
       "      <td>Female</td>\n",
       "      <td>9.00</td>\n",
       "      <td>1,981.00</td>\n",
       "      <td>...</td>\n",
       "      <td>NaN</td>\n",
       "      <td>NaN</td>\n",
       "      <td>nan</td>\n",
       "      <td>52.00</td>\n",
       "    </tr>\n",
       "    <tr>\n",
       "      <th>1</th>\n",
       "      <td>2.00</td>\n",
       "      <td>Male</td>\n",
       "      <td>7.00</td>\n",
       "      <td>1,982.00</td>\n",
       "      <td>...</td>\n",
       "      <td>4 to 6 hours a week</td>\n",
       "      <td>3 to 10 hours a week</td>\n",
       "      <td>6.00</td>\n",
       "      <td>0.00</td>\n",
       "    </tr>\n",
       "    <tr>\n",
       "      <th>2</th>\n",
       "      <td>3.00</td>\n",
       "      <td>Female</td>\n",
       "      <td>9.00</td>\n",
       "      <td>1,983.00</td>\n",
       "      <td>...</td>\n",
       "      <td>10 hours or more a week</td>\n",
       "      <td>3 to 10 hours a week</td>\n",
       "      <td>6.00</td>\n",
       "      <td>0.00</td>\n",
       "    </tr>\n",
       "    <tr>\n",
       "      <th>3</th>\n",
       "      <td>4.00</td>\n",
       "      <td>Female</td>\n",
       "      <td>2.00</td>\n",
       "      <td>1,981.00</td>\n",
       "      <td>...</td>\n",
       "      <td>1 to 3 hours a week</td>\n",
       "      <td>3 to 10 hours a week</td>\n",
       "      <td>6.00</td>\n",
       "      <td>4.00</td>\n",
       "    </tr>\n",
       "    <tr>\n",
       "      <th>4</th>\n",
       "      <td>5.00</td>\n",
       "      <td>Male</td>\n",
       "      <td>10.00</td>\n",
       "      <td>1,982.00</td>\n",
       "      <td>...</td>\n",
       "      <td>Less than 1 hour a week</td>\n",
       "      <td>3 to 10 hours a week</td>\n",
       "      <td>5.00</td>\n",
       "      <td>12.00</td>\n",
       "    </tr>\n",
       "  </tbody>\n",
       "</table>\n",
       "<p>5 rows × 42 columns</p>\n",
       "</div>"
      ],
      "text/plain": [
       "   pubid__yth_id_code_1997 keysex_symbol_1997  keybdate_my_symbol_1997  \\\n",
       "0                     1.00             Female                     9.00   \n",
       "1                     2.00               Male                     7.00   \n",
       "2                     3.00             Female                     9.00   \n",
       "3                     4.00             Female                     2.00   \n",
       "4                     5.00               Male                    10.00   \n",
       "\n",
       "   keybdate_my_symbol_1997  ... hrswk_r_uses_a_computer_2017  \\\n",
       "0                 1,981.00  ...                          NaN   \n",
       "1                 1,982.00  ...          4 to 6 hours a week   \n",
       "2                 1,983.00  ...      10 hours or more a week   \n",
       "3                 1,981.00  ...          1 to 3 hours a week   \n",
       "4                 1,982.00  ...      Less than 1 hour a week   \n",
       "\n",
       "  hrswk_r_watches_television_2017  hrsnight_r_sleeps_2017  cvc_wkswk_yr_all_l99  \n",
       "0                             NaN                     nan                 52.00  \n",
       "1            3 to 10 hours a week                    6.00                  0.00  \n",
       "2            3 to 10 hours a week                    6.00                  0.00  \n",
       "3            3 to 10 hours a week                    6.00                  4.00  \n",
       "4            3 to 10 hours a week                    5.00                 12.00  \n",
       "\n",
       "[5 rows x 42 columns]"
      ]
     },
     "execution_count": 53,
     "metadata": {},
     "output_type": "execute_result"
    }
   ],
   "source": [
    "nls97sas.head()"
   ]
  },
  {
   "cell_type": "code",
   "execution_count": 54,
   "metadata": {},
   "outputs": [
    {
     "data": {
      "text/plain": [
       "Male      4599\n",
       "Female    4385\n",
       "Name: keysex_symbol_1997, dtype: int64"
      ]
     },
     "execution_count": 54,
     "metadata": {},
     "output_type": "execute_result"
    }
   ],
   "source": [
    "nls97sas.keysex_symbol_1997.value_counts()"
   ]
  },
  {
   "cell_type": "code",
   "execution_count": 55,
   "metadata": {},
   "outputs": [],
   "source": [
    "nls97sas.set_index('pubid__yth_id_code_1997', inplace=True)"
   ]
  },
  {
   "cell_type": "markdown",
   "metadata": {},
   "source": [
    "## Importing R data"
   ]
  },
  {
   "cell_type": "code",
   "execution_count": 59,
   "metadata": {},
   "outputs": [],
   "source": [
    "import pprint\n",
    "import pyreadr"
   ]
  },
  {
   "cell_type": "code",
   "execution_count": 60,
   "metadata": {},
   "outputs": [],
   "source": [
    "nls97r = pyreadr.read_r('data/nls97.rds')[None]"
   ]
  },
  {
   "cell_type": "code",
   "execution_count": 61,
   "metadata": {},
   "outputs": [
    {
     "data": {
      "text/plain": [
       "R0000100    int32\n",
       "R0536300    int32\n",
       "R0536401    int32\n",
       "R0536402    int32\n",
       "R1235800    int32\n",
       "R1482600    int32\n",
       "R9793800    int32\n",
       "R9793900    int32\n",
       "R9871900    int32\n",
       "R9872000    int32\n",
       "R9872200    int32\n",
       "R9872400    int32\n",
       "S8646900    int32\n",
       "S8647000    int32\n",
       "S8647100    int32\n",
       "S8647200    int32\n",
       "S8647300    int32\n",
       "S8647400    int32\n",
       "S8647500    int32\n",
       "S8647600    int32\n",
       "S8647700    int32\n",
       "S8647800    int32\n",
       "T6651700    int32\n",
       "U1836800    int32\n",
       "U1836900    int32\n",
       "U1837000    int32\n",
       "U1837100    int32\n",
       "U1837200    int32\n",
       "U1837300    int32\n",
       "U1845400    int32\n",
       "U1852400    int32\n",
       "U1852600    int32\n",
       "U1852700    int32\n",
       "U2166200    int32\n",
       "U2166300    int32\n",
       "U2166400    int32\n",
       "U2166500    int32\n",
       "U2857300    int32\n",
       "U2962800    int32\n",
       "U2962900    int32\n",
       "U2963000    int32\n",
       "Z9063900    int32\n",
       "dtype: object"
      ]
     },
     "execution_count": 61,
     "metadata": {},
     "output_type": "execute_result"
    }
   ],
   "source": [
    "nls97r.dtypes"
   ]
  },
  {
   "cell_type": "code",
   "execution_count": 62,
   "metadata": {},
   "outputs": [
    {
     "data": {
      "text/html": [
       "<div>\n",
       "<style scoped>\n",
       "    .dataframe tbody tr th:only-of-type {\n",
       "        vertical-align: middle;\n",
       "    }\n",
       "\n",
       "    .dataframe tbody tr th {\n",
       "        vertical-align: top;\n",
       "    }\n",
       "\n",
       "    .dataframe thead th {\n",
       "        text-align: right;\n",
       "    }\n",
       "</style>\n",
       "<table border=\"1\" class=\"dataframe\">\n",
       "  <thead>\n",
       "    <tr style=\"text-align: right;\">\n",
       "      <th></th>\n",
       "      <th>R0000100</th>\n",
       "      <th>R0536300</th>\n",
       "      <th>R0536401</th>\n",
       "      <th>R0536402</th>\n",
       "      <th>...</th>\n",
       "      <th>U2962800</th>\n",
       "      <th>U2962900</th>\n",
       "      <th>U2963000</th>\n",
       "      <th>Z9063900</th>\n",
       "    </tr>\n",
       "  </thead>\n",
       "  <tbody>\n",
       "    <tr>\n",
       "      <th>0</th>\n",
       "      <td>1</td>\n",
       "      <td>2</td>\n",
       "      <td>9</td>\n",
       "      <td>1981</td>\n",
       "      <td>...</td>\n",
       "      <td>-5</td>\n",
       "      <td>-5</td>\n",
       "      <td>-5</td>\n",
       "      <td>52</td>\n",
       "    </tr>\n",
       "    <tr>\n",
       "      <th>1</th>\n",
       "      <td>2</td>\n",
       "      <td>1</td>\n",
       "      <td>7</td>\n",
       "      <td>1982</td>\n",
       "      <td>...</td>\n",
       "      <td>4</td>\n",
       "      <td>2</td>\n",
       "      <td>6</td>\n",
       "      <td>0</td>\n",
       "    </tr>\n",
       "    <tr>\n",
       "      <th>2</th>\n",
       "      <td>3</td>\n",
       "      <td>2</td>\n",
       "      <td>9</td>\n",
       "      <td>1983</td>\n",
       "      <td>...</td>\n",
       "      <td>6</td>\n",
       "      <td>2</td>\n",
       "      <td>6</td>\n",
       "      <td>0</td>\n",
       "    </tr>\n",
       "    <tr>\n",
       "      <th>3</th>\n",
       "      <td>4</td>\n",
       "      <td>2</td>\n",
       "      <td>2</td>\n",
       "      <td>1981</td>\n",
       "      <td>...</td>\n",
       "      <td>3</td>\n",
       "      <td>2</td>\n",
       "      <td>6</td>\n",
       "      <td>4</td>\n",
       "    </tr>\n",
       "    <tr>\n",
       "      <th>4</th>\n",
       "      <td>5</td>\n",
       "      <td>1</td>\n",
       "      <td>10</td>\n",
       "      <td>1982</td>\n",
       "      <td>...</td>\n",
       "      <td>2</td>\n",
       "      <td>2</td>\n",
       "      <td>5</td>\n",
       "      <td>12</td>\n",
       "    </tr>\n",
       "    <tr>\n",
       "      <th>5</th>\n",
       "      <td>6</td>\n",
       "      <td>2</td>\n",
       "      <td>1</td>\n",
       "      <td>1982</td>\n",
       "      <td>...</td>\n",
       "      <td>4</td>\n",
       "      <td>2</td>\n",
       "      <td>6</td>\n",
       "      <td>6</td>\n",
       "    </tr>\n",
       "    <tr>\n",
       "      <th>6</th>\n",
       "      <td>7</td>\n",
       "      <td>1</td>\n",
       "      <td>4</td>\n",
       "      <td>1983</td>\n",
       "      <td>...</td>\n",
       "      <td>-5</td>\n",
       "      <td>-5</td>\n",
       "      <td>-5</td>\n",
       "      <td>0</td>\n",
       "    </tr>\n",
       "    <tr>\n",
       "      <th>7</th>\n",
       "      <td>8</td>\n",
       "      <td>2</td>\n",
       "      <td>6</td>\n",
       "      <td>1981</td>\n",
       "      <td>...</td>\n",
       "      <td>-5</td>\n",
       "      <td>-5</td>\n",
       "      <td>-5</td>\n",
       "      <td>39</td>\n",
       "    </tr>\n",
       "    <tr>\n",
       "      <th>8</th>\n",
       "      <td>9</td>\n",
       "      <td>1</td>\n",
       "      <td>10</td>\n",
       "      <td>1982</td>\n",
       "      <td>...</td>\n",
       "      <td>6</td>\n",
       "      <td>2</td>\n",
       "      <td>4</td>\n",
       "      <td>0</td>\n",
       "    </tr>\n",
       "    <tr>\n",
       "      <th>9</th>\n",
       "      <td>10</td>\n",
       "      <td>1</td>\n",
       "      <td>3</td>\n",
       "      <td>1984</td>\n",
       "      <td>...</td>\n",
       "      <td>6</td>\n",
       "      <td>2</td>\n",
       "      <td>6</td>\n",
       "      <td>0</td>\n",
       "    </tr>\n",
       "  </tbody>\n",
       "</table>\n",
       "<p>10 rows × 42 columns</p>\n",
       "</div>"
      ],
      "text/plain": [
       "   R0000100  R0536300  R0536401  R0536402  ...  U2962800  U2962900  U2963000  \\\n",
       "0         1         2         9      1981  ...        -5        -5        -5   \n",
       "1         2         1         7      1982  ...         4         2         6   \n",
       "2         3         2         9      1983  ...         6         2         6   \n",
       "3         4         2         2      1981  ...         3         2         6   \n",
       "4         5         1        10      1982  ...         2         2         5   \n",
       "5         6         2         1      1982  ...         4         2         6   \n",
       "6         7         1         4      1983  ...        -5        -5        -5   \n",
       "7         8         2         6      1981  ...        -5        -5        -5   \n",
       "8         9         1        10      1982  ...         6         2         4   \n",
       "9        10         1         3      1984  ...         6         2         6   \n",
       "\n",
       "   Z9063900  \n",
       "0        52  \n",
       "1         0  \n",
       "2         0  \n",
       "3         4  \n",
       "4        12  \n",
       "5         6  \n",
       "6         0  \n",
       "7        39  \n",
       "8         0  \n",
       "9         0  \n",
       "\n",
       "[10 rows x 42 columns]"
      ]
     },
     "execution_count": 62,
     "metadata": {},
     "output_type": "execute_result"
    }
   ],
   "source": [
    "nls97r.head(10)"
   ]
  },
  {
   "cell_type": "markdown",
   "metadata": {},
   "source": [
    "## Set up dictionaries for value labels and column headings.\n",
    "Load a dictionary that maps columns to the value labels and create a list of preferred column names as follows:"
   ]
  },
  {
   "cell_type": "code",
   "execution_count": 63,
   "metadata": {},
   "outputs": [],
   "source": [
    "with open('data/nlscodes.txt', 'r') as reader:\n",
    "    setvalues = eval(reader.read())"
   ]
  },
  {
   "cell_type": "code",
   "execution_count": 64,
   "metadata": {},
   "outputs": [
    {
     "name": "stdout",
     "output_type": "stream",
     "text": [
      "{'R0536300': {0.0: 'No Information', 1.0: 'Male', 2.0: 'Female'},\n",
      " 'R1235800': {0.0: 'Oversample', 1.0: 'Cross-sectional'},\n",
      " 'S8646900': {1.0: '1. Definitely',\n",
      "              2.0: '2. Probably ',\n",
      "              3.0: '3. Probably not',\n",
      "              4.0: '4. Definitely not'},\n",
      " 'S8647000': {1.0: '1. Definitely',\n",
      "              2.0: '2. Probably ',\n",
      "              3.0: '3. Probably not',\n",
      "              4.0: '4. Definitely not'},\n",
      " 'S8647100': {1.0: '1. Definitely',\n",
      "              2.0: '2. Probably ',\n",
      "              3.0: '3. Probably not',\n",
      "              4.0: '4. Definitely not'},\n",
      " 'S8647200': {1.0: '1. Definitely',\n",
      "              2.0: '2. Probably ',\n",
      "              3.0: '3. Probably not',\n",
      "              4.0: '4. Definitely not'},\n",
      " 'S8647300': {1.0: '1. Definitely',\n",
      "              2.0: '2. Probably ',\n",
      "              3.0: '3. Probably not',\n",
      "              4.0: '4. Definitely not'},\n",
      " 'S8647400': {1.0: '1. Definitely',\n",
      "              2.0: '2. Probably ',\n",
      "              3.0: '3. Probably not',\n",
      "              4.0: '4. Definitely not'},\n",
      " 'S8647500': {1.0: '1. Definitely',\n",
      "              2.0: '2. Probably ',\n",
      "              3.0: '3. Probably not',\n",
      "              4.0: '4. Definitely not'},\n",
      " 'S8647600': {1.0: '1. Definitely',\n",
      "              2.0: '2. Probably ',\n",
      "              3.0: '3. Probably not',\n",
      "              4.0: '4. Definitely not'},\n",
      " 'S8647700': {1.0: '1. Definitely',\n",
      "              2.0: '2. Probably ',\n",
      "              3.0: '3. Probably not',\n",
      "              4.0: '4. Definitely not'},\n",
      " 'S8647800': {1.0: '1. Definitely',\n",
      "              2.0: '2. Probably ',\n",
      "              3.0: '3. Probably not',\n",
      "              4.0: '4. Definitely not'},\n",
      " 'U1836800': {1.0: 'Public ',\n",
      "              2.0: 'Private not-for-profit',\n",
      "              3.0: 'Private for-profit'},\n",
      " 'U1836900': {1.0: 'Public ',\n",
      "              2.0: 'Private not-for-profit',\n",
      "              3.0: 'Private for-profit'},\n",
      " 'U1837000': {1.0: 'Public ',\n",
      "              2.0: 'Private not-for-profit',\n",
      "              3.0: 'Private for-profit'},\n",
      " 'U1837100': {1.0: 'Public ',\n",
      "              2.0: 'Private not-for-profit',\n",
      "              3.0: 'Private for-profit'},\n",
      " 'U1837200': {1.0: 'Public ',\n",
      "              2.0: 'Private not-for-profit',\n",
      "              3.0: 'Private for-profit'},\n",
      " 'U1837300': {1.0: 'Public ',\n",
      "              2.0: 'Private not-for-profit',\n",
      "              3.0: 'Private for-profit'},\n",
      " 'U1845400': {0.0: 'NONE',\n",
      "              1.0: 'A. 1ST GRADE',\n",
      "              2.0: 'B. 2ND GRADE',\n",
      "              3.0: 'C. 3RD GRADE',\n",
      "              4.0: 'D. 4TH GRADE',\n",
      "              5.0: 'E. 5TH GRADE',\n",
      "              6.0: 'F. 6TH GRADE',\n",
      "              7.0: 'G. 7TH GRADE',\n",
      "              8.0: 'H. 8TH GRADE',\n",
      "              9.0: 'I. 9TH GRADE',\n",
      "              10.0: 'J. 10TH GRADE',\n",
      "              11.0: 'K. 11TH GRADE',\n",
      "              12.0: 'L. 12TH GRADE',\n",
      "              13.0: 'M. 1ST YEAR COLLEGE',\n",
      "              14.0: 'N. 2ND YEAR COLLEGE',\n",
      "              15.0: 'O. 3RD YEAR COLLEGE',\n",
      "              16.0: 'P. 4TH YEAR COLLEGE',\n",
      "              17.0: 'Q. 5TH YEAR COLLEGE',\n",
      "              18.0: 'R. 6TH YEAR COLLEGE',\n",
      "              19.0: 'S. 7TH YEAR COLLEGE',\n",
      "              20.0: 'T. 8TH YEAR COLLEGE OR MORE',\n",
      "              95.0: '99. UNGRADED'},\n",
      " 'U1852400': {0.0: 'Never-married',\n",
      "              1.0: 'Married',\n",
      "              2.0: 'Separated',\n",
      "              3.0: 'Divorced',\n",
      "              4.0: 'Widowed'},\n",
      " 'U2166200': {1.0: '1. Associate/Junior College or two-year associate degree '\n",
      "                   '(AA)',\n",
      "              2.0: '2. Vocational or technical certificate',\n",
      "              3.0: \"3. Bachelor's degree (BA, BS or unspecified)\",\n",
      "              4.0: \"4. Master's degree (MA, MBA, MS, MSW)\",\n",
      "              5.0: '5. Doctoral Degree (PhD)',\n",
      "              6.0: '6. Professional Degree (MD, LLD, DDS, JD)',\n",
      "              7.0: '7. No degree received',\n",
      "              8.0: '8. OTHER (SPECIFY)',\n",
      "              9.0: '9. GED',\n",
      "              999.0: '999. UNCODEABLE'},\n",
      " 'U2166300': {1.0: '1. Associate/Junior College or two-year associate degree '\n",
      "                   '(AA)',\n",
      "              2.0: '2. Vocational or technical certificate',\n",
      "              3.0: \"3. Bachelor's degree (BA, BS or unspecified)\",\n",
      "              4.0: \"4. Master's degree (MA, MBA, MS, MSW)\",\n",
      "              5.0: '5. Doctoral Degree (PhD)',\n",
      "              6.0: '6. Professional Degree (MD, LLD, DDS, JD)',\n",
      "              7.0: '7. No degree received',\n",
      "              8.0: '8. OTHER (SPECIFY)',\n",
      "              9.0: '9. GED',\n",
      "              999.0: '999. UNCODEABLE'},\n",
      " 'U2166400': {1.0: '1. Associate/Junior College or two-year associate degree '\n",
      "                   '(AA)',\n",
      "              2.0: '2. Vocational or technical certificate',\n",
      "              3.0: \"3. Bachelor's degree (BA, BS or unspecified)\",\n",
      "              4.0: \"4. Master's degree (MA, MBA, MS, MSW)\",\n",
      "              5.0: '5. Doctoral Degree (PhD)',\n",
      "              6.0: '6. Professional Degree (MD, LLD, DDS, JD)',\n",
      "              7.0: '7. No degree received',\n",
      "              8.0: '8. OTHER (SPECIFY)',\n",
      "              9.0: '9. GED',\n",
      "              999.0: '999. UNCODEABLE'},\n",
      " 'U2166500': {1.0: 'Associate/Junior College or two-year associate degree (AA)',\n",
      "              2.0: '2. Vocational or technical certificate',\n",
      "              3.0: \"3. Bachelor's degree (BA, BS or unspecified)\",\n",
      "              4.0: \"4. Master's degree (MA, MBA, MS, MSW)\",\n",
      "              5.0: '5. Doctoral Degree (PhD)',\n",
      "              6.0: '6. Professional Degree (MD, LLD, DDS, JD)',\n",
      "              7.0: '7. No degree received',\n",
      "              8.0: '8. OTHER (SPECIFY)',\n",
      "              9.0: '9. GED',\n",
      "              999.0: '999. UNCODEABLE'},\n",
      " 'U2857300': {1.0: 'A. $1 - $5,000',\n",
      "              2.0: 'B. $5,001 - $10,000',\n",
      "              3.0: 'C. $10,001 - $25,000',\n",
      "              4.0: 'D. $25,001 - $50,000',\n",
      "              5.0: 'E. $50,001 - $100,000',\n",
      "              6.0: 'F. $100,001 - $250,000',\n",
      "              7.0: 'G. More than $250,000'},\n",
      " 'U2962800': {1.0: '1. None',\n",
      "              2.0: '2. Less than 1 hour a week',\n",
      "              3.0: '3. 1 to 3 hours a week',\n",
      "              4.0: '4. 4 to 6 hours a week',\n",
      "              5.0: '5. 7 to 9 hours a week',\n",
      "              6.0: '6. 10 hours or more a week'},\n",
      " 'U2962900': {1.0: '1. Less than 2 hours per week',\n",
      "              2.0: '2. 3 to 10 hours a week',\n",
      "              3.0: '3. 11 to 20 hours a week',\n",
      "              4.0: '4. 21 to 30 hours a week',\n",
      "              5.0: '5. 31 to 40 hours a week',\n",
      "              6.0: '6. More than 40 hours a week'}}\n"
     ]
    }
   ],
   "source": [
    "pprint.pprint(setvalues)"
   ]
  },
  {
   "cell_type": "code",
   "execution_count": 65,
   "metadata": {},
   "outputs": [],
   "source": [
    "newcols = ['personid','gender','birthmonth','birthyear',\n",
    "           'sampletype',  'category','satverbal','satmath',\n",
    "           'gpaoverall','gpaeng','gpamath','gpascience','govjobs',\n",
    "           'govprices','govhealth','goveld','govind','govunemp',\n",
    "           'govinc','govcollege','govhousing','govenvironment',\n",
    "           'bacredits','coltype1','coltype2','coltype3','coltype4',\n",
    "           'coltype5','coltype6','highestgrade','maritalstatus',\n",
    "           'childnumhome','childnumaway','degreecol1',\n",
    "           'degreecol2','degreecol3','degreecol4','wageincome',\n",
    "           'weeklyhrscomputer','weeklyhrstv',\n",
    "           'nightlyhrssleep','weeksworkedlastyear']"
   ]
  },
  {
   "cell_type": "code",
   "execution_count": 66,
   "metadata": {},
   "outputs": [],
   "source": [
    "# Set value labels and missing values, and change selected columns to category data type.\n",
    "nls97r.replace(setvalues, inplace=True)"
   ]
  },
  {
   "cell_type": "code",
   "execution_count": 67,
   "metadata": {},
   "outputs": [
    {
     "data": {
      "text/html": [
       "<div>\n",
       "<style scoped>\n",
       "    .dataframe tbody tr th:only-of-type {\n",
       "        vertical-align: middle;\n",
       "    }\n",
       "\n",
       "    .dataframe tbody tr th {\n",
       "        vertical-align: top;\n",
       "    }\n",
       "\n",
       "    .dataframe thead th {\n",
       "        text-align: right;\n",
       "    }\n",
       "</style>\n",
       "<table border=\"1\" class=\"dataframe\">\n",
       "  <thead>\n",
       "    <tr style=\"text-align: right;\">\n",
       "      <th></th>\n",
       "      <th>R0000100</th>\n",
       "      <th>R0536300</th>\n",
       "      <th>R0536401</th>\n",
       "      <th>R0536402</th>\n",
       "      <th>...</th>\n",
       "      <th>U2962800</th>\n",
       "      <th>U2962900</th>\n",
       "      <th>U2963000</th>\n",
       "      <th>Z9063900</th>\n",
       "    </tr>\n",
       "  </thead>\n",
       "  <tbody>\n",
       "    <tr>\n",
       "      <th>0</th>\n",
       "      <td>1</td>\n",
       "      <td>Female</td>\n",
       "      <td>9</td>\n",
       "      <td>1981</td>\n",
       "      <td>...</td>\n",
       "      <td>-5</td>\n",
       "      <td>-5</td>\n",
       "      <td>-5</td>\n",
       "      <td>52</td>\n",
       "    </tr>\n",
       "    <tr>\n",
       "      <th>1</th>\n",
       "      <td>2</td>\n",
       "      <td>Male</td>\n",
       "      <td>7</td>\n",
       "      <td>1982</td>\n",
       "      <td>...</td>\n",
       "      <td>4. 4 to 6 hours a week</td>\n",
       "      <td>2. 3 to 10 hours a week</td>\n",
       "      <td>6</td>\n",
       "      <td>0</td>\n",
       "    </tr>\n",
       "    <tr>\n",
       "      <th>2</th>\n",
       "      <td>3</td>\n",
       "      <td>Female</td>\n",
       "      <td>9</td>\n",
       "      <td>1983</td>\n",
       "      <td>...</td>\n",
       "      <td>6. 10 hours or more a week</td>\n",
       "      <td>2. 3 to 10 hours a week</td>\n",
       "      <td>6</td>\n",
       "      <td>0</td>\n",
       "    </tr>\n",
       "    <tr>\n",
       "      <th>3</th>\n",
       "      <td>4</td>\n",
       "      <td>Female</td>\n",
       "      <td>2</td>\n",
       "      <td>1981</td>\n",
       "      <td>...</td>\n",
       "      <td>3. 1 to 3 hours a week</td>\n",
       "      <td>2. 3 to 10 hours a week</td>\n",
       "      <td>6</td>\n",
       "      <td>4</td>\n",
       "    </tr>\n",
       "    <tr>\n",
       "      <th>4</th>\n",
       "      <td>5</td>\n",
       "      <td>Male</td>\n",
       "      <td>10</td>\n",
       "      <td>1982</td>\n",
       "      <td>...</td>\n",
       "      <td>2. Less than 1 hour a week</td>\n",
       "      <td>2. 3 to 10 hours a week</td>\n",
       "      <td>5</td>\n",
       "      <td>12</td>\n",
       "    </tr>\n",
       "  </tbody>\n",
       "</table>\n",
       "<p>5 rows × 42 columns</p>\n",
       "</div>"
      ],
      "text/plain": [
       "   R0000100 R0536300  R0536401  R0536402  ...                    U2962800  \\\n",
       "0         1   Female         9      1981  ...                          -5   \n",
       "1         2     Male         7      1982  ...      4. 4 to 6 hours a week   \n",
       "2         3   Female         9      1983  ...  6. 10 hours or more a week   \n",
       "3         4   Female         2      1981  ...      3. 1 to 3 hours a week   \n",
       "4         5     Male        10      1982  ...  2. Less than 1 hour a week   \n",
       "\n",
       "                  U2962900  U2963000  Z9063900  \n",
       "0                       -5        -5        52  \n",
       "1  2. 3 to 10 hours a week         6         0  \n",
       "2  2. 3 to 10 hours a week         6         0  \n",
       "3  2. 3 to 10 hours a week         6         4  \n",
       "4  2. 3 to 10 hours a week         5        12  \n",
       "\n",
       "[5 rows x 42 columns]"
      ]
     },
     "execution_count": 67,
     "metadata": {},
     "output_type": "execute_result"
    }
   ],
   "source": [
    "nls97r.head()"
   ]
  },
  {
   "cell_type": "code",
   "execution_count": 68,
   "metadata": {},
   "outputs": [],
   "source": [
    "nls97r.replace(list(range(-9,0)), np.nan, inplace=True)"
   ]
  },
  {
   "cell_type": "code",
   "execution_count": 69,
   "metadata": {},
   "outputs": [],
   "source": [
    "for col in nls97r[[k for k in setvalues]].columns:\n",
    "    nls97r[col] = nls97r[col].astype('category')\n",
    "    "
   ]
  },
  {
   "cell_type": "code",
   "execution_count": 70,
   "metadata": {},
   "outputs": [
    {
     "data": {
      "text/plain": [
       "R0000100       int32\n",
       "R0536300    category\n",
       "R0536401       int32\n",
       "R0536402       int32\n",
       "R1235800    category\n",
       "R1482600       int32\n",
       "R9793800     float64\n",
       "R9793900     float64\n",
       "R9871900     float64\n",
       "R9872000     float64\n",
       "R9872200     float64\n",
       "R9872400     float64\n",
       "S8646900    category\n",
       "S8647000    category\n",
       "S8647100    category\n",
       "S8647200    category\n",
       "S8647300    category\n",
       "S8647400    category\n",
       "S8647500    category\n",
       "S8647600    category\n",
       "S8647700    category\n",
       "S8647800    category\n",
       "T6651700     float64\n",
       "U1836800    category\n",
       "U1836900    category\n",
       "U1837000    category\n",
       "U1837100    category\n",
       "U1837200    category\n",
       "U1837300    category\n",
       "U1845400    category\n",
       "U1852400    category\n",
       "U1852600     float64\n",
       "U1852700     float64\n",
       "U2166200    category\n",
       "U2166300    category\n",
       "U2166400    category\n",
       "U2166500    category\n",
       "U2857300    category\n",
       "U2962800    category\n",
       "U2962900    category\n",
       "U2963000     float64\n",
       "Z9063900     float64\n",
       "dtype: object"
      ]
     },
     "execution_count": 70,
     "metadata": {},
     "output_type": "execute_result"
    }
   ],
   "source": [
    "nls97r.dtypes"
   ]
  },
  {
   "cell_type": "code",
   "execution_count": 71,
   "metadata": {},
   "outputs": [],
   "source": [
    "# Set meaningful column headings\n",
    "\n",
    "nls97r.columns = newcols"
   ]
  },
  {
   "cell_type": "code",
   "execution_count": 72,
   "metadata": {},
   "outputs": [
    {
     "data": {
      "text/plain": [
       "personid                  int32\n",
       "gender                 category\n",
       "birthmonth                int32\n",
       "birthyear                 int32\n",
       "sampletype             category\n",
       "category                  int32\n",
       "satverbal               float64\n",
       "satmath                 float64\n",
       "gpaoverall              float64\n",
       "gpaeng                  float64\n",
       "gpamath                 float64\n",
       "gpascience              float64\n",
       "govjobs                category\n",
       "govprices              category\n",
       "govhealth              category\n",
       "goveld                 category\n",
       "govind                 category\n",
       "govunemp               category\n",
       "govinc                 category\n",
       "govcollege             category\n",
       "govhousing             category\n",
       "govenvironment         category\n",
       "bacredits               float64\n",
       "coltype1               category\n",
       "coltype2               category\n",
       "coltype3               category\n",
       "coltype4               category\n",
       "coltype5               category\n",
       "coltype6               category\n",
       "highestgrade           category\n",
       "maritalstatus          category\n",
       "childnumhome            float64\n",
       "childnumaway            float64\n",
       "degreecol1             category\n",
       "degreecol2             category\n",
       "degreecol3             category\n",
       "degreecol4             category\n",
       "wageincome             category\n",
       "weeklyhrscomputer      category\n",
       "weeklyhrstv            category\n",
       "nightlyhrssleep         float64\n",
       "weeksworkedlastyear     float64\n",
       "dtype: object"
      ]
     },
     "execution_count": 72,
     "metadata": {},
     "output_type": "execute_result"
    }
   ],
   "source": [
    "nls97r.dtypes"
   ]
  },
  {
   "cell_type": "code",
   "execution_count": 74,
   "metadata": {},
   "outputs": [],
   "source": [
    "import pyarrow"
   ]
  },
  {
   "cell_type": "code",
   "execution_count": 75,
   "metadata": {},
   "outputs": [],
   "source": [
    "landtemps = pd.read_csv('data/landtempssample.csv',names=['stationid','year','month','avgtemp','latitude',\n",
    "        'longitude','elevation','station','countryid','country'],skiprows=1,parse_dates=[['month','year']],low_memory=False)"
   ]
  },
  {
   "cell_type": "code",
   "execution_count": 76,
   "metadata": {},
   "outputs": [],
   "source": [
    "landtemps.rename(columns={'month_year':'measuredate'}, inplace=True)"
   ]
  },
  {
   "cell_type": "code",
   "execution_count": 77,
   "metadata": {},
   "outputs": [],
   "source": [
    "landtemps.dropna(subset=['avgtemp'], inplace=True)"
   ]
  },
  {
   "cell_type": "code",
   "execution_count": 78,
   "metadata": {},
   "outputs": [
    {
     "data": {
      "text/plain": [
       "measuredate    datetime64[ns]\n",
       "stationid              object\n",
       "avgtemp               float64\n",
       "latitude              float64\n",
       "longitude             float64\n",
       "elevation             float64\n",
       "station                object\n",
       "countryid              object\n",
       "country                object\n",
       "dtype: object"
      ]
     },
     "execution_count": 78,
     "metadata": {},
     "output_type": "execute_result"
    }
   ],
   "source": [
    "landtemps.dtypes"
   ]
  },
  {
   "cell_type": "code",
   "execution_count": 79,
   "metadata": {},
   "outputs": [],
   "source": [
    "landtemps.set_index(['measuredate','stationid'], inplace=True)"
   ]
  },
  {
   "cell_type": "code",
   "execution_count": 80,
   "metadata": {},
   "outputs": [],
   "source": [
    "# Write extreme values for temperature to CSV and Excel files;\n",
    "\n",
    "extremevals = landtemps[(landtemps.avgtemp <\n",
    "landtemps.avgtemp.quantile(.001)) | (landtemps.avgtemp\n",
    "> landtemps.avgtemp.quantile(.999))]"
   ]
  },
  {
   "cell_type": "code",
   "execution_count": 81,
   "metadata": {},
   "outputs": [
    {
     "data": {
      "text/plain": [
       "(171, 7)"
      ]
     },
     "execution_count": 81,
     "metadata": {},
     "output_type": "execute_result"
    }
   ],
   "source": [
    "extremevals.shape"
   ]
  },
  {
   "cell_type": "code",
   "execution_count": 82,
   "metadata": {},
   "outputs": [
    {
     "data": {
      "text/html": [
       "<div>\n",
       "<style scoped>\n",
       "    .dataframe tbody tr th:only-of-type {\n",
       "        vertical-align: middle;\n",
       "    }\n",
       "\n",
       "    .dataframe tbody tr th {\n",
       "        vertical-align: top;\n",
       "    }\n",
       "\n",
       "    .dataframe thead th {\n",
       "        text-align: right;\n",
       "    }\n",
       "</style>\n",
       "<table border=\"1\" class=\"dataframe\">\n",
       "  <thead>\n",
       "    <tr style=\"text-align: right;\">\n",
       "      <th></th>\n",
       "      <th></th>\n",
       "      <th>avgtemp</th>\n",
       "      <th>latitude</th>\n",
       "      <th>longitude</th>\n",
       "      <th>elevation</th>\n",
       "      <th>station</th>\n",
       "      <th>countryid</th>\n",
       "      <th>country</th>\n",
       "    </tr>\n",
       "    <tr>\n",
       "      <th>measuredate</th>\n",
       "      <th>stationid</th>\n",
       "      <th></th>\n",
       "      <th></th>\n",
       "      <th></th>\n",
       "      <th></th>\n",
       "      <th></th>\n",
       "      <th></th>\n",
       "      <th></th>\n",
       "    </tr>\n",
       "  </thead>\n",
       "  <tbody>\n",
       "    <tr>\n",
       "      <th>2018-08-01</th>\n",
       "      <th>USC00264439</th>\n",
       "      <td>34.93</td>\n",
       "      <td>36.05</td>\n",
       "      <td>-115.18</td>\n",
       "      <td>693.40</td>\n",
       "      <td>LAS_VEGAS_WFO</td>\n",
       "      <td>US</td>\n",
       "      <td>United States</td>\n",
       "    </tr>\n",
       "    <tr>\n",
       "      <th>1918-07-01</th>\n",
       "      <th>PKXLT869883</th>\n",
       "      <td>34.49</td>\n",
       "      <td>32.00</td>\n",
       "      <td>71.08</td>\n",
       "      <td>175.00</td>\n",
       "      <td>DERA_ISMAIL_KHAN</td>\n",
       "      <td>PK</td>\n",
       "      <td>Pakistan</td>\n",
       "    </tr>\n",
       "    <tr>\n",
       "      <th>1993-07-01</th>\n",
       "      <th>MR000061421</th>\n",
       "      <td>35.98</td>\n",
       "      <td>20.52</td>\n",
       "      <td>-13.07</td>\n",
       "      <td>224.00</td>\n",
       "      <td>ATAR</td>\n",
       "      <td>MR</td>\n",
       "      <td>Mauritania</td>\n",
       "    </tr>\n",
       "    <tr>\n",
       "      <th>1980-07-01</th>\n",
       "      <th>ER000063043</th>\n",
       "      <td>36.38</td>\n",
       "      <td>13.07</td>\n",
       "      <td>42.72</td>\n",
       "      <td>14.00</td>\n",
       "      <td>ASSAB</td>\n",
       "      <td>ER</td>\n",
       "      <td>Eritrea</td>\n",
       "    </tr>\n",
       "    <tr>\n",
       "      <th>1891-06-01</th>\n",
       "      <th>INXLT131334</th>\n",
       "      <td>35.51</td>\n",
       "      <td>25.03</td>\n",
       "      <td>79.48</td>\n",
       "      <td>231.00</td>\n",
       "      <td>NOWGONG</td>\n",
       "      <td>IN</td>\n",
       "      <td>India</td>\n",
       "    </tr>\n",
       "    <tr>\n",
       "      <th>1973-02-01</th>\n",
       "      <th>RSM00024136</th>\n",
       "      <td>-34.99</td>\n",
       "      <td>68.62</td>\n",
       "      <td>118.33</td>\n",
       "      <td>78.00</td>\n",
       "      <td>SUHANA</td>\n",
       "      <td>RS</td>\n",
       "      <td>Russia</td>\n",
       "    </tr>\n",
       "    <tr>\n",
       "      <th>1971-06-01</th>\n",
       "      <th>PKXLT416671</th>\n",
       "      <td>35.70</td>\n",
       "      <td>27.70</td>\n",
       "      <td>68.87</td>\n",
       "      <td>67.00</td>\n",
       "      <td>SUKKUR</td>\n",
       "      <td>PK</td>\n",
       "      <td>Pakistan</td>\n",
       "    </tr>\n",
       "  </tbody>\n",
       "</table>\n",
       "</div>"
      ],
      "text/plain": [
       "                         avgtemp  latitude  longitude  elevation           station  \\\n",
       "measuredate stationid                                                                \n",
       "2018-08-01  USC00264439    34.93     36.05    -115.18     693.40     LAS_VEGAS_WFO   \n",
       "1918-07-01  PKXLT869883    34.49     32.00      71.08     175.00  DERA_ISMAIL_KHAN   \n",
       "1993-07-01  MR000061421    35.98     20.52     -13.07     224.00              ATAR   \n",
       "1980-07-01  ER000063043    36.38     13.07      42.72      14.00             ASSAB   \n",
       "1891-06-01  INXLT131334    35.51     25.03      79.48     231.00           NOWGONG   \n",
       "1973-02-01  RSM00024136   -34.99     68.62     118.33      78.00            SUHANA   \n",
       "1971-06-01  PKXLT416671    35.70     27.70      68.87      67.00            SUKKUR   \n",
       "\n",
       "                        countryid        country  \n",
       "measuredate stationid                             \n",
       "2018-08-01  USC00264439        US  United States  \n",
       "1918-07-01  PKXLT869883        PK       Pakistan  \n",
       "1993-07-01  MR000061421        MR     Mauritania  \n",
       "1980-07-01  ER000063043        ER        Eritrea  \n",
       "1891-06-01  INXLT131334        IN          India  \n",
       "1973-02-01  RSM00024136        RS         Russia  \n",
       "1971-06-01  PKXLT416671        PK       Pakistan  "
      ]
     },
     "execution_count": 82,
     "metadata": {},
     "output_type": "execute_result"
    }
   ],
   "source": [
    "extremevals.sample(7)"
   ]
  },
  {
   "cell_type": "code",
   "execution_count": 83,
   "metadata": {},
   "outputs": [],
   "source": [
    "# Save to pickle and feather files\n",
    "\n",
    "landtemps.to_pickle('data/landtemps.pkl')"
   ]
  },
  {
   "cell_type": "code",
   "execution_count": 84,
   "metadata": {},
   "outputs": [],
   "source": [
    "landtemps.reset_index(inplace=True)"
   ]
  },
  {
   "cell_type": "code",
   "execution_count": 85,
   "metadata": {},
   "outputs": [],
   "source": [
    "landtemps.to_feather(\"data/landtemps.ftr\")"
   ]
  },
  {
   "cell_type": "code",
   "execution_count": 86,
   "metadata": {},
   "outputs": [
    {
     "data": {
      "text/html": [
       "<div>\n",
       "<style scoped>\n",
       "    .dataframe tbody tr th:only-of-type {\n",
       "        vertical-align: middle;\n",
       "    }\n",
       "\n",
       "    .dataframe tbody tr th {\n",
       "        vertical-align: top;\n",
       "    }\n",
       "\n",
       "    .dataframe thead tr th {\n",
       "        text-align: left;\n",
       "    }\n",
       "</style>\n",
       "<table border=\"1\" class=\"dataframe\">\n",
       "  <thead>\n",
       "    <tr>\n",
       "      <th>measuredate</th>\n",
       "      <th>2000-04-01</th>\n",
       "      <th>1940-05-01</th>\n",
       "    </tr>\n",
       "    <tr>\n",
       "      <th>stationid</th>\n",
       "      <th>USS0010K01S</th>\n",
       "      <th>CI000085406</th>\n",
       "    </tr>\n",
       "  </thead>\n",
       "  <tbody>\n",
       "    <tr>\n",
       "      <th>avgtemp</th>\n",
       "      <td>5.27</td>\n",
       "      <td>18.04</td>\n",
       "    </tr>\n",
       "    <tr>\n",
       "      <th>latitude</th>\n",
       "      <td>39.90</td>\n",
       "      <td>-18.35</td>\n",
       "    </tr>\n",
       "    <tr>\n",
       "      <th>longitude</th>\n",
       "      <td>-110.75</td>\n",
       "      <td>-70.33</td>\n",
       "    </tr>\n",
       "    <tr>\n",
       "      <th>elevation</th>\n",
       "      <td>2,773.70</td>\n",
       "      <td>58.00</td>\n",
       "    </tr>\n",
       "    <tr>\n",
       "      <th>station</th>\n",
       "      <td>INDIAN_CANYON</td>\n",
       "      <td>ARICA</td>\n",
       "    </tr>\n",
       "    <tr>\n",
       "      <th>countryid</th>\n",
       "      <td>US</td>\n",
       "      <td>CI</td>\n",
       "    </tr>\n",
       "    <tr>\n",
       "      <th>country</th>\n",
       "      <td>United States</td>\n",
       "      <td>Chile</td>\n",
       "    </tr>\n",
       "  </tbody>\n",
       "</table>\n",
       "</div>"
      ],
      "text/plain": [
       "measuredate     2000-04-01  1940-05-01\n",
       "stationid      USS0010K01S CI000085406\n",
       "avgtemp               5.27       18.04\n",
       "latitude             39.90      -18.35\n",
       "longitude          -110.75      -70.33\n",
       "elevation         2,773.70       58.00\n",
       "station      INDIAN_CANYON       ARICA\n",
       "countryid               US          CI\n",
       "country      United States       Chile"
      ]
     },
     "execution_count": 86,
     "metadata": {},
     "output_type": "execute_result"
    }
   ],
   "source": [
    "# Load the pickle and feather files we just saved.\n",
    "# Notice that our index was preserved when saving and loading the pickle file:\n",
    "\n",
    "landtemps = pd.read_pickle('data/landtemps.pkl')\n",
    "\n",
    "landtemps.head(2).T"
   ]
  },
  {
   "cell_type": "code",
   "execution_count": 87,
   "metadata": {},
   "outputs": [],
   "source": [
    "landtemps = pd.read_feather(\"data/landtemps.ftr\")"
   ]
  },
  {
   "cell_type": "code",
   "execution_count": 88,
   "metadata": {},
   "outputs": [
    {
     "data": {
      "text/html": [
       "<div>\n",
       "<style scoped>\n",
       "    .dataframe tbody tr th:only-of-type {\n",
       "        vertical-align: middle;\n",
       "    }\n",
       "\n",
       "    .dataframe tbody tr th {\n",
       "        vertical-align: top;\n",
       "    }\n",
       "\n",
       "    .dataframe thead th {\n",
       "        text-align: right;\n",
       "    }\n",
       "</style>\n",
       "<table border=\"1\" class=\"dataframe\">\n",
       "  <thead>\n",
       "    <tr style=\"text-align: right;\">\n",
       "      <th></th>\n",
       "      <th>0</th>\n",
       "      <th>1</th>\n",
       "    </tr>\n",
       "  </thead>\n",
       "  <tbody>\n",
       "    <tr>\n",
       "      <th>measuredate</th>\n",
       "      <td>2000-04-01 00:00:00</td>\n",
       "      <td>1940-05-01 00:00:00</td>\n",
       "    </tr>\n",
       "    <tr>\n",
       "      <th>stationid</th>\n",
       "      <td>USS0010K01S</td>\n",
       "      <td>CI000085406</td>\n",
       "    </tr>\n",
       "    <tr>\n",
       "      <th>avgtemp</th>\n",
       "      <td>5.27</td>\n",
       "      <td>18.04</td>\n",
       "    </tr>\n",
       "    <tr>\n",
       "      <th>latitude</th>\n",
       "      <td>39.90</td>\n",
       "      <td>-18.35</td>\n",
       "    </tr>\n",
       "    <tr>\n",
       "      <th>longitude</th>\n",
       "      <td>-110.75</td>\n",
       "      <td>-70.33</td>\n",
       "    </tr>\n",
       "    <tr>\n",
       "      <th>elevation</th>\n",
       "      <td>2,773.70</td>\n",
       "      <td>58.00</td>\n",
       "    </tr>\n",
       "    <tr>\n",
       "      <th>station</th>\n",
       "      <td>INDIAN_CANYON</td>\n",
       "      <td>ARICA</td>\n",
       "    </tr>\n",
       "    <tr>\n",
       "      <th>countryid</th>\n",
       "      <td>US</td>\n",
       "      <td>CI</td>\n",
       "    </tr>\n",
       "    <tr>\n",
       "      <th>country</th>\n",
       "      <td>United States</td>\n",
       "      <td>Chile</td>\n",
       "    </tr>\n",
       "  </tbody>\n",
       "</table>\n",
       "</div>"
      ],
      "text/plain": [
       "                               0                    1\n",
       "measuredate  2000-04-01 00:00:00  1940-05-01 00:00:00\n",
       "stationid            USS0010K01S          CI000085406\n",
       "avgtemp                     5.27                18.04\n",
       "latitude                   39.90               -18.35\n",
       "longitude                -110.75               -70.33\n",
       "elevation               2,773.70                58.00\n",
       "station            INDIAN_CANYON                ARICA\n",
       "countryid                     US                   CI\n",
       "country            United States                Chile"
      ]
     },
     "execution_count": 88,
     "metadata": {},
     "output_type": "execute_result"
    }
   ],
   "source": [
    "landtemps.head(2).T"
   ]
  },
  {
   "cell_type": "code",
   "execution_count": null,
   "metadata": {},
   "outputs": [],
   "source": []
  }
 ],
 "metadata": {
  "kernelspec": {
   "display_name": "Python 3",
   "language": "python",
   "name": "python3"
  },
  "language_info": {
   "codemirror_mode": {
    "name": "ipython",
    "version": 3
   },
   "file_extension": ".py",
   "mimetype": "text/x-python",
   "name": "python",
   "nbconvert_exporter": "python",
   "pygments_lexer": "ipython3",
   "version": "3.8.3"
  }
 },
 "nbformat": 4,
 "nbformat_minor": 4
}
