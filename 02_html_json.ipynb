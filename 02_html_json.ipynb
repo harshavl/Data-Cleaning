{
 "cells": [
  {
   "cell_type": "markdown",
   "metadata": {},
   "source": [
    "# working with JSON and HTML"
   ]
  },
  {
   "cell_type": "markdown",
   "metadata": {},
   "source": [
    "Importing simple JSON data<br>\n",
    "Importing more complicated JSON data from an API<br>\n",
    "Importing data from web pages<br>\n",
    "Persisting JSON data<br>"
   ]
  },
  {
   "cell_type": "markdown",
   "metadata": {},
   "source": [
    "### Importing simple JSON data<br>\n",
    "Being readable by humans<br>\n",
    "Being consumable by most client devices<br>\n",
    "Not being limited in structure<br>"
   ]
  },
  {
   "cell_type": "code",
   "execution_count": 1,
   "metadata": {},
   "outputs": [],
   "source": [
    "import pandas as pd\n",
    "import numpy as np\n",
    "import json\n",
    "import pprint\n",
    "from collections import Counter"
   ]
  },
  {
   "cell_type": "code",
   "execution_count": 29,
   "metadata": {},
   "outputs": [],
   "source": [
    "# 1. Load the JSON data and look for potential issues.\n",
    "\n",
    "with open('data/allcandidatenewssample.json') as f:\n",
    "    candidatenews = json.load(f)\n",
    "    "
   ]
  },
  {
   "cell_type": "code",
   "execution_count": 3,
   "metadata": {},
   "outputs": [
    {
     "data": {
      "text/plain": [
       "60000"
      ]
     },
     "execution_count": 3,
     "metadata": {},
     "output_type": "execute_result"
    }
   ],
   "source": [
    "len(candidatenews)"
   ]
  },
  {
   "cell_type": "code",
   "execution_count": 4,
   "metadata": {},
   "outputs": [
    {
     "name": "stdout",
     "output_type": "stream",
     "text": [
      "[{'date': '2019-12-25 10:00:00',\n",
      "  'domain': 'www.nbcnews.com',\n",
      "  'panel_position': 1,\n",
      "  'query': 'Michael Bloomberg',\n",
      "  'source': 'NBC News',\n",
      "  'story_position': 6,\n",
      "  'time': '18 hours ago',\n",
      "  'title': 'Bloomberg cuts ties with company using prison inmates to make '\n",
      "           'campaign calls',\n",
      "  'url': 'https://www.nbcnews.com/politics/2020-election/bloomberg-cuts-ties-company-using-prison-inmates-make-campaign-calls-n1106971'},\n",
      " {'date': '2019-11-09 08:00:00',\n",
      "  'domain': 'www.townandcountrymag.com',\n",
      "  'panel_position': 1,\n",
      "  'query': 'Amy Klobuchar',\n",
      "  'source': 'Town & Country Magazine',\n",
      "  'story_position': 3,\n",
      "  'time': '18 hours ago',\n",
      "  'title': \"Democratic Candidates React to Michael Bloomberg's Potential Run\",\n",
      "  'url': 'https://www.townandcountrymag.com/society/politics/a29739854/michael-bloomberg-democratic-candidates-campaign-reactions/'}]\n"
     ]
    }
   ],
   "source": [
    "pprint.pprint(candidatenews[0:2])"
   ]
  },
  {
   "cell_type": "code",
   "execution_count": 5,
   "metadata": {},
   "outputs": [
    {
     "data": {
      "text/plain": [
       "Counter({9: 57202, 2: 2382, 10: 416})"
      ]
     },
     "execution_count": 5,
     "metadata": {},
     "output_type": "execute_result"
    }
   ],
   "source": [
    "# 2.Check for differences in the structure of the dictionaries\n",
    "Counter([len(item) for item in candidatenews])"
   ]
  },
  {
   "cell_type": "code",
   "execution_count": 6,
   "metadata": {},
   "outputs": [
    {
     "name": "stdout",
     "output_type": "stream",
     "text": [
      "{'date': '2019-09-11 18:00:00', 'reason': 'Not collected'}\n"
     ]
    }
   ],
   "source": [
    "pprint.pprint(next(item for item in candidatenews if len(item)<9))"
   ]
  },
  {
   "cell_type": "code",
   "execution_count": 7,
   "metadata": {},
   "outputs": [
    {
     "name": "stdout",
     "output_type": "stream",
     "text": [
      "{'category': 'Satire',\n",
      " 'date': '2019-08-21 04:00:00',\n",
      " 'domain': 'politics.theonion.com',\n",
      " 'panel_position': 1,\n",
      " 'query': 'John Hickenlooper',\n",
      " 'source': 'Politics | The Onion',\n",
      " 'story_position': 8,\n",
      " 'time': '4 days ago',\n",
      " 'title': '‘And Then There Were 23,’ Says Wayne Messam Crossing Out '\n",
      "          'Hickenlooper Photo \\n'\n",
      "          'In Elaborate Grid Of Rivals',\n",
      " 'url': 'https://politics.theonion.com/and-then-there-were-23-says-wayne-messam-crossing-ou-1837311060'}\n"
     ]
    }
   ],
   "source": [
    "pprint.pprint(next(item for item in candidatenews if len(item)>9))"
   ]
  },
  {
   "cell_type": "code",
   "execution_count": 8,
   "metadata": {},
   "outputs": [
    {
     "name": "stdout",
     "output_type": "stream",
     "text": [
      "[{'date': '2019-09-11 18:00:00', 'reason': 'Not collected'},\n",
      " {'date': '2019-07-24 00:00:00', 'reason': 'No Top stories'},\n",
      " {'date': '2019-08-19 20:00:00', 'reason': 'Not collected'},\n",
      " {'date': '2019-09-13 16:00:00', 'reason': 'Not collected'},\n",
      " {'date': '2019-10-16 20:00:00', 'reason': 'No Top stories'},\n",
      " {'date': '2019-10-17 18:00:00', 'reason': 'Not collected'},\n",
      " {'date': '2019-08-02 14:00:00', 'reason': 'Not collected'},\n",
      " {'date': '2019-05-27 12:00:00', 'reason': 'Not collected'},\n",
      " {'date': '2019-12-03 12:00:00', 'reason': 'No Top stories'},\n",
      " {'date': '2019-01-03 00:00:00', 'reason': 'No Top stories'}]\n"
     ]
    }
   ],
   "source": [
    "pprint.pprint([item for item in candidatenews if len(item)==2][0:10])\n"
   ]
  },
  {
   "cell_type": "code",
   "execution_count": 9,
   "metadata": {},
   "outputs": [],
   "source": [
    "candidatenews = [item for item in candidatenews if len(item)>2]\n"
   ]
  },
  {
   "cell_type": "code",
   "execution_count": 10,
   "metadata": {},
   "outputs": [
    {
     "data": {
      "text/plain": [
       "57618"
      ]
     },
     "execution_count": 10,
     "metadata": {},
     "output_type": "execute_result"
    }
   ],
   "source": [
    "len(candidatenews)"
   ]
  },
  {
   "cell_type": "code",
   "execution_count": 11,
   "metadata": {},
   "outputs": [],
   "source": [
    "#3 Generate counts from the JSON data\n",
    "\n",
    "politico = [item for item in candidatenews if item[\"source\"] == \"Politico\"]"
   ]
  },
  {
   "cell_type": "code",
   "execution_count": 12,
   "metadata": {},
   "outputs": [
    {
     "data": {
      "text/plain": [
       "2732"
      ]
     },
     "execution_count": 12,
     "metadata": {},
     "output_type": "execute_result"
    }
   ],
   "source": [
    "len(politico)"
   ]
  },
  {
   "cell_type": "code",
   "execution_count": 13,
   "metadata": {},
   "outputs": [
    {
     "name": "stdout",
     "output_type": "stream",
     "text": [
      "[{'date': '2019-05-18 18:00:00',\n",
      "  'domain': 'www.politico.com',\n",
      "  'panel_position': 1,\n",
      "  'query': 'Marianne Williamson',\n",
      "  'source': 'Politico',\n",
      "  'story_position': 7,\n",
      "  'time': '1 week ago',\n",
      "  'title': 'Marianne Williamson reaches donor threshold for Dem debates',\n",
      "  'url': 'https://www.politico.com/story/2019/05/09/marianne-williamson-2020-election-1315133'},\n",
      " {'date': '2018-12-27 06:00:00',\n",
      "  'domain': 'www.politico.com',\n",
      "  'panel_position': 1,\n",
      "  'query': 'Julian Castro',\n",
      "  'source': 'Politico',\n",
      "  'story_position': 1,\n",
      "  'time': '1 hour ago',\n",
      "  'title': \"O'Rourke and Castro on collision course in Texas\",\n",
      "  'url': 'https://www.politico.com/story/2018/12/27/orourke-julian-castro-collision-texas-election-1073720'}]\n"
     ]
    }
   ],
   "source": [
    "pprint.pprint(politico[0:2])"
   ]
  },
  {
   "cell_type": "code",
   "execution_count": 14,
   "metadata": {},
   "outputs": [],
   "source": [
    "#4. Get the source data and confirm that it has the anticipated length\n",
    "sources = [item.get('source') for item in candidatenews]\n"
   ]
  },
  {
   "cell_type": "code",
   "execution_count": 15,
   "metadata": {},
   "outputs": [
    {
     "data": {
      "text/plain": [
       "list"
      ]
     },
     "execution_count": 15,
     "metadata": {},
     "output_type": "execute_result"
    }
   ],
   "source": [
    "type(sources)"
   ]
  },
  {
   "cell_type": "code",
   "execution_count": 16,
   "metadata": {},
   "outputs": [
    {
     "data": {
      "text/plain": [
       "57618"
      ]
     },
     "execution_count": 16,
     "metadata": {},
     "output_type": "execute_result"
    }
   ],
   "source": [
    "len(sources)"
   ]
  },
  {
   "cell_type": "code",
   "execution_count": 17,
   "metadata": {},
   "outputs": [
    {
     "data": {
      "text/plain": [
       "['NBC News', 'Town & Country Magazine', 'TheHill', 'CNBC.com', 'Fox News']"
      ]
     },
     "execution_count": 17,
     "metadata": {},
     "output_type": "execute_result"
    }
   ],
   "source": [
    "sources[0:5]"
   ]
  },
  {
   "cell_type": "code",
   "execution_count": 18,
   "metadata": {},
   "outputs": [
    {
     "name": "stdout",
     "output_type": "stream",
     "text": [
      "[('Fox News', 3530),\n",
      " ('CNN.com', 2750),\n",
      " ('Politico', 2732),\n",
      " ('TheHill', 2383),\n",
      " ('The New York Times', 1804),\n",
      " ('Washington Post', 1770),\n",
      " ('Washington Examiner', 1655),\n",
      " ('The Hill', 1342),\n",
      " ('New York Post', 1275),\n",
      " ('Vox', 941)]\n"
     ]
    }
   ],
   "source": [
    "pprint.pprint(Counter(sources).most_common(10))"
   ]
  },
  {
   "cell_type": "code",
   "execution_count": 20,
   "metadata": {},
   "outputs": [],
   "source": [
    "#5. Fix any errors in the values in the dictionary\n",
    "for newsdict in candidatenews:\n",
    "    newsdict.update((k, \"The Hill\") for k, v in newsdict.items() if k == \"source\" and v == \"TheHill\")\n",
    "    "
   ]
  },
  {
   "cell_type": "code",
   "execution_count": 21,
   "metadata": {},
   "outputs": [],
   "source": [
    "sources = [item.get('source') for item in candidatenews]"
   ]
  },
  {
   "cell_type": "code",
   "execution_count": 22,
   "metadata": {},
   "outputs": [
    {
     "name": "stdout",
     "output_type": "stream",
     "text": [
      "[('The Hill', 3725),\n",
      " ('Fox News', 3530),\n",
      " ('CNN.com', 2750),\n",
      " ('Politico', 2732),\n",
      " ('The New York Times', 1804),\n",
      " ('Washington Post', 1770),\n",
      " ('Washington Examiner', 1655),\n",
      " ('New York Post', 1275),\n",
      " ('Vox', 941),\n",
      " ('Breitbart', 799)]\n"
     ]
    }
   ],
   "source": [
    "pprint.pprint(Counter(sources).most_common(10))"
   ]
  },
  {
   "cell_type": "code",
   "execution_count": 23,
   "metadata": {},
   "outputs": [],
   "source": [
    "#6. Create a pandas DataFrame\n",
    "candidatenewsdf = pd.DataFrame(candidatenews)\n"
   ]
  },
  {
   "cell_type": "code",
   "execution_count": 24,
   "metadata": {},
   "outputs": [
    {
     "data": {
      "text/plain": [
       "title             object\n",
       "url               object\n",
       "source            object\n",
       "time              object\n",
       "date              object\n",
       "query             object\n",
       "story_position     int64\n",
       "panel_position    object\n",
       "domain            object\n",
       "category          object\n",
       "dtype: object"
      ]
     },
     "execution_count": 24,
     "metadata": {},
     "output_type": "execute_result"
    }
   ],
   "source": [
    "candidatenewsdf.dtypes"
   ]
  },
  {
   "cell_type": "code",
   "execution_count": 26,
   "metadata": {},
   "outputs": [],
   "source": [
    "#7. Confirm that we are getting the expected values for source\n",
    "candidatenewsdf.rename(columns={'date':'storydate'}, inplace=True)"
   ]
  },
  {
   "cell_type": "code",
   "execution_count": 27,
   "metadata": {},
   "outputs": [],
   "source": [
    "candidatenewsdf.storydate = candidatenewsdf.storydate.astype('datetime64[ns]')"
   ]
  },
  {
   "cell_type": "code",
   "execution_count": 28,
   "metadata": {},
   "outputs": [
    {
     "data": {
      "text/plain": [
       "(57618, 10)"
      ]
     },
     "execution_count": 28,
     "metadata": {},
     "output_type": "execute_result"
    }
   ],
   "source": [
    "candidatenewsdf.shape"
   ]
  },
  {
   "cell_type": "code",
   "execution_count": 30,
   "metadata": {},
   "outputs": [
    {
     "data": {
      "text/plain": [
       "The Hill               3725\n",
       "Fox News               3530\n",
       "CNN.com                2750\n",
       "Politico               2732\n",
       "The New York Times     1804\n",
       "Washington Post        1770\n",
       "Washington Examiner    1655\n",
       "New York Post          1275\n",
       "Vox                     941\n",
       "Breitbart               799\n",
       "Name: source, dtype: int64"
      ]
     },
     "execution_count": 30,
     "metadata": {},
     "output_type": "execute_result"
    }
   ],
   "source": [
    "candidatenewsdf.source.value_counts(sort=True).head(10)"
   ]
  },
  {
   "cell_type": "markdown",
   "metadata": {},
   "source": [
    "## Importing more complicated JSON data from an API"
   ]
  },
  {
   "cell_type": "markdown",
   "metadata": {},
   "source": [
    "#### Create a DataFrame from the museum's collections data with one row for each citation, and the title and creation_date duplicated"
   ]
  },
  {
   "cell_type": "code",
   "execution_count": 31,
   "metadata": {},
   "outputs": [],
   "source": [
    "# 1. Import the json, requests, and pprint libraries\n",
    "\n",
    "import pandas as pd\n",
    "import numpy as np\n",
    "import json\n",
    "import pprint\n",
    "import requests"
   ]
  },
  {
   "cell_type": "code",
   "execution_count": 32,
   "metadata": {},
   "outputs": [],
   "source": [
    "#2. Use an API to load the JSON data\n",
    "\n",
    "response = requests.get(\"https://openaccess-api.clevelandart.org/api/artworks/?african_american_artists\")"
   ]
  },
  {
   "cell_type": "code",
   "execution_count": 33,
   "metadata": {},
   "outputs": [],
   "source": [
    "camcollections = json.loads(response.text)"
   ]
  },
  {
   "cell_type": "code",
   "execution_count": 34,
   "metadata": {},
   "outputs": [
    {
     "name": "stdout",
     "output_type": "stream",
     "text": [
      "796\n"
     ]
    }
   ],
   "source": [
    "print(len(camcollections['data']))"
   ]
  },
  {
   "cell_type": "code",
   "execution_count": 35,
   "metadata": {},
   "outputs": [
    {
     "name": "stdout",
     "output_type": "stream",
     "text": [
      "{'accession_number': '2007.158',\n",
      " 'catalogue_raisonne': None,\n",
      " 'citations': [{'citation': 'Annual Exhibition: Sculpture, Paintings, '\n",
      "                            'Watercolors, Drawings (New York: Whitney Museum '\n",
      "                            'of American Art, 1958).',\n",
      "                'page_number': 'Unpaginated, [8],[12]',\n",
      "                'url': None},\n",
      "               {'citation': '\"Moscow to See Modern U.S. Art,\"<em> New York '\n",
      "                            'Times</em> (May 31, 1959).',\n",
      "                'page_number': 'P. 60',\n",
      "                'url': None},\n",
      "               {'citation': 'Baur, John I. H. <em>Between the Fairs: 25 Years '\n",
      "                            'of America Art, 1939-1964.</em> New York. Whitney '\n",
      "                            'Museum. Catalogues. 1962-64. New York: Published '\n",
      "                            'for the Whitney Museum of American Art by F.A. '\n",
      "                            'Praeger, 1964.',\n",
      "                'page_number': 'P. 88',\n",
      "                'url': None},\n",
      "               {'citation': 'Kramer,Hilton. \"In the Museums,\" <em>Art in '\n",
      "                            'America</em> 52 (April 1964).',\n",
      "                'page_number': 'P. 42',\n",
      "                'url': None},\n",
      "               {'citation': 'Illustration for Victor S. Navasky, \"With Malice '\n",
      "                            'Toward All,\" <em>New York Times Book Review '\n",
      "                            '</em>(February 27, 1966).',\n",
      "                'page_number': 'P. 4',\n",
      "                'url': None},\n",
      "               {'citation': 'Chwast, Seymour, and Steven Heller. <em>The Art '\n",
      "                            'of New York</em>. New York: H.N. Abrams, 1983.',\n",
      "                'page_number': 'P. 18, 76',\n",
      "                'url': None},\n",
      "               {'citation': 'Berman,Avis. \"Jacob Lawrence and the Making of '\n",
      "                            'Americans,\" <em>ARTnews</em> 83 (February 1984).',\n",
      "                'page_number': 'P. 82',\n",
      "                'url': None},\n",
      "               {'citation': 'Wheat, Ellen Harkins, Jacob Lawrence, and '\n",
      "                            'Patricia Hills. <em>Jacob Lawrence, American '\n",
      "                            'Painter.</em> Seattle: University of Washington '\n",
      "                            'Press in association with the Seattle Art Museum, '\n",
      "                            '1986.',\n",
      "                'page_number': 'P. 107,129',\n",
      "                'url': None},\n",
      "               {'citation': \"Sotheby's (Firm). <em>American Impressionist \"\n",
      "                            '&amp; 20th Century Paintings, Drawings, '\n",
      "                            'Watercolors &amp; Sculpture</em>. May 29, 1981. '\n",
      "                            'Lot 182.',\n",
      "                'page_number': None,\n",
      "                'url': None},\n",
      "               {'citation': 'Glueck, Grace. <em>New York: The Painted '\n",
      "                            'City</em>. Salt Lake City: Peregrine Smith Books, '\n",
      "                            '1992.',\n",
      "                'page_number': 'P. 54',\n",
      "                'url': None},\n",
      "               {'citation': 'Stern, Robert A.M. et al., <em>New York 1960 '\n",
      "                            '</em>(New York: Monacelli Press, 1995).',\n",
      "                'page_number': 'P. 1164',\n",
      "                'url': None},\n",
      "               {'citation': 'Richard J. Powell, \"Harmonizer of Chaos,\" in '\n",
      "                            'Peter T. Nesbett and Michelle DuBois, eds., Over '\n",
      "                            'the Line: The Art and Life of Jacob Lawrence '\n",
      "                            '(Seattle: University of Washington, 2000).',\n",
      "                'page_number': 'P. 148-49',\n",
      "                'url': None},\n",
      "               {'citation': 'Nesbett, Peter T. and Michelle DuBois, <em>Jacob '\n",
      "                            'Lawrence: Paintings, Drawings, and Murals '\n",
      "                            '(1935-1999)</em>: <em>A Catalogue Raisonné.</em> '\n",
      "                            'Seattle: University of Washington, 2000.',\n",
      "                'page_number': 'P. 141',\n",
      "                'url': None},\n",
      "               {'citation': 'Wright, Gwendolyn. \"Permable Boundaries,\" in '\n",
      "                            'Peter Madsen and Richard Plunz, eds., <em>The '\n",
      "                            'Urban Lifeworld</em> (London: Routledge, 2002).',\n",
      "                'page_number': 'Reproduced p. 210',\n",
      "                'url': None},\n",
      "               {'citation': 'Kushner, Marilyn S.\"Exhibiting Art at the '\n",
      "                            'American National Exhibition in Moscow, 1959: '\n",
      "                            'Domestic Politics and Cultural Diplomacy,\" '\n",
      "                            '<em>Journal of Cold War Studies</em> 4 (Winter '\n",
      "                            '2002), 24.',\n",
      "                'page_number': 'P. 24',\n",
      "                'url': None},\n",
      "               {'citation': 'Hills, Patricia, and Melissa Renn. Syncopated '\n",
      "                            'Rhythms: 20th-Century African American Art from '\n",
      "                            'the George and Joyce Wein Collection. Boston: '\n",
      "                            'Boston University Art Gallery, 2005.',\n",
      "                'page_number': 'P. 64-65',\n",
      "                'url': None},\n",
      "               {'citation': '\"Harlem\\'s Knights: Extraordinary $2 Million '\n",
      "                            'Bequest for Lawrence Scholars Program,\"<em> '\n",
      "                            'Parsons re:D</em> 22 (May 2005).',\n",
      "                'page_number': 'P. 22',\n",
      "                'url': None},\n",
      "               {'citation': 'The Cleveland Museum of Art Annual Report (July '\n",
      "                            '1,2006- June 30, 2007).',\n",
      "                'page_number': 'P. 26-7, 32',\n",
      "                'url': None},\n",
      "               {'citation': \"Adams, Henry.<em> What's American About American \"\n",
      "                            'Art?: A Gallery Tour in the Cleveland Museum of '\n",
      "                            'Art.</em> Cleveland: Cleveland Museum of Art, '\n",
      "                            '2008.',\n",
      "                'page_number': 'P. 8,13, 144-145',\n",
      "                'url': None},\n",
      "               {'citation': 'Cole, Mark. \"Jacob Lawrence\\'s Fulton and '\n",
      "                            'Nostrand,\" <em>Cleveland Art</em> 48 (February '\n",
      "                            '2008).',\n",
      "                'page_number': 'P. 6-7; Reproduced p. 6.',\n",
      "                'url': None},\n",
      "               {'citation': 'Gordon, Margery. \"Eyes on the Prizes,\" Art + '\n",
      "                            'Auction 31 (February 2008).',\n",
      "                'page_number': 'Reproduced p. 117',\n",
      "                'url': None},\n",
      "               {'citation': 'Cleveland Museum of Art, David Franklin, and C. '\n",
      "                            'Griffith Mann. <em>Treasures from the Cleveland '\n",
      "                            'Museum of Art</em>. Cleveland, OH: Cleveland '\n",
      "                            'Museum of Art, 2012.',\n",
      "                'page_number': 'P. 322-23',\n",
      "                'url': None},\n",
      "               {'citation': 'Cole, Mark, Amy Sparks, and Rebecca Michaels.<em> '\n",
      "                            'African American Art: The Cleveland Museum of '\n",
      "                            'Art.</em> [Cleveland, Ohio]: Cleveland Museum of '\n",
      "                            'Art, 2013.',\n",
      "                'page_number': 'P. 3,18; Reproduced p. 22',\n",
      "                'url': None},\n",
      "               {'citation': 'Cole, Mark. \"American Art of the 1930s to 1950s,\" '\n",
      "                            '<em>Cleveland Art</em> 54 (January/February '\n",
      "                            '2014).',\n",
      "                'page_number': 'P. 21',\n",
      "                'url': None}],\n",
      " 'collection': 'American - Painting',\n",
      " 'copyright': '© The Jacob and Gwendolyn Knight Lawrence Foundation, Seattle / '\n",
      "              'Artists Rights Society (ARS), New York.',\n",
      " 'creation_date': '1958',\n",
      " 'creation_date_earliest': 1958,\n",
      " 'creation_date_latest': 1958,\n",
      " 'creators': [{'biography': 'Jacob Lawrence (born 1917) has been a prominent '\n",
      "                            'artist since 1941 when, at age 24, he became the '\n",
      "                            'first African American to have a work in the '\n",
      "                            'permanent collection of the Museum of Modern Art '\n",
      "                            'in New York. His career, now spanning seven '\n",
      "                            'decades, has been devoted to documenting '\n",
      "                            'African-American life and history, from everyday '\n",
      "                            'scenes to the universal struggle for freedom, '\n",
      "                            'social justice, and human dignity. Moving to '\n",
      "                            'Harlem as a teenager in 1930, Lawrence was '\n",
      "                            'influenced by the artists, writers, and '\n",
      "                            'philosophers of the Harlem Renaissance-among them '\n",
      "                            'Romare Bearden, Langston Hughes, and W.E.B. '\n",
      "                            'DuBois-who fostered pride in African-American '\n",
      "                            \"culture. Lawrence's subjects include the \"\n",
      "                            'legendary abolitionist heroes Frederick Douglass, '\n",
      "                            'Harriet Tubman, and John Brown, and the story of '\n",
      "                            'the massive migration of African Americans from '\n",
      "                            'the rural South to the industrialized, urban '\n",
      "                            'North during the early decades of the 20th '\n",
      "                            'century. After thorough research, Lawrence '\n",
      "                            'chronicles the crucial events of each saga by '\n",
      "                            'creating a series of small paintings on paper in '\n",
      "                            'a modernist style of flat, brightly-colored '\n",
      "                            'forms.',\n",
      "               'birth_year': '1917',\n",
      "               'death_year': '2000',\n",
      "               'description': 'Jacob Lawrence (American, 1917-2000)',\n",
      "               'extent': None,\n",
      "               'id': 4050,\n",
      "               'name_in_original_language': None,\n",
      "               'qualifier': None,\n",
      "               'role': 'artist'}],\n",
      " 'creditline': 'Mr. and Mrs. William H. Marlatt Fund',\n",
      " 'culture': ['America, 20th century'],\n",
      " 'current_location': '226B American Modern',\n",
      " 'department': 'American Painting and Sculpture',\n",
      " 'digital_description': 'Jacob Lawrence, who lived near this intersection of '\n",
      "                        'Fulton Street and Nostrand Avenue in Brooklyn, '\n",
      "                        'captured a dynamic scene of New York City life. He '\n",
      "                        'uses boldly colored, jagged shapes to present people '\n",
      "                        'rushing around this busy evening.',\n",
      " 'dimensions': {'unframed': {'height': 0.609, 'width': 0.762}},\n",
      " 'edition_of_the_work': None,\n",
      " 'exhibitions': {'current': [],\n",
      "                 'legacy': ['Annual Exhibition: Sculpture, Paintings, '\n",
      "                            'Watercolors, Drawings, Whitney Museum of American '\n",
      "                            'Art, New York, November 19. 1958-January 4, '\n",
      "                            '1959.<br><br>American Sculpture and Painting: '\n",
      "                            'American National Exhibition in Moscow, The '\n",
      "                            'Pushkin Museum of Fine Arts, Moscow, July '\n",
      "                            '25-September 5, 1959; Whitney Museum of American '\n",
      "                            'Art, New York, October 28-November 15, '\n",
      "                            '1959.<br><br>Between the Fairs: Twenty-Five Years '\n",
      "                            'of American Art, 1939-1964, Whitney Museum of '\n",
      "                            'American Art, New York, June 24-September 23, '\n",
      "                            '1964.<br><br>Contemporary Urban Visions, Wollman '\n",
      "                            'Hall, New School Art Center, New School for '\n",
      "                            'Social Research, New York, January 25-February '\n",
      "                            '24, 1966.<br><br>Crossing State Lines: '\n",
      "                            'Twentieth-Century Art from Private Collections in '\n",
      "                            'Westchester and Fairfield Counties, Neuberger '\n",
      "                            'Museum of Art, Purchase College, State University '\n",
      "                            'of New York, March 26-June 18, 1995.<br><br>Jacob '\n",
      "                            'Lawrence Memorial Exhibition: Paintings, '\n",
      "                            '1937-1999, DC Moore Gallery, New York, February '\n",
      "                            '6-March 3, 2001.<br><br>Syncopated Rhythms: '\n",
      "                            '20th-Century African American Art from the George '\n",
      "                            'and Joyce Wein Collection, Boston University Art '\n",
      "                            'Gallery, November 18, 2005-January 22, 2006.']},\n",
      " 'external_resources': {'internet_archive': [], 'wikidata': []},\n",
      " 'find_spot': None,\n",
      " 'former_accession_numbers': [],\n",
      " 'fun_fact': 'Lawrence was teaching art at the Pratt Institute in Brooklyn '\n",
      "             'when he created this painting.',\n",
      " 'id': 165157,\n",
      " 'images': None,\n",
      " 'inscriptions': [{'inscription': 'signed lower right \"Jacob Lawrence 58\"',\n",
      "                   'inscription_remark': None,\n",
      "                   'inscription_translation': None}],\n",
      " 'measurements': 'Unframed: 60.9 x 76.2 cm (24 x 30 in.)',\n",
      " 'provenance': [{'citations': [],\n",
      "                 'date': '1958',\n",
      "                 'description': '(The Alan Stone Gallery, New York, NY,  sold '\n",
      "                                'to Alexander and Sylvian Rittmaster)',\n",
      "                 'footnotes': ['Jacob Lawrence sold the painting directly to '\n",
      "                               'the Alan Gallery in 1958.']},\n",
      "                {'citations': [],\n",
      "                 'date': '1958-1981',\n",
      "                 'description': 'Alexander [1916-1969] and Sylvian Rittmaster '\n",
      "                                '[1917-1978], Woodmere, NY',\n",
      "                 'footnotes': ['Although Slyvian Rittmaster died in 1978, the '\n",
      "                               '1981 Sotheby Parke Bernet catalogue lists the '\n",
      "                               'painting as coming from their collection, '\n",
      "                               \"hence listing the painting's dates with the \"\n",
      "                               'Rittmasters as ending with 1981 rather than '\n",
      "                               '1978.']},\n",
      "                {'citations': [],\n",
      "                 'date': '1981-1983?',\n",
      "                 'description': '(Sotheby Park Bernet, New York, NY, May '\n",
      "                                '29,1981, lot 182, sold to the Terry '\n",
      "                                'Dintenfass Gallery)',\n",
      "                 'footnotes': None},\n",
      "                {'citations': [],\n",
      "                 'date': '1983',\n",
      "                 'description': '(Terry Dintenfass Gallery, New York, NY, sold '\n",
      "                                'to George and Joyce Wein)',\n",
      "                 'footnotes': []},\n",
      "                {'citations': [],\n",
      "                 'date': '1983-2007',\n",
      "                 'description': 'George [b. 1925] and Joyce [1928-2005] Wein, '\n",
      "                                'New York, NY, consigned to the Michael '\n",
      "                                'Rosenfeld Gallery',\n",
      "                 'footnotes': []},\n",
      "                {'citations': [],\n",
      "                 'date': '2007',\n",
      "                 'description': '(Michael Rosenfeld Gallery, New York, NY, '\n",
      "                                'sold to the Cleveland Museum of Art)',\n",
      "                 'footnotes': None},\n",
      "                {'citations': [],\n",
      "                 'date': '2007-',\n",
      "                 'description': 'The Cleveland Museum of Art, Cleveland, OH',\n",
      "                 'footnotes': []}],\n",
      " 'related_works': [],\n",
      " 'series': None,\n",
      " 'series_in_original_language': None,\n",
      " 'share_license_status': 'Copyrighted',\n",
      " 'state_of_the_work': None,\n",
      " 'support_materials': [],\n",
      " 'technique': 'tempera on Masonite',\n",
      " 'title': 'Fulton and Nostrand',\n",
      " 'title_in_original_language': None,\n",
      " 'tombstone': 'Fulton and Nostrand, 1958. Jacob Lawrence (American, '\n",
      "              '1917-2000). Tempera on Masonite; unframed: 60.9 x 76.2 cm (24 x '\n",
      "              '30 in.). The Cleveland Museum of Art, Mr. and Mrs. William H. '\n",
      "              'Marlatt Fund 2007.158 © The Jacob and Gwendolyn Knight Lawrence '\n",
      "              'Foundation, Seattle / Artists Rights Society (ARS), New York.',\n",
      " 'type': 'Painting',\n",
      " 'updated_at': '2020-11-04 21:59:24.646000',\n",
      " 'url': 'https://clevelandart.org/art/2007.158',\n",
      " 'wall_description': 'Having moved to Harlem as a teenager, Lawrence would '\n",
      "                     'become the first major artist trained entirely within '\n",
      "                     'the neighborhood’s African American community. '\n",
      "                     'Throughout his long career he believed art should be a '\n",
      "                     'quest for both self and social identity, a notion '\n",
      "                     'reflected in this work, one of his liveliest and largest '\n",
      "                     'paintings. Teeming with more than forty figures, it '\n",
      "                     'depicts the vibrant streetscape at the intersection of '\n",
      "                     'Fulton Street (now Harriet Tubman Avenue) and Nostrand '\n",
      "                     'Avenue in Brooklyn, near where the artist lived at the '\n",
      "                     'time.'}\n"
     ]
    }
   ],
   "source": [
    "pprint.pprint(camcollections['data'][0])"
   ]
  },
  {
   "cell_type": "code",
   "execution_count": 36,
   "metadata": {},
   "outputs": [],
   "source": [
    "#3.Flatten the JSON data\n",
    "\n",
    "camcollectionsdf=pd.json_normalize(camcollections['data'],'citations',['accession_number','title','creation_date','collection','creators','type'])\n"
   ]
  },
  {
   "cell_type": "code",
   "execution_count": 37,
   "metadata": {},
   "outputs": [
    {
     "data": {
      "text/html": [
       "<div>\n",
       "<style scoped>\n",
       "    .dataframe tbody tr th:only-of-type {\n",
       "        vertical-align: middle;\n",
       "    }\n",
       "\n",
       "    .dataframe tbody tr th {\n",
       "        vertical-align: top;\n",
       "    }\n",
       "\n",
       "    .dataframe thead th {\n",
       "        text-align: right;\n",
       "    }\n",
       "</style>\n",
       "<table border=\"1\" class=\"dataframe\">\n",
       "  <thead>\n",
       "    <tr style=\"text-align: right;\">\n",
       "      <th></th>\n",
       "      <th>0</th>\n",
       "      <th>1</th>\n",
       "    </tr>\n",
       "  </thead>\n",
       "  <tbody>\n",
       "    <tr>\n",
       "      <th>citation</th>\n",
       "      <td>Annual Exhibition: Sculpture, Paintings, Water...</td>\n",
       "      <td>\"Moscow to See Modern U.S. Art,\"&lt;em&gt; New York ...</td>\n",
       "    </tr>\n",
       "    <tr>\n",
       "      <th>page_number</th>\n",
       "      <td>Unpaginated, [8],[12]</td>\n",
       "      <td>P. 60</td>\n",
       "    </tr>\n",
       "    <tr>\n",
       "      <th>url</th>\n",
       "      <td>None</td>\n",
       "      <td>None</td>\n",
       "    </tr>\n",
       "    <tr>\n",
       "      <th>accession_number</th>\n",
       "      <td>2007.158</td>\n",
       "      <td>2007.158</td>\n",
       "    </tr>\n",
       "    <tr>\n",
       "      <th>title</th>\n",
       "      <td>Fulton and Nostrand</td>\n",
       "      <td>Fulton and Nostrand</td>\n",
       "    </tr>\n",
       "    <tr>\n",
       "      <th>creation_date</th>\n",
       "      <td>1958</td>\n",
       "      <td>1958</td>\n",
       "    </tr>\n",
       "    <tr>\n",
       "      <th>collection</th>\n",
       "      <td>American - Painting</td>\n",
       "      <td>American - Painting</td>\n",
       "    </tr>\n",
       "    <tr>\n",
       "      <th>creators</th>\n",
       "      <td>[{'id': 4050, 'description': 'Jacob Lawrence (...</td>\n",
       "      <td>[{'id': 4050, 'description': 'Jacob Lawrence (...</td>\n",
       "    </tr>\n",
       "    <tr>\n",
       "      <th>type</th>\n",
       "      <td>Painting</td>\n",
       "      <td>Painting</td>\n",
       "    </tr>\n",
       "  </tbody>\n",
       "</table>\n",
       "</div>"
      ],
      "text/plain": [
       "                                                                  0  \\\n",
       "citation          Annual Exhibition: Sculpture, Paintings, Water...   \n",
       "page_number                                   Unpaginated, [8],[12]   \n",
       "url                                                            None   \n",
       "accession_number                                           2007.158   \n",
       "title                                           Fulton and Nostrand   \n",
       "creation_date                                                  1958   \n",
       "collection                                      American - Painting   \n",
       "creators          [{'id': 4050, 'description': 'Jacob Lawrence (...   \n",
       "type                                                       Painting   \n",
       "\n",
       "                                                                  1  \n",
       "citation          \"Moscow to See Modern U.S. Art,\"<em> New York ...  \n",
       "page_number                                                   P. 60  \n",
       "url                                                            None  \n",
       "accession_number                                           2007.158  \n",
       "title                                           Fulton and Nostrand  \n",
       "creation_date                                                  1958  \n",
       "collection                                      American - Painting  \n",
       "creators          [{'id': 4050, 'description': 'Jacob Lawrence (...  \n",
       "type                                                       Painting  "
      ]
     },
     "execution_count": 37,
     "metadata": {},
     "output_type": "execute_result"
    }
   ],
   "source": [
    "camcollectionsdf.head(2).T"
   ]
  },
  {
   "cell_type": "code",
   "execution_count": 38,
   "metadata": {},
   "outputs": [],
   "source": [
    "#4.Pull the birth_year value from creators\n",
    "\n",
    "creator = camcollectionsdf[:1].creators[0]\n"
   ]
  },
  {
   "cell_type": "code",
   "execution_count": 39,
   "metadata": {},
   "outputs": [
    {
     "data": {
      "text/plain": [
       "dict"
      ]
     },
     "execution_count": 39,
     "metadata": {},
     "output_type": "execute_result"
    }
   ],
   "source": [
    "type(creator[0])"
   ]
  },
  {
   "cell_type": "code",
   "execution_count": 40,
   "metadata": {},
   "outputs": [
    {
     "name": "stdout",
     "output_type": "stream",
     "text": [
      "[{'biography': 'Jacob Lawrence (born 1917) has been a prominent artist since '\n",
      "               '1941 when, at age 24, he became the first African American to '\n",
      "               'have a work in the permanent collection of the Museum of '\n",
      "               'Modern Art in New York. His career, now spanning seven '\n",
      "               'decades, has been devoted to documenting African-American life '\n",
      "               'and history, from everyday scenes to the universal struggle '\n",
      "               'for freedom, social justice, and human dignity. Moving to '\n",
      "               'Harlem as a teenager in 1930, Lawrence was influenced by the '\n",
      "               'artists, writers, and philosophers of the Harlem '\n",
      "               'Renaissance-among them Romare Bearden, Langston Hughes, and '\n",
      "               'W.E.B. DuBois-who fostered pride in African-American culture. '\n",
      "               \"Lawrence's subjects include the legendary abolitionist heroes \"\n",
      "               'Frederick Douglass, Harriet Tubman, and John Brown, and the '\n",
      "               'story of the massive migration of African Americans from the '\n",
      "               'rural South to the industrialized, urban North during the '\n",
      "               'early decades of the 20th century. After thorough research, '\n",
      "               'Lawrence chronicles the crucial events of each saga by '\n",
      "               'creating a series of small paintings on paper in a modernist '\n",
      "               'style of flat, brightly-colored forms.',\n",
      "  'birth_year': '1917',\n",
      "  'death_year': '2000',\n",
      "  'description': 'Jacob Lawrence (American, 1917-2000)',\n",
      "  'extent': None,\n",
      "  'id': 4050,\n",
      "  'name_in_original_language': None,\n",
      "  'qualifier': None,\n",
      "  'role': 'artist'}]\n"
     ]
    }
   ],
   "source": [
    "pprint.pprint(creator)"
   ]
  },
  {
   "cell_type": "code",
   "execution_count": 41,
   "metadata": {},
   "outputs": [],
   "source": [
    "camcollectionsdf['birthyear'] = camcollectionsdf.creators.apply(lambda x: x[0]['birth_year'])"
   ]
  },
  {
   "cell_type": "code",
   "execution_count": 42,
   "metadata": {},
   "outputs": [
    {
     "data": {
      "text/plain": [
       "1821    18\n",
       "1886     2\n",
       "1888     1\n",
       "1892    13\n",
       "1899    17\n",
       "Name: birthyear, dtype: int64"
      ]
     },
     "execution_count": 42,
     "metadata": {},
     "output_type": "execute_result"
    }
   ],
   "source": [
    "camcollectionsdf.birthyear.value_counts().sort_index().head()"
   ]
  },
  {
   "cell_type": "code",
   "execution_count": 43,
   "metadata": {},
   "outputs": [],
   "source": [
    "camcollectionsdf['birthyear'] = camcollectionsdf.creators.apply(lambda x: x[0]['birth_year'])"
   ]
  },
  {
   "cell_type": "markdown",
   "metadata": {},
   "source": [
    "## Importing data from web pages"
   ]
  },
  {
   "cell_type": "markdown",
   "metadata": {},
   "source": [
    "We scrape the COVID data from the website and do some routine data checks:"
   ]
  },
  {
   "cell_type": "code",
   "execution_count": 44,
   "metadata": {},
   "outputs": [],
   "source": [
    "import pandas as pd\n",
    "import numpy as np\n",
    "import json\n",
    "import pprint\n",
    "import requests\n",
    "from bs4 import BeautifulSoup"
   ]
  },
  {
   "cell_type": "code",
   "execution_count": 45,
   "metadata": {},
   "outputs": [],
   "source": [
    "#2.Parse the web page and get the header row of the table\n",
    "\n",
    "webpage = requests.get(\"http://www.alrb.org/datacleaning/covidcaseoutliers.html\")"
   ]
  },
  {
   "cell_type": "code",
   "execution_count": 46,
   "metadata": {},
   "outputs": [],
   "source": [
    "bs = BeautifulSoup(webpage.text, 'html.parser')"
   ]
  },
  {
   "cell_type": "code",
   "execution_count": 48,
   "metadata": {},
   "outputs": [],
   "source": [
    "theadrows = bs.find('table', {'id':'tblDeaths'}).thead.find_all('th')"
   ]
  },
  {
   "cell_type": "code",
   "execution_count": 49,
   "metadata": {},
   "outputs": [
    {
     "data": {
      "text/plain": [
       "bs4.element.ResultSet"
      ]
     },
     "execution_count": 49,
     "metadata": {},
     "output_type": "execute_result"
    }
   ],
   "source": [
    "type(theadrows)"
   ]
  },
  {
   "cell_type": "code",
   "execution_count": 50,
   "metadata": {},
   "outputs": [],
   "source": [
    "labelcols = [j.get_text() for j in theadrows]"
   ]
  },
  {
   "cell_type": "code",
   "execution_count": 51,
   "metadata": {},
   "outputs": [],
   "source": [
    "labelcols[0] = \"rowheadings\""
   ]
  },
  {
   "cell_type": "code",
   "execution_count": 52,
   "metadata": {},
   "outputs": [
    {
     "data": {
      "text/plain": [
       "['rowheadings',\n",
       " 'Cases',\n",
       " 'Deaths',\n",
       " 'Cases per Million',\n",
       " 'Deaths per Million',\n",
       " 'population',\n",
       " 'population_density',\n",
       " 'median_age',\n",
       " 'gdp_per_capita',\n",
       " 'hospital_beds_per_100k']"
      ]
     },
     "execution_count": 52,
     "metadata": {},
     "output_type": "execute_result"
    }
   ],
   "source": [
    "labelcols"
   ]
  },
  {
   "cell_type": "code",
   "execution_count": 53,
   "metadata": {},
   "outputs": [],
   "source": [
    "#3.Get the data from the table cells.\n",
    "# Find all of the table rows for the table we want\n",
    "\n",
    "rows = bs.find('table', {'id':'tblDeaths'}).tbody.find_all('tr')\n"
   ]
  },
  {
   "cell_type": "code",
   "execution_count": 54,
   "metadata": {},
   "outputs": [],
   "source": [
    "datarows = []\n",
    "labelrows = []\n",
    "\n",
    "for row in rows:\n",
    "    rowlabels = row.find('th').get_text()\n",
    "    cells = row.find_all('td', {'class':'data'})\n",
    "    if (len(rowlabels)>3):\n",
    "        labelrows.append(rowlabels)\n",
    "    \n",
    "    if (len(cells)>0):\n",
    "        cellvalues = [j.get_text() for j in cells]\n",
    "        datarows.append(cellvalues)\n",
    "        "
   ]
  },
  {
   "cell_type": "code",
   "execution_count": 55,
   "metadata": {},
   "outputs": [
    {
     "name": "stdout",
     "output_type": "stream",
     "text": [
      "[['9,394', '653', '214', '15', '43,851,043', '17', '29', '13,914', '1.9'],\n",
      " ['16,642', '668', '1848', '74', '9,006,400', '107', '44', '45,437', '7.4']]\n"
     ]
    }
   ],
   "source": [
    "pprint.pprint(datarows[0:2])"
   ]
  },
  {
   "cell_type": "code",
   "execution_count": 56,
   "metadata": {},
   "outputs": [
    {
     "name": "stdout",
     "output_type": "stream",
     "text": [
      "['Algeria', 'Austria']\n"
     ]
    }
   ],
   "source": [
    "pprint.pprint(labelrows[0:2])"
   ]
  },
  {
   "cell_type": "code",
   "execution_count": 57,
   "metadata": {},
   "outputs": [],
   "source": [
    "for i in range(len(datarows)):\n",
    "    datarows[i].insert(0, labelrows[i])\n",
    "    "
   ]
  },
  {
   "cell_type": "code",
   "execution_count": 58,
   "metadata": {},
   "outputs": [
    {
     "name": "stdout",
     "output_type": "stream",
     "text": [
      "[['Algeria',\n",
      "  '9,394',\n",
      "  '653',\n",
      "  '214',\n",
      "  '15',\n",
      "  '43,851,043',\n",
      "  '17',\n",
      "  '29',\n",
      "  '13,914',\n",
      "  '1.9']]\n"
     ]
    }
   ],
   "source": [
    "pprint.pprint(datarows[0:1])"
   ]
  },
  {
   "cell_type": "code",
   "execution_count": 59,
   "metadata": {},
   "outputs": [],
   "source": [
    "#4.Load the data into pandas\n",
    "totaldeaths = pd.DataFrame(datarows, columns=labelcols)\n"
   ]
  },
  {
   "cell_type": "code",
   "execution_count": 60,
   "metadata": {},
   "outputs": [
    {
     "data": {
      "text/html": [
       "<div>\n",
       "<style scoped>\n",
       "    .dataframe tbody tr th:only-of-type {\n",
       "        vertical-align: middle;\n",
       "    }\n",
       "\n",
       "    .dataframe tbody tr th {\n",
       "        vertical-align: top;\n",
       "    }\n",
       "\n",
       "    .dataframe thead th {\n",
       "        text-align: right;\n",
       "    }\n",
       "</style>\n",
       "<table border=\"1\" class=\"dataframe\">\n",
       "  <thead>\n",
       "    <tr style=\"text-align: right;\">\n",
       "      <th></th>\n",
       "      <th>rowheadings</th>\n",
       "      <th>Cases</th>\n",
       "      <th>Deaths</th>\n",
       "      <th>Cases per Million</th>\n",
       "      <th>Deaths per Million</th>\n",
       "      <th>population</th>\n",
       "      <th>population_density</th>\n",
       "      <th>median_age</th>\n",
       "      <th>gdp_per_capita</th>\n",
       "      <th>hospital_beds_per_100k</th>\n",
       "    </tr>\n",
       "  </thead>\n",
       "  <tbody>\n",
       "    <tr>\n",
       "      <th>0</th>\n",
       "      <td>Algeria</td>\n",
       "      <td>9,394</td>\n",
       "      <td>653</td>\n",
       "      <td>214</td>\n",
       "      <td>15</td>\n",
       "      <td>43,851,043</td>\n",
       "      <td>17</td>\n",
       "      <td>29</td>\n",
       "      <td>13,914</td>\n",
       "      <td>1.9</td>\n",
       "    </tr>\n",
       "    <tr>\n",
       "      <th>1</th>\n",
       "      <td>Austria</td>\n",
       "      <td>16,642</td>\n",
       "      <td>668</td>\n",
       "      <td>1848</td>\n",
       "      <td>74</td>\n",
       "      <td>9,006,400</td>\n",
       "      <td>107</td>\n",
       "      <td>44</td>\n",
       "      <td>45,437</td>\n",
       "      <td>7.4</td>\n",
       "    </tr>\n",
       "    <tr>\n",
       "      <th>2</th>\n",
       "      <td>Bangladesh</td>\n",
       "      <td>47,153</td>\n",
       "      <td>650</td>\n",
       "      <td>286</td>\n",
       "      <td>4</td>\n",
       "      <td>164,689,383</td>\n",
       "      <td>1265</td>\n",
       "      <td>28</td>\n",
       "      <td>3,524</td>\n",
       "      <td>0.8</td>\n",
       "    </tr>\n",
       "    <tr>\n",
       "      <th>3</th>\n",
       "      <td>Belgium</td>\n",
       "      <td>58,381</td>\n",
       "      <td>9467</td>\n",
       "      <td>5037</td>\n",
       "      <td>817</td>\n",
       "      <td>11,589,616</td>\n",
       "      <td>376</td>\n",
       "      <td>42</td>\n",
       "      <td>42,659</td>\n",
       "      <td>5.6</td>\n",
       "    </tr>\n",
       "    <tr>\n",
       "      <th>4</th>\n",
       "      <td>Brazil</td>\n",
       "      <td>514,849</td>\n",
       "      <td>29314</td>\n",
       "      <td>2422</td>\n",
       "      <td>138</td>\n",
       "      <td>212,559,409</td>\n",
       "      <td>25</td>\n",
       "      <td>34</td>\n",
       "      <td>14,103</td>\n",
       "      <td>2.2</td>\n",
       "    </tr>\n",
       "  </tbody>\n",
       "</table>\n",
       "</div>"
      ],
      "text/plain": [
       "  rowheadings    Cases Deaths Cases per Million Deaths per Million  \\\n",
       "0     Algeria    9,394    653               214                 15   \n",
       "1     Austria   16,642    668              1848                 74   \n",
       "2  Bangladesh   47,153    650               286                  4   \n",
       "3     Belgium   58,381   9467              5037                817   \n",
       "4      Brazil  514,849  29314              2422                138   \n",
       "\n",
       "    population population_density median_age gdp_per_capita  \\\n",
       "0   43,851,043                 17         29         13,914   \n",
       "1    9,006,400                107         44         45,437   \n",
       "2  164,689,383               1265         28          3,524   \n",
       "3   11,589,616                376         42         42,659   \n",
       "4  212,559,409                 25         34         14,103   \n",
       "\n",
       "  hospital_beds_per_100k  \n",
       "0                    1.9  \n",
       "1                    7.4  \n",
       "2                    0.8  \n",
       "3                    5.6  \n",
       "4                    2.2  "
      ]
     },
     "execution_count": 60,
     "metadata": {},
     "output_type": "execute_result"
    }
   ],
   "source": [
    "totaldeaths.head()"
   ]
  },
  {
   "cell_type": "code",
   "execution_count": 61,
   "metadata": {},
   "outputs": [
    {
     "data": {
      "text/plain": [
       "rowheadings               object\n",
       "Cases                     object\n",
       "Deaths                    object\n",
       "Cases per Million         object\n",
       "Deaths per Million        object\n",
       "population                object\n",
       "population_density        object\n",
       "median_age                object\n",
       "gdp_per_capita            object\n",
       "hospital_beds_per_100k    object\n",
       "dtype: object"
      ]
     },
     "execution_count": 61,
     "metadata": {},
     "output_type": "execute_result"
    }
   ],
   "source": [
    "totaldeaths.dtypes"
   ]
  },
  {
   "cell_type": "code",
   "execution_count": 62,
   "metadata": {},
   "outputs": [],
   "source": [
    "#5. Fix the column names and convert the data to numeric values\n",
    "# Remove spaces from column names.\n",
    "\n",
    "totaldeaths.columns = totaldeaths.columns.str.replace(\" \", \"_\").str.lower()\n"
   ]
  },
  {
   "cell_type": "code",
   "execution_count": 63,
   "metadata": {},
   "outputs": [],
   "source": [
    "for col in totaldeaths.columns[1:-1]:\n",
    "    totaldeaths[col] = totaldeaths[col].str.replace(\"[^0-9]\",\"\").astype('int64')\n",
    "    "
   ]
  },
  {
   "cell_type": "code",
   "execution_count": 64,
   "metadata": {},
   "outputs": [],
   "source": [
    "totaldeaths['hospital_beds_per_100k'] = totaldeaths['hospital_beds_per_100k'].astype('float')\n"
   ]
  },
  {
   "cell_type": "code",
   "execution_count": 65,
   "metadata": {},
   "outputs": [
    {
     "data": {
      "text/html": [
       "<div>\n",
       "<style scoped>\n",
       "    .dataframe tbody tr th:only-of-type {\n",
       "        vertical-align: middle;\n",
       "    }\n",
       "\n",
       "    .dataframe tbody tr th {\n",
       "        vertical-align: top;\n",
       "    }\n",
       "\n",
       "    .dataframe thead th {\n",
       "        text-align: right;\n",
       "    }\n",
       "</style>\n",
       "<table border=\"1\" class=\"dataframe\">\n",
       "  <thead>\n",
       "    <tr style=\"text-align: right;\">\n",
       "      <th></th>\n",
       "      <th>rowheadings</th>\n",
       "      <th>cases</th>\n",
       "      <th>deaths</th>\n",
       "      <th>cases_per_million</th>\n",
       "      <th>deaths_per_million</th>\n",
       "      <th>population</th>\n",
       "      <th>population_density</th>\n",
       "      <th>median_age</th>\n",
       "      <th>gdp_per_capita</th>\n",
       "      <th>hospital_beds_per_100k</th>\n",
       "    </tr>\n",
       "  </thead>\n",
       "  <tbody>\n",
       "    <tr>\n",
       "      <th>0</th>\n",
       "      <td>Algeria</td>\n",
       "      <td>9394</td>\n",
       "      <td>653</td>\n",
       "      <td>214</td>\n",
       "      <td>15</td>\n",
       "      <td>43851043</td>\n",
       "      <td>17</td>\n",
       "      <td>29</td>\n",
       "      <td>13914</td>\n",
       "      <td>1.9</td>\n",
       "    </tr>\n",
       "    <tr>\n",
       "      <th>1</th>\n",
       "      <td>Austria</td>\n",
       "      <td>16642</td>\n",
       "      <td>668</td>\n",
       "      <td>1848</td>\n",
       "      <td>74</td>\n",
       "      <td>9006400</td>\n",
       "      <td>107</td>\n",
       "      <td>44</td>\n",
       "      <td>45437</td>\n",
       "      <td>7.4</td>\n",
       "    </tr>\n",
       "    <tr>\n",
       "      <th>2</th>\n",
       "      <td>Bangladesh</td>\n",
       "      <td>47153</td>\n",
       "      <td>650</td>\n",
       "      <td>286</td>\n",
       "      <td>4</td>\n",
       "      <td>164689383</td>\n",
       "      <td>1265</td>\n",
       "      <td>28</td>\n",
       "      <td>3524</td>\n",
       "      <td>0.8</td>\n",
       "    </tr>\n",
       "    <tr>\n",
       "      <th>3</th>\n",
       "      <td>Belgium</td>\n",
       "      <td>58381</td>\n",
       "      <td>9467</td>\n",
       "      <td>5037</td>\n",
       "      <td>817</td>\n",
       "      <td>11589616</td>\n",
       "      <td>376</td>\n",
       "      <td>42</td>\n",
       "      <td>42659</td>\n",
       "      <td>5.6</td>\n",
       "    </tr>\n",
       "    <tr>\n",
       "      <th>4</th>\n",
       "      <td>Brazil</td>\n",
       "      <td>514849</td>\n",
       "      <td>29314</td>\n",
       "      <td>2422</td>\n",
       "      <td>138</td>\n",
       "      <td>212559409</td>\n",
       "      <td>25</td>\n",
       "      <td>34</td>\n",
       "      <td>14103</td>\n",
       "      <td>2.2</td>\n",
       "    </tr>\n",
       "  </tbody>\n",
       "</table>\n",
       "</div>"
      ],
      "text/plain": [
       "  rowheadings   cases  deaths  cases_per_million  deaths_per_million  \\\n",
       "0     Algeria    9394     653                214                  15   \n",
       "1     Austria   16642     668               1848                  74   \n",
       "2  Bangladesh   47153     650                286                   4   \n",
       "3     Belgium   58381    9467               5037                 817   \n",
       "4      Brazil  514849   29314               2422                 138   \n",
       "\n",
       "   population  population_density  median_age  gdp_per_capita  \\\n",
       "0    43851043                  17          29           13914   \n",
       "1     9006400                 107          44           45437   \n",
       "2   164689383                1265          28            3524   \n",
       "3    11589616                 376          42           42659   \n",
       "4   212559409                  25          34           14103   \n",
       "\n",
       "   hospital_beds_per_100k  \n",
       "0                     1.9  \n",
       "1                     7.4  \n",
       "2                     0.8  \n",
       "3                     5.6  \n",
       "4                     2.2  "
      ]
     },
     "execution_count": 65,
     "metadata": {},
     "output_type": "execute_result"
    }
   ],
   "source": [
    "totaldeaths.head()"
   ]
  },
  {
   "cell_type": "code",
   "execution_count": 66,
   "metadata": {},
   "outputs": [
    {
     "data": {
      "text/plain": [
       "rowheadings                object\n",
       "cases                       int64\n",
       "deaths                      int64\n",
       "cases_per_million           int64\n",
       "deaths_per_million          int64\n",
       "population                  int64\n",
       "population_density          int64\n",
       "median_age                  int64\n",
       "gdp_per_capita              int64\n",
       "hospital_beds_per_100k    float64\n",
       "dtype: object"
      ]
     },
     "execution_count": 66,
     "metadata": {},
     "output_type": "execute_result"
    }
   ],
   "source": [
    "totaldeaths.dtypes"
   ]
  },
  {
   "cell_type": "code",
   "execution_count": 67,
   "metadata": {},
   "outputs": [],
   "source": [
    "theadrows = bs.find('table', {'id':'tblDeaths'}).thead.find_all('th')"
   ]
  },
  {
   "cell_type": "code",
   "execution_count": 68,
   "metadata": {},
   "outputs": [],
   "source": [
    "labelcols = [j.get_text() for j in theadrows]"
   ]
  },
  {
   "cell_type": "code",
   "execution_count": 69,
   "metadata": {},
   "outputs": [],
   "source": [
    "for i in range(len(datarows)):\n",
    "    datarows[i].insert(0, labelrows[i])\n",
    "    "
   ]
  },
  {
   "cell_type": "markdown",
   "metadata": {},
   "source": [
    "## Persisting JSON data"
   ]
  },
  {
   "cell_type": "markdown",
   "metadata": {},
   "source": [
    "### We will serialize the JSON data using two different methods:"
   ]
  },
  {
   "cell_type": "code",
   "execution_count": 70,
   "metadata": {},
   "outputs": [],
   "source": [
    "#1.Load the pandas, json, pprint, requests, and msgpack libraries\n",
    "\n",
    "import pandas as pd\n",
    "import json\n",
    "import pprint\n",
    "import requests\n",
    "import msgpack"
   ]
  },
  {
   "cell_type": "code",
   "execution_count": 71,
   "metadata": {},
   "outputs": [],
   "source": [
    "#2.Load the JSON data from an API. I have abbreviated the JSON output\n",
    "response = requests.get(\"https://openaccess-api.clevelandart.org/api/artworks/?african_american_artists\")"
   ]
  },
  {
   "cell_type": "code",
   "execution_count": 72,
   "metadata": {},
   "outputs": [],
   "source": [
    "camcollections = json.loads(response.text)"
   ]
  },
  {
   "cell_type": "code",
   "execution_count": 73,
   "metadata": {},
   "outputs": [
    {
     "name": "stdout",
     "output_type": "stream",
     "text": [
      "796\n"
     ]
    }
   ],
   "source": [
    "print(len(camcollections['data']))"
   ]
  },
  {
   "cell_type": "code",
   "execution_count": 74,
   "metadata": {},
   "outputs": [
    {
     "name": "stdout",
     "output_type": "stream",
     "text": [
      "{'accession_number': '2007.158',\n",
      " 'catalogue_raisonne': None,\n",
      " 'citations': [{'citation': 'Annual Exhibition: Sculpture, Paintings, '\n",
      "                            'Watercolors, Drawings (New York: Whitney Museum '\n",
      "                            'of American Art, 1958).',\n",
      "                'page_number': 'Unpaginated, [8],[12]',\n",
      "                'url': None},\n",
      "               {'citation': '\"Moscow to See Modern U.S. Art,\"<em> New York '\n",
      "                            'Times</em> (May 31, 1959).',\n",
      "                'page_number': 'P. 60',\n",
      "                'url': None},\n",
      "               {'citation': 'Baur, John I. H. <em>Between the Fairs: 25 Years '\n",
      "                            'of America Art, 1939-1964.</em> New York. Whitney '\n",
      "                            'Museum. Catalogues. 1962-64. New York: Published '\n",
      "                            'for the Whitney Museum of American Art by F.A. '\n",
      "                            'Praeger, 1964.',\n",
      "                'page_number': 'P. 88',\n",
      "                'url': None},\n",
      "               {'citation': 'Kramer,Hilton. \"In the Museums,\" <em>Art in '\n",
      "                            'America</em> 52 (April 1964).',\n",
      "                'page_number': 'P. 42',\n",
      "                'url': None},\n",
      "               {'citation': 'Illustration for Victor S. Navasky, \"With Malice '\n",
      "                            'Toward All,\" <em>New York Times Book Review '\n",
      "                            '</em>(February 27, 1966).',\n",
      "                'page_number': 'P. 4',\n",
      "                'url': None},\n",
      "               {'citation': 'Chwast, Seymour, and Steven Heller. <em>The Art '\n",
      "                            'of New York</em>. New York: H.N. Abrams, 1983.',\n",
      "                'page_number': 'P. 18, 76',\n",
      "                'url': None},\n",
      "               {'citation': 'Berman,Avis. \"Jacob Lawrence and the Making of '\n",
      "                            'Americans,\" <em>ARTnews</em> 83 (February 1984).',\n",
      "                'page_number': 'P. 82',\n",
      "                'url': None},\n",
      "               {'citation': 'Wheat, Ellen Harkins, Jacob Lawrence, and '\n",
      "                            'Patricia Hills. <em>Jacob Lawrence, American '\n",
      "                            'Painter.</em> Seattle: University of Washington '\n",
      "                            'Press in association with the Seattle Art Museum, '\n",
      "                            '1986.',\n",
      "                'page_number': 'P. 107,129',\n",
      "                'url': None},\n",
      "               {'citation': \"Sotheby's (Firm). <em>American Impressionist \"\n",
      "                            '&amp; 20th Century Paintings, Drawings, '\n",
      "                            'Watercolors &amp; Sculpture</em>. May 29, 1981. '\n",
      "                            'Lot 182.',\n",
      "                'page_number': None,\n",
      "                'url': None},\n",
      "               {'citation': 'Glueck, Grace. <em>New York: The Painted '\n",
      "                            'City</em>. Salt Lake City: Peregrine Smith Books, '\n",
      "                            '1992.',\n",
      "                'page_number': 'P. 54',\n",
      "                'url': None},\n",
      "               {'citation': 'Stern, Robert A.M. et al., <em>New York 1960 '\n",
      "                            '</em>(New York: Monacelli Press, 1995).',\n",
      "                'page_number': 'P. 1164',\n",
      "                'url': None},\n",
      "               {'citation': 'Richard J. Powell, \"Harmonizer of Chaos,\" in '\n",
      "                            'Peter T. Nesbett and Michelle DuBois, eds., Over '\n",
      "                            'the Line: The Art and Life of Jacob Lawrence '\n",
      "                            '(Seattle: University of Washington, 2000).',\n",
      "                'page_number': 'P. 148-49',\n",
      "                'url': None},\n",
      "               {'citation': 'Nesbett, Peter T. and Michelle DuBois, <em>Jacob '\n",
      "                            'Lawrence: Paintings, Drawings, and Murals '\n",
      "                            '(1935-1999)</em>: <em>A Catalogue Raisonné.</em> '\n",
      "                            'Seattle: University of Washington, 2000.',\n",
      "                'page_number': 'P. 141',\n",
      "                'url': None},\n",
      "               {'citation': 'Wright, Gwendolyn. \"Permable Boundaries,\" in '\n",
      "                            'Peter Madsen and Richard Plunz, eds., <em>The '\n",
      "                            'Urban Lifeworld</em> (London: Routledge, 2002).',\n",
      "                'page_number': 'Reproduced p. 210',\n",
      "                'url': None},\n",
      "               {'citation': 'Kushner, Marilyn S.\"Exhibiting Art at the '\n",
      "                            'American National Exhibition in Moscow, 1959: '\n",
      "                            'Domestic Politics and Cultural Diplomacy,\" '\n",
      "                            '<em>Journal of Cold War Studies</em> 4 (Winter '\n",
      "                            '2002), 24.',\n",
      "                'page_number': 'P. 24',\n",
      "                'url': None},\n",
      "               {'citation': 'Hills, Patricia, and Melissa Renn. Syncopated '\n",
      "                            'Rhythms: 20th-Century African American Art from '\n",
      "                            'the George and Joyce Wein Collection. Boston: '\n",
      "                            'Boston University Art Gallery, 2005.',\n",
      "                'page_number': 'P. 64-65',\n",
      "                'url': None},\n",
      "               {'citation': '\"Harlem\\'s Knights: Extraordinary $2 Million '\n",
      "                            'Bequest for Lawrence Scholars Program,\"<em> '\n",
      "                            'Parsons re:D</em> 22 (May 2005).',\n",
      "                'page_number': 'P. 22',\n",
      "                'url': None},\n",
      "               {'citation': 'The Cleveland Museum of Art Annual Report (July '\n",
      "                            '1,2006- June 30, 2007).',\n",
      "                'page_number': 'P. 26-7, 32',\n",
      "                'url': None},\n",
      "               {'citation': \"Adams, Henry.<em> What's American About American \"\n",
      "                            'Art?: A Gallery Tour in the Cleveland Museum of '\n",
      "                            'Art.</em> Cleveland: Cleveland Museum of Art, '\n",
      "                            '2008.',\n",
      "                'page_number': 'P. 8,13, 144-145',\n",
      "                'url': None},\n",
      "               {'citation': 'Cole, Mark. \"Jacob Lawrence\\'s Fulton and '\n",
      "                            'Nostrand,\" <em>Cleveland Art</em> 48 (February '\n",
      "                            '2008).',\n",
      "                'page_number': 'P. 6-7; Reproduced p. 6.',\n",
      "                'url': None},\n",
      "               {'citation': 'Gordon, Margery. \"Eyes on the Prizes,\" Art + '\n",
      "                            'Auction 31 (February 2008).',\n",
      "                'page_number': 'Reproduced p. 117',\n",
      "                'url': None},\n",
      "               {'citation': 'Cleveland Museum of Art, David Franklin, and C. '\n",
      "                            'Griffith Mann. <em>Treasures from the Cleveland '\n",
      "                            'Museum of Art</em>. Cleveland, OH: Cleveland '\n",
      "                            'Museum of Art, 2012.',\n",
      "                'page_number': 'P. 322-23',\n",
      "                'url': None},\n",
      "               {'citation': 'Cole, Mark, Amy Sparks, and Rebecca Michaels.<em> '\n",
      "                            'African American Art: The Cleveland Museum of '\n",
      "                            'Art.</em> [Cleveland, Ohio]: Cleveland Museum of '\n",
      "                            'Art, 2013.',\n",
      "                'page_number': 'P. 3,18; Reproduced p. 22',\n",
      "                'url': None},\n",
      "               {'citation': 'Cole, Mark. \"American Art of the 1930s to 1950s,\" '\n",
      "                            '<em>Cleveland Art</em> 54 (January/February '\n",
      "                            '2014).',\n",
      "                'page_number': 'P. 21',\n",
      "                'url': None}],\n",
      " 'collection': 'American - Painting',\n",
      " 'copyright': '© The Jacob and Gwendolyn Knight Lawrence Foundation, Seattle / '\n",
      "              'Artists Rights Society (ARS), New York.',\n",
      " 'creation_date': '1958',\n",
      " 'creation_date_earliest': 1958,\n",
      " 'creation_date_latest': 1958,\n",
      " 'creators': [{'biography': 'Jacob Lawrence (born 1917) has been a prominent '\n",
      "                            'artist since 1941 when, at age 24, he became the '\n",
      "                            'first African American to have a work in the '\n",
      "                            'permanent collection of the Museum of Modern Art '\n",
      "                            'in New York. His career, now spanning seven '\n",
      "                            'decades, has been devoted to documenting '\n",
      "                            'African-American life and history, from everyday '\n",
      "                            'scenes to the universal struggle for freedom, '\n",
      "                            'social justice, and human dignity. Moving to '\n",
      "                            'Harlem as a teenager in 1930, Lawrence was '\n",
      "                            'influenced by the artists, writers, and '\n",
      "                            'philosophers of the Harlem Renaissance-among them '\n",
      "                            'Romare Bearden, Langston Hughes, and W.E.B. '\n",
      "                            'DuBois-who fostered pride in African-American '\n",
      "                            \"culture. Lawrence's subjects include the \"\n",
      "                            'legendary abolitionist heroes Frederick Douglass, '\n",
      "                            'Harriet Tubman, and John Brown, and the story of '\n",
      "                            'the massive migration of African Americans from '\n",
      "                            'the rural South to the industrialized, urban '\n",
      "                            'North during the early decades of the 20th '\n",
      "                            'century. After thorough research, Lawrence '\n",
      "                            'chronicles the crucial events of each saga by '\n",
      "                            'creating a series of small paintings on paper in '\n",
      "                            'a modernist style of flat, brightly-colored '\n",
      "                            'forms.',\n",
      "               'birth_year': '1917',\n",
      "               'death_year': '2000',\n",
      "               'description': 'Jacob Lawrence (American, 1917-2000)',\n",
      "               'extent': None,\n",
      "               'id': 4050,\n",
      "               'name_in_original_language': None,\n",
      "               'qualifier': None,\n",
      "               'role': 'artist'}],\n",
      " 'creditline': 'Mr. and Mrs. William H. Marlatt Fund',\n",
      " 'culture': ['America, 20th century'],\n",
      " 'current_location': '226B American Modern',\n",
      " 'department': 'American Painting and Sculpture',\n",
      " 'digital_description': 'Jacob Lawrence, who lived near this intersection of '\n",
      "                        'Fulton Street and Nostrand Avenue in Brooklyn, '\n",
      "                        'captured a dynamic scene of New York City life. He '\n",
      "                        'uses boldly colored, jagged shapes to present people '\n",
      "                        'rushing around this busy evening.',\n",
      " 'dimensions': {'unframed': {'height': 0.609, 'width': 0.762}},\n",
      " 'edition_of_the_work': None,\n",
      " 'exhibitions': {'current': [],\n",
      "                 'legacy': ['Annual Exhibition: Sculpture, Paintings, '\n",
      "                            'Watercolors, Drawings, Whitney Museum of American '\n",
      "                            'Art, New York, November 19. 1958-January 4, '\n",
      "                            '1959.<br><br>American Sculpture and Painting: '\n",
      "                            'American National Exhibition in Moscow, The '\n",
      "                            'Pushkin Museum of Fine Arts, Moscow, July '\n",
      "                            '25-September 5, 1959; Whitney Museum of American '\n",
      "                            'Art, New York, October 28-November 15, '\n",
      "                            '1959.<br><br>Between the Fairs: Twenty-Five Years '\n",
      "                            'of American Art, 1939-1964, Whitney Museum of '\n",
      "                            'American Art, New York, June 24-September 23, '\n",
      "                            '1964.<br><br>Contemporary Urban Visions, Wollman '\n",
      "                            'Hall, New School Art Center, New School for '\n",
      "                            'Social Research, New York, January 25-February '\n",
      "                            '24, 1966.<br><br>Crossing State Lines: '\n",
      "                            'Twentieth-Century Art from Private Collections in '\n",
      "                            'Westchester and Fairfield Counties, Neuberger '\n",
      "                            'Museum of Art, Purchase College, State University '\n",
      "                            'of New York, March 26-June 18, 1995.<br><br>Jacob '\n",
      "                            'Lawrence Memorial Exhibition: Paintings, '\n",
      "                            '1937-1999, DC Moore Gallery, New York, February '\n",
      "                            '6-March 3, 2001.<br><br>Syncopated Rhythms: '\n",
      "                            '20th-Century African American Art from the George '\n",
      "                            'and Joyce Wein Collection, Boston University Art '\n",
      "                            'Gallery, November 18, 2005-January 22, 2006.']},\n",
      " 'external_resources': {'internet_archive': [], 'wikidata': []},\n",
      " 'find_spot': None,\n",
      " 'former_accession_numbers': [],\n",
      " 'fun_fact': 'Lawrence was teaching art at the Pratt Institute in Brooklyn '\n",
      "             'when he created this painting.',\n",
      " 'id': 165157,\n",
      " 'images': None,\n",
      " 'inscriptions': [{'inscription': 'signed lower right \"Jacob Lawrence 58\"',\n",
      "                   'inscription_remark': None,\n",
      "                   'inscription_translation': None}],\n",
      " 'measurements': 'Unframed: 60.9 x 76.2 cm (24 x 30 in.)',\n",
      " 'provenance': [{'citations': [],\n",
      "                 'date': '1958',\n",
      "                 'description': '(The Alan Stone Gallery, New York, NY,  sold '\n",
      "                                'to Alexander and Sylvian Rittmaster)',\n",
      "                 'footnotes': ['Jacob Lawrence sold the painting directly to '\n",
      "                               'the Alan Gallery in 1958.']},\n",
      "                {'citations': [],\n",
      "                 'date': '1958-1981',\n",
      "                 'description': 'Alexander [1916-1969] and Sylvian Rittmaster '\n",
      "                                '[1917-1978], Woodmere, NY',\n",
      "                 'footnotes': ['Although Slyvian Rittmaster died in 1978, the '\n",
      "                               '1981 Sotheby Parke Bernet catalogue lists the '\n",
      "                               'painting as coming from their collection, '\n",
      "                               \"hence listing the painting's dates with the \"\n",
      "                               'Rittmasters as ending with 1981 rather than '\n",
      "                               '1978.']},\n",
      "                {'citations': [],\n",
      "                 'date': '1981-1983?',\n",
      "                 'description': '(Sotheby Park Bernet, New York, NY, May '\n",
      "                                '29,1981, lot 182, sold to the Terry '\n",
      "                                'Dintenfass Gallery)',\n",
      "                 'footnotes': None},\n",
      "                {'citations': [],\n",
      "                 'date': '1983',\n",
      "                 'description': '(Terry Dintenfass Gallery, New York, NY, sold '\n",
      "                                'to George and Joyce Wein)',\n",
      "                 'footnotes': []},\n",
      "                {'citations': [],\n",
      "                 'date': '1983-2007',\n",
      "                 'description': 'George [b. 1925] and Joyce [1928-2005] Wein, '\n",
      "                                'New York, NY, consigned to the Michael '\n",
      "                                'Rosenfeld Gallery',\n",
      "                 'footnotes': []},\n",
      "                {'citations': [],\n",
      "                 'date': '2007',\n",
      "                 'description': '(Michael Rosenfeld Gallery, New York, NY, '\n",
      "                                'sold to the Cleveland Museum of Art)',\n",
      "                 'footnotes': None},\n",
      "                {'citations': [],\n",
      "                 'date': '2007-',\n",
      "                 'description': 'The Cleveland Museum of Art, Cleveland, OH',\n",
      "                 'footnotes': []}],\n",
      " 'related_works': [],\n",
      " 'series': None,\n",
      " 'series_in_original_language': None,\n",
      " 'share_license_status': 'Copyrighted',\n",
      " 'state_of_the_work': None,\n",
      " 'support_materials': [],\n",
      " 'technique': 'tempera on Masonite',\n",
      " 'title': 'Fulton and Nostrand',\n",
      " 'title_in_original_language': None,\n",
      " 'tombstone': 'Fulton and Nostrand, 1958. Jacob Lawrence (American, '\n",
      "              '1917-2000). Tempera on Masonite; unframed: 60.9 x 76.2 cm (24 x '\n",
      "              '30 in.). The Cleveland Museum of Art, Mr. and Mrs. William H. '\n",
      "              'Marlatt Fund 2007.158 © The Jacob and Gwendolyn Knight Lawrence '\n",
      "              'Foundation, Seattle / Artists Rights Society (ARS), New York.',\n",
      " 'type': 'Painting',\n",
      " 'updated_at': '2020-11-04 21:59:24.646000',\n",
      " 'url': 'https://clevelandart.org/art/2007.158',\n",
      " 'wall_description': 'Having moved to Harlem as a teenager, Lawrence would '\n",
      "                     'become the first major artist trained entirely within '\n",
      "                     'the neighborhood’s African American community. '\n",
      "                     'Throughout his long career he believed art should be a '\n",
      "                     'quest for both self and social identity, a notion '\n",
      "                     'reflected in this work, one of his liveliest and largest '\n",
      "                     'paintings. Teeming with more than forty figures, it '\n",
      "                     'depicts the vibrant streetscape at the intersection of '\n",
      "                     'Fulton Street (now Harriet Tubman Avenue) and Nostrand '\n",
      "                     'Avenue in Brooklyn, near where the artist lived at the '\n",
      "                     'time.'}\n"
     ]
    }
   ],
   "source": [
    "pprint.pprint(camcollections['data'][0])"
   ]
  },
  {
   "cell_type": "code",
   "execution_count": 75,
   "metadata": {},
   "outputs": [],
   "source": [
    "#3.Save and reload the JSON file using Python's json library\n",
    "\n",
    "with open(\"data/camcollections.json\",\"w\") as f:\n",
    "    json.dump(camcollections, f)"
   ]
  },
  {
   "cell_type": "code",
   "execution_count": 76,
   "metadata": {},
   "outputs": [],
   "source": [
    "with open(\"data/camcollections.json\",\"r\") as f:\n",
    "    camcollections = json.load(f)\n",
    "    "
   ]
  },
  {
   "cell_type": "code",
   "execution_count": 77,
   "metadata": {},
   "outputs": [
    {
     "name": "stdout",
     "output_type": "stream",
     "text": [
      "[{'biography': 'Jacob Lawrence (born 1917) has been a prominent artist since '\n",
      "               '1941 when, at age 24, he became the first African American to '\n",
      "               'have a work in the permanent collection of the Museum of '\n",
      "               'Modern Art in New York. His career, now spanning seven '\n",
      "               'decades, has been devoted to documenting African-American life '\n",
      "               'and history, from everyday scenes to the universal struggle '\n",
      "               'for freedom, social justice, and human dignity. Moving to '\n",
      "               'Harlem as a teenager in 1930, Lawrence was influenced by the '\n",
      "               'artists, writers, and philosophers of the Harlem '\n",
      "               'Renaissance-among them Romare Bearden, Langston Hughes, and '\n",
      "               'W.E.B. DuBois-who fostered pride in African-American culture. '\n",
      "               \"Lawrence's subjects include the legendary abolitionist heroes \"\n",
      "               'Frederick Douglass, Harriet Tubman, and John Brown, and the '\n",
      "               'story of the massive migration of African Americans from the '\n",
      "               'rural South to the industrialized, urban North during the '\n",
      "               'early decades of the 20th century. After thorough research, '\n",
      "               'Lawrence chronicles the crucial events of each saga by '\n",
      "               'creating a series of small paintings on paper in a modernist '\n",
      "               'style of flat, brightly-colored forms.',\n",
      "  'birth_year': '1917',\n",
      "  'death_year': '2000',\n",
      "  'description': 'Jacob Lawrence (American, 1917-2000)',\n",
      "  'extent': None,\n",
      "  'id': 4050,\n",
      "  'name_in_original_language': None,\n",
      "  'qualifier': None,\n",
      "  'role': 'artist'}]\n"
     ]
    }
   ],
   "source": [
    "pprint.pprint(camcollections['data'][0]['creators'])"
   ]
  },
  {
   "cell_type": "code",
   "execution_count": 78,
   "metadata": {},
   "outputs": [],
   "source": [
    "#4.Save and reload the JSON file using msgpack\n",
    "with open(\"data/camcollections.msgpack\", \"wb\") as outfile:\n",
    "    packed = msgpack.packb(camcollections)\n",
    "    outfile.write(packed)\n",
    "    "
   ]
  },
  {
   "cell_type": "code",
   "execution_count": 79,
   "metadata": {},
   "outputs": [],
   "source": [
    "\n",
    "with open(\"data/camcollections.msgpack\", \"rb\") as data_file:\n",
    "    msgbytes = data_file.read()"
   ]
  },
  {
   "cell_type": "code",
   "execution_count": 80,
   "metadata": {},
   "outputs": [],
   "source": [
    "camcollections = msgpack.unpackb(msgbytes)"
   ]
  },
  {
   "cell_type": "code",
   "execution_count": 81,
   "metadata": {},
   "outputs": [
    {
     "name": "stdout",
     "output_type": "stream",
     "text": [
      "[{'biography': 'Jacob Lawrence (born 1917) has been a prominent artist since '\n",
      "               '1941 when, at age 24, he became the first African American to '\n",
      "               'have a work in the permanent collection of the Museum of '\n",
      "               'Modern Art in New York. His career, now spanning seven '\n",
      "               'decades, has been devoted to documenting African-American life '\n",
      "               'and history, from everyday scenes to the universal struggle '\n",
      "               'for freedom, social justice, and human dignity. Moving to '\n",
      "               'Harlem as a teenager in 1930, Lawrence was influenced by the '\n",
      "               'artists, writers, and philosophers of the Harlem '\n",
      "               'Renaissance-among them Romare Bearden, Langston Hughes, and '\n",
      "               'W.E.B. DuBois-who fostered pride in African-American culture. '\n",
      "               \"Lawrence's subjects include the legendary abolitionist heroes \"\n",
      "               'Frederick Douglass, Harriet Tubman, and John Brown, and the '\n",
      "               'story of the massive migration of African Americans from the '\n",
      "               'rural South to the industrialized, urban North during the '\n",
      "               'early decades of the 20th century. After thorough research, '\n",
      "               'Lawrence chronicles the crucial events of each saga by '\n",
      "               'creating a series of small paintings on paper in a modernist '\n",
      "               'style of flat, brightly-colored forms.',\n",
      "  'birth_year': '1917',\n",
      "  'death_year': '2000',\n",
      "  'description': 'Jacob Lawrence (American, 1917-2000)',\n",
      "  'extent': None,\n",
      "  'id': 4050,\n",
      "  'name_in_original_language': None,\n",
      "  'qualifier': None,\n",
      "  'role': 'artist'}]\n"
     ]
    }
   ],
   "source": [
    "pprint.pprint(camcollections['data'][0]['creators'])"
   ]
  },
  {
   "cell_type": "code",
   "execution_count": null,
   "metadata": {},
   "outputs": [],
   "source": []
  }
 ],
 "metadata": {
  "kernelspec": {
   "display_name": "Python 3",
   "language": "python",
   "name": "python3"
  },
  "language_info": {
   "codemirror_mode": {
    "name": "ipython",
    "version": 3
   },
   "file_extension": ".py",
   "mimetype": "text/x-python",
   "name": "python",
   "nbconvert_exporter": "python",
   "pygments_lexer": "ipython3",
   "version": "3.8.3"
  }
 },
 "nbformat": 4,
 "nbformat_minor": 4
}
